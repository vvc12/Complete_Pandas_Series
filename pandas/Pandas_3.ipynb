{
 "cells": [
  {
   "cell_type": "markdown",
   "id": "d038f1ab-feb6-4aad-84e2-fd563ffb1eaa",
   "metadata": {},
   "source": [
    "# Pandas_3 Writing,Reading into excel,csv etc Files"
   ]
  },
  {
   "cell_type": "code",
   "execution_count": 1,
   "id": "1ffaa6c5-822a-46f1-bcd8-c3ce6396e3fe",
   "metadata": {},
   "outputs": [
    {
     "data": {
      "text/html": [
       "<iframe width=\"560\" height=\"315\" src=\"https://www.youtube.com/embed/-0NwrcZOKhQ?si=iv01saQvo0xcmGj9\" title=\"YouTube video player\" frameborder=\"0\" allow=\"accelerometer; autoplay; clipboard-write; encrypted-media; gyroscope; picture-in-picture; web-share\" referrerpolicy=\"strict-origin-when-cross-origin\" allowfullscreen></iframe>\n"
      ],
      "text/plain": [
       "<IPython.core.display.HTML object>"
      ]
     },
     "metadata": {},
     "output_type": "display_data"
    }
   ],
   "source": [
    "%%HTML\n",
    "<iframe width=\"560\" height=\"315\" src=\"https://www.youtube.com/embed/-0NwrcZOKhQ?si=iv01saQvo0xcmGj9\" title=\"YouTube video player\" frameborder=\"0\" allow=\"accelerometer; autoplay; clipboard-write; encrypted-media; gyroscope; picture-in-picture; web-share\" referrerpolicy=\"strict-origin-when-cross-origin\" allowfullscreen></iframe>"
   ]
  },
  {
   "cell_type": "markdown",
   "id": "554a5bba-8417-49bf-8311-4da2fe4df2e9",
   "metadata": {},
   "source": [
    "**Here I dont have above file prescribed in youtube i wrote an dataframe and using it to extract a csv file**"
   ]
  },
  {
   "cell_type": "code",
   "execution_count": 26,
   "id": "7389d278-fe8b-4435-a13f-941783fdf243",
   "metadata": {},
   "outputs": [
    {
     "data": {
      "text/html": [
       "<div>\n",
       "<style scoped>\n",
       "    .dataframe tbody tr th:only-of-type {\n",
       "        vertical-align: middle;\n",
       "    }\n",
       "\n",
       "    .dataframe tbody tr th {\n",
       "        vertical-align: top;\n",
       "    }\n",
       "\n",
       "    .dataframe thead th {\n",
       "        text-align: right;\n",
       "    }\n",
       "</style>\n",
       "<table border=\"1\" class=\"dataframe\">\n",
       "  <thead>\n",
       "    <tr style=\"text-align: right;\">\n",
       "      <th></th>\n",
       "      <th>Tickers</th>\n",
       "      <th>EPS</th>\n",
       "      <th>Revenue</th>\n",
       "      <th>Price</th>\n",
       "      <th>People</th>\n",
       "    </tr>\n",
       "  </thead>\n",
       "  <tbody>\n",
       "    <tr>\n",
       "      <th>0</th>\n",
       "      <td>GOOGL</td>\n",
       "      <td>27.82</td>\n",
       "      <td>88</td>\n",
       "      <td>87</td>\n",
       "      <td>larry page</td>\n",
       "    </tr>\n",
       "    <tr>\n",
       "      <th>1</th>\n",
       "      <td>WMT</td>\n",
       "      <td>4.61</td>\n",
       "      <td>484</td>\n",
       "      <td>65</td>\n",
       "      <td>n.a.</td>\n",
       "    </tr>\n",
       "    <tr>\n",
       "      <th>2</th>\n",
       "      <td>MSFT</td>\n",
       "      <td>-1</td>\n",
       "      <td>85</td>\n",
       "      <td>64</td>\n",
       "      <td>bill gates</td>\n",
       "    </tr>\n",
       "    <tr>\n",
       "      <th>3</th>\n",
       "      <td>RIL</td>\n",
       "      <td>not available</td>\n",
       "      <td>50</td>\n",
       "      <td>1023</td>\n",
       "      <td>mukesh ambani</td>\n",
       "    </tr>\n",
       "    <tr>\n",
       "      <th>4</th>\n",
       "      <td>TATA</td>\n",
       "      <td>5.6</td>\n",
       "      <td>-1</td>\n",
       "      <td>n.a</td>\n",
       "      <td>ratan tata</td>\n",
       "    </tr>\n",
       "  </tbody>\n",
       "</table>\n",
       "</div>"
      ],
      "text/plain": [
       "  Tickers            EPS  Revenue Price         People\n",
       "0   GOOGL          27.82       88    87     larry page\n",
       "1     WMT           4.61      484    65           n.a.\n",
       "2    MSFT             -1       85    64     bill gates\n",
       "3     RIL  not available       50  1023  mukesh ambani\n",
       "4    TATA            5.6       -1   n.a     ratan tata"
      ]
     },
     "execution_count": 26,
     "metadata": {},
     "output_type": "execute_result"
    }
   ],
   "source": [
    "import pandas as pd\n",
    "df=pd.DataFrame({\n",
    "    'Tickers': ['GOOGL', 'WMT', 'MSFT', 'RIL', 'TATA'],\n",
    "    'EPS': [27.82, 4.61, -1, 'not available', 5.6],\n",
    "    'Revenue': [88, 484, 85, 50, -1],\n",
    "    'Price': [87, 65, 64, 1023,'n.a'],\n",
    "    'People': ['larry page', 'n.a.', 'bill gates', 'mukesh ambani', 'ratan tata']\n",
    "\n",
    "})\n",
    "df"
   ]
  },
  {
   "cell_type": "code",
   "execution_count": 4,
   "id": "f4e6b7c4-e245-42b0-afa2-c4203c26f7d9",
   "metadata": {},
   "outputs": [],
   "source": [
    "df.to_csv('stocks_data.csv',index=False)"
   ]
  },
  {
   "cell_type": "markdown",
   "id": "dc823b73-2c78-4a57-8546-d690449c1de4",
   "metadata": {},
   "source": [
    "# Now the Lecture Starts\n"
   ]
  },
  {
   "cell_type": "markdown",
   "id": "0b81b3b9-bdac-4e56-943a-aa3f82cdc3d9",
   "metadata": {},
   "source": [
    "**here we added an extra row to csv file Stocks Data and we have to skip that and apply it to current csv file**"
   ]
  },
  {
   "cell_type": "code",
   "execution_count": 7,
   "id": "36d2e99e-4d15-4295-bb80-21c3925f3038",
   "metadata": {},
   "outputs": [
    {
     "data": {
      "text/html": [
       "<div>\n",
       "<style scoped>\n",
       "    .dataframe tbody tr th:only-of-type {\n",
       "        vertical-align: middle;\n",
       "    }\n",
       "\n",
       "    .dataframe tbody tr th {\n",
       "        vertical-align: top;\n",
       "    }\n",
       "\n",
       "    .dataframe thead th {\n",
       "        text-align: right;\n",
       "    }\n",
       "</style>\n",
       "<table border=\"1\" class=\"dataframe\">\n",
       "  <thead>\n",
       "    <tr style=\"text-align: right;\">\n",
       "      <th></th>\n",
       "      <th>Stocks Data</th>\n",
       "      <th>Unnamed: 1</th>\n",
       "      <th>Unnamed: 2</th>\n",
       "      <th>Unnamed: 3</th>\n",
       "      <th>Unnamed: 4</th>\n",
       "    </tr>\n",
       "  </thead>\n",
       "  <tbody>\n",
       "    <tr>\n",
       "      <th>0</th>\n",
       "      <td>Tinkers</td>\n",
       "      <td>EPS</td>\n",
       "      <td>Revenue</td>\n",
       "      <td>Price</td>\n",
       "      <td>People</td>\n",
       "    </tr>\n",
       "    <tr>\n",
       "      <th>1</th>\n",
       "      <td>GOOGL</td>\n",
       "      <td>27.82</td>\n",
       "      <td>88</td>\n",
       "      <td>87</td>\n",
       "      <td>larry page</td>\n",
       "    </tr>\n",
       "    <tr>\n",
       "      <th>2</th>\n",
       "      <td>WMT</td>\n",
       "      <td>4.61</td>\n",
       "      <td>484</td>\n",
       "      <td>65</td>\n",
       "      <td>n.a.</td>\n",
       "    </tr>\n",
       "    <tr>\n",
       "      <th>3</th>\n",
       "      <td>MSFT</td>\n",
       "      <td>-1</td>\n",
       "      <td>85</td>\n",
       "      <td>64</td>\n",
       "      <td>bill gates</td>\n",
       "    </tr>\n",
       "    <tr>\n",
       "      <th>4</th>\n",
       "      <td>RIL</td>\n",
       "      <td>not available</td>\n",
       "      <td>50</td>\n",
       "      <td>1023</td>\n",
       "      <td>mukesh ambani</td>\n",
       "    </tr>\n",
       "    <tr>\n",
       "      <th>5</th>\n",
       "      <td>TATA</td>\n",
       "      <td>5.6</td>\n",
       "      <td>-1</td>\n",
       "      <td>n.a</td>\n",
       "      <td>ratan tata</td>\n",
       "    </tr>\n",
       "  </tbody>\n",
       "</table>\n",
       "</div>"
      ],
      "text/plain": [
       "  Stocks Data     Unnamed: 1 Unnamed: 2 Unnamed: 3     Unnamed: 4\n",
       "0     Tinkers            EPS    Revenue      Price         People\n",
       "1       GOOGL          27.82         88         87     larry page\n",
       "2         WMT           4.61        484         65           n.a.\n",
       "3        MSFT             -1         85         64     bill gates\n",
       "4         RIL  not available         50       1023  mukesh ambani\n",
       "5        TATA            5.6         -1        n.a     ratan tata"
      ]
     },
     "execution_count": 7,
     "metadata": {},
     "output_type": "execute_result"
    }
   ],
   "source": [
    "df2=pd.read_csv(\"stocks_data.csv\")\n",
    "df2"
   ]
  },
  {
   "cell_type": "code",
   "execution_count": 14,
   "id": "a565fd59-a224-4c65-b4b4-0ac2c758c86d",
   "metadata": {},
   "outputs": [],
   "source": [
    "df3=pd.read_csv(\"stocks_data.csv\",skiprows=1) #(also does the same thing in place of skiprows=1 we can apply header=1)"
   ]
  },
  {
   "cell_type": "code",
   "execution_count": 15,
   "id": "49a64ff8-82dc-40ae-8be6-600a3e675d9c",
   "metadata": {},
   "outputs": [
    {
     "data": {
      "text/html": [
       "<div>\n",
       "<style scoped>\n",
       "    .dataframe tbody tr th:only-of-type {\n",
       "        vertical-align: middle;\n",
       "    }\n",
       "\n",
       "    .dataframe tbody tr th {\n",
       "        vertical-align: top;\n",
       "    }\n",
       "\n",
       "    .dataframe thead th {\n",
       "        text-align: right;\n",
       "    }\n",
       "</style>\n",
       "<table border=\"1\" class=\"dataframe\">\n",
       "  <thead>\n",
       "    <tr style=\"text-align: right;\">\n",
       "      <th></th>\n",
       "      <th>Tinkers</th>\n",
       "      <th>EPS</th>\n",
       "      <th>Revenue</th>\n",
       "      <th>Price</th>\n",
       "      <th>People</th>\n",
       "    </tr>\n",
       "  </thead>\n",
       "  <tbody>\n",
       "    <tr>\n",
       "      <th>0</th>\n",
       "      <td>GOOGL</td>\n",
       "      <td>27.82</td>\n",
       "      <td>88</td>\n",
       "      <td>87</td>\n",
       "      <td>larry page</td>\n",
       "    </tr>\n",
       "    <tr>\n",
       "      <th>1</th>\n",
       "      <td>WMT</td>\n",
       "      <td>4.61</td>\n",
       "      <td>484</td>\n",
       "      <td>65</td>\n",
       "      <td>n.a.</td>\n",
       "    </tr>\n",
       "    <tr>\n",
       "      <th>2</th>\n",
       "      <td>MSFT</td>\n",
       "      <td>-1</td>\n",
       "      <td>85</td>\n",
       "      <td>64</td>\n",
       "      <td>bill gates</td>\n",
       "    </tr>\n",
       "    <tr>\n",
       "      <th>3</th>\n",
       "      <td>RIL</td>\n",
       "      <td>not available</td>\n",
       "      <td>50</td>\n",
       "      <td>1023</td>\n",
       "      <td>mukesh ambani</td>\n",
       "    </tr>\n",
       "    <tr>\n",
       "      <th>4</th>\n",
       "      <td>TATA</td>\n",
       "      <td>5.6</td>\n",
       "      <td>-1</td>\n",
       "      <td>n.a</td>\n",
       "      <td>ratan tata</td>\n",
       "    </tr>\n",
       "  </tbody>\n",
       "</table>\n",
       "</div>"
      ],
      "text/plain": [
       "   Tinkers            EPS  Revenue Price         People\n",
       "0    GOOGL          27.82       88    87     larry page\n",
       "1      WMT           4.61      484    65           n.a.\n",
       "2     MSFT             -1       85    64     bill gates\n",
       "3      RIL  not available       50  1023  mukesh ambani\n",
       "4     TATA            5.6       -1   n.a     ratan tata"
      ]
     },
     "execution_count": 15,
     "metadata": {},
     "output_type": "execute_result"
    }
   ],
   "source": [
    "df3"
   ]
  },
  {
   "cell_type": "markdown",
   "id": "47bb181f-d97d-4db6-8043-d2d214487434",
   "metadata": {},
   "source": [
    "**observe the difference btw above 2 steps i.e btw df2 and df3**"
   ]
  },
  {
   "cell_type": "markdown",
   "id": "68fd5b1c-80bf-47b7-8c4f-bc58500d3ac5",
   "metadata": {},
   "source": [
    "*now the case if header is not existing*"
   ]
  },
  {
   "cell_type": "code",
   "execution_count": 19,
   "id": "7bc32b26-da73-46c6-8b88-16042e3f0d14",
   "metadata": {},
   "outputs": [
    {
     "data": {
      "text/html": [
       "<div>\n",
       "<style scoped>\n",
       "    .dataframe tbody tr th:only-of-type {\n",
       "        vertical-align: middle;\n",
       "    }\n",
       "\n",
       "    .dataframe tbody tr th {\n",
       "        vertical-align: top;\n",
       "    }\n",
       "\n",
       "    .dataframe thead th {\n",
       "        text-align: right;\n",
       "    }\n",
       "</style>\n",
       "<table border=\"1\" class=\"dataframe\">\n",
       "  <thead>\n",
       "    <tr style=\"text-align: right;\">\n",
       "      <th></th>\n",
       "      <th>GOOGL</th>\n",
       "      <th>27.82</th>\n",
       "      <th>88</th>\n",
       "      <th>87</th>\n",
       "      <th>larry page</th>\n",
       "    </tr>\n",
       "  </thead>\n",
       "  <tbody>\n",
       "    <tr>\n",
       "      <th>0</th>\n",
       "      <td>WMT</td>\n",
       "      <td>4.61</td>\n",
       "      <td>484</td>\n",
       "      <td>65</td>\n",
       "      <td>n.a.</td>\n",
       "    </tr>\n",
       "    <tr>\n",
       "      <th>1</th>\n",
       "      <td>MSFT</td>\n",
       "      <td>-1</td>\n",
       "      <td>85</td>\n",
       "      <td>64</td>\n",
       "      <td>bill gates</td>\n",
       "    </tr>\n",
       "    <tr>\n",
       "      <th>2</th>\n",
       "      <td>RIL</td>\n",
       "      <td>not available</td>\n",
       "      <td>50</td>\n",
       "      <td>1023</td>\n",
       "      <td>mukesh ambani</td>\n",
       "    </tr>\n",
       "    <tr>\n",
       "      <th>3</th>\n",
       "      <td>TATA</td>\n",
       "      <td>5.6</td>\n",
       "      <td>-1</td>\n",
       "      <td>n.a</td>\n",
       "      <td>ratan tata</td>\n",
       "    </tr>\n",
       "  </tbody>\n",
       "</table>\n",
       "</div>"
      ],
      "text/plain": [
       "  GOOGL          27.82   88    87     larry page\n",
       "0   WMT           4.61  484    65           n.a.\n",
       "1  MSFT             -1   85    64     bill gates\n",
       "2   RIL  not available   50  1023  mukesh ambani\n",
       "3  TATA            5.6   -1   n.a     ratan tata"
      ]
     },
     "execution_count": 19,
     "metadata": {},
     "output_type": "execute_result"
    }
   ],
   "source": [
    "df4=pd.read_csv(\"stocks_data.csv\")\n",
    "df4 #here when you do normally googl,27.82 etc are appearing in the rows which is wrong as it is part of our data it musnt be a header"
   ]
  },
  {
   "cell_type": "code",
   "execution_count": 21,
   "id": "ccb1e640-04e8-45ed-b617-bcdae02a3bff",
   "metadata": {},
   "outputs": [
    {
     "data": {
      "text/html": [
       "<div>\n",
       "<style scoped>\n",
       "    .dataframe tbody tr th:only-of-type {\n",
       "        vertical-align: middle;\n",
       "    }\n",
       "\n",
       "    .dataframe tbody tr th {\n",
       "        vertical-align: top;\n",
       "    }\n",
       "\n",
       "    .dataframe thead th {\n",
       "        text-align: right;\n",
       "    }\n",
       "</style>\n",
       "<table border=\"1\" class=\"dataframe\">\n",
       "  <thead>\n",
       "    <tr style=\"text-align: right;\">\n",
       "      <th></th>\n",
       "      <th>0</th>\n",
       "      <th>1</th>\n",
       "      <th>2</th>\n",
       "      <th>3</th>\n",
       "      <th>4</th>\n",
       "    </tr>\n",
       "  </thead>\n",
       "  <tbody>\n",
       "    <tr>\n",
       "      <th>0</th>\n",
       "      <td>GOOGL</td>\n",
       "      <td>27.82</td>\n",
       "      <td>88</td>\n",
       "      <td>87</td>\n",
       "      <td>larry page</td>\n",
       "    </tr>\n",
       "    <tr>\n",
       "      <th>1</th>\n",
       "      <td>WMT</td>\n",
       "      <td>4.61</td>\n",
       "      <td>484</td>\n",
       "      <td>65</td>\n",
       "      <td>n.a.</td>\n",
       "    </tr>\n",
       "    <tr>\n",
       "      <th>2</th>\n",
       "      <td>MSFT</td>\n",
       "      <td>-1</td>\n",
       "      <td>85</td>\n",
       "      <td>64</td>\n",
       "      <td>bill gates</td>\n",
       "    </tr>\n",
       "    <tr>\n",
       "      <th>3</th>\n",
       "      <td>RIL</td>\n",
       "      <td>not available</td>\n",
       "      <td>50</td>\n",
       "      <td>1023</td>\n",
       "      <td>mukesh ambani</td>\n",
       "    </tr>\n",
       "    <tr>\n",
       "      <th>4</th>\n",
       "      <td>TATA</td>\n",
       "      <td>5.6</td>\n",
       "      <td>-1</td>\n",
       "      <td>n.a</td>\n",
       "      <td>ratan tata</td>\n",
       "    </tr>\n",
       "  </tbody>\n",
       "</table>\n",
       "</div>"
      ],
      "text/plain": [
       "       0              1    2     3              4\n",
       "0  GOOGL          27.82   88    87     larry page\n",
       "1    WMT           4.61  484    65           n.a.\n",
       "2   MSFT             -1   85    64     bill gates\n",
       "3    RIL  not available   50  1023  mukesh ambani\n",
       "4   TATA            5.6   -1   n.a     ratan tata"
      ]
     },
     "execution_count": 21,
     "metadata": {},
     "output_type": "execute_result"
    }
   ],
   "source": [
    "df5=pd.read_csv(\"stocks_data.csv\",header=None)\n",
    "df5 \n",
    "#here as you see the header is not there to our csv file so this effect must take place but here 0,1,2,3,4 are not suggestible or bad so we have to change the names of header"
   ]
  },
  {
   "cell_type": "code",
   "execution_count": 23,
   "id": "67806243-5ddc-42b2-b335-9b45c4b207c0",
   "metadata": {},
   "outputs": [
    {
     "data": {
      "text/html": [
       "<div>\n",
       "<style scoped>\n",
       "    .dataframe tbody tr th:only-of-type {\n",
       "        vertical-align: middle;\n",
       "    }\n",
       "\n",
       "    .dataframe tbody tr th {\n",
       "        vertical-align: top;\n",
       "    }\n",
       "\n",
       "    .dataframe thead th {\n",
       "        text-align: right;\n",
       "    }\n",
       "</style>\n",
       "<table border=\"1\" class=\"dataframe\">\n",
       "  <thead>\n",
       "    <tr style=\"text-align: right;\">\n",
       "      <th></th>\n",
       "      <th>Tickers</th>\n",
       "      <th>EPS</th>\n",
       "      <th>Revenue</th>\n",
       "      <th>Price</th>\n",
       "      <th>People</th>\n",
       "    </tr>\n",
       "  </thead>\n",
       "  <tbody>\n",
       "    <tr>\n",
       "      <th>0</th>\n",
       "      <td>GOOGL</td>\n",
       "      <td>27.82</td>\n",
       "      <td>88</td>\n",
       "      <td>87</td>\n",
       "      <td>larry page</td>\n",
       "    </tr>\n",
       "    <tr>\n",
       "      <th>1</th>\n",
       "      <td>WMT</td>\n",
       "      <td>4.61</td>\n",
       "      <td>484</td>\n",
       "      <td>65</td>\n",
       "      <td>n.a.</td>\n",
       "    </tr>\n",
       "    <tr>\n",
       "      <th>2</th>\n",
       "      <td>MSFT</td>\n",
       "      <td>-1</td>\n",
       "      <td>85</td>\n",
       "      <td>64</td>\n",
       "      <td>bill gates</td>\n",
       "    </tr>\n",
       "    <tr>\n",
       "      <th>3</th>\n",
       "      <td>RIL</td>\n",
       "      <td>not available</td>\n",
       "      <td>50</td>\n",
       "      <td>1023</td>\n",
       "      <td>mukesh ambani</td>\n",
       "    </tr>\n",
       "    <tr>\n",
       "      <th>4</th>\n",
       "      <td>TATA</td>\n",
       "      <td>5.6</td>\n",
       "      <td>-1</td>\n",
       "      <td>n.a</td>\n",
       "      <td>ratan tata</td>\n",
       "    </tr>\n",
       "  </tbody>\n",
       "</table>\n",
       "</div>"
      ],
      "text/plain": [
       "  Tickers            EPS  Revenue Price         People\n",
       "0   GOOGL          27.82       88    87     larry page\n",
       "1     WMT           4.61      484    65           n.a.\n",
       "2    MSFT             -1       85    64     bill gates\n",
       "3     RIL  not available       50  1023  mukesh ambani\n",
       "4    TATA            5.6       -1   n.a     ratan tata"
      ]
     },
     "execution_count": 23,
     "metadata": {},
     "output_type": "execute_result"
    }
   ],
   "source": [
    "df6=pd.read_csv(\"stocks_data.csv\",header=None,names=['Tickers','EPS', 'Revenue','Price', 'People'])\n",
    "df6"
   ]
  },
  {
   "cell_type": "markdown",
   "id": "41aefeb8-9767-41c9-95c0-ca99a05f2303",
   "metadata": {},
   "source": [
    "***so after modifying the csv file it looks so good and it can be managable also observe the difference between df 4,5,6***"
   ]
  },
  {
   "cell_type": "markdown",
   "id": "2b3f9e52-fcac-47b6-997f-6681b3cb88ae",
   "metadata": {},
   "source": [
    "****Now reading Limited Data****"
   ]
  },
  {
   "cell_type": "code",
   "execution_count": 25,
   "id": "f8bdd6f2-8fc3-4021-8ecd-9a10be73abf4",
   "metadata": {},
   "outputs": [
    {
     "data": {
      "text/html": [
       "<div>\n",
       "<style scoped>\n",
       "    .dataframe tbody tr th:only-of-type {\n",
       "        vertical-align: middle;\n",
       "    }\n",
       "\n",
       "    .dataframe tbody tr th {\n",
       "        vertical-align: top;\n",
       "    }\n",
       "\n",
       "    .dataframe thead th {\n",
       "        text-align: right;\n",
       "    }\n",
       "</style>\n",
       "<table border=\"1\" class=\"dataframe\">\n",
       "  <thead>\n",
       "    <tr style=\"text-align: right;\">\n",
       "      <th></th>\n",
       "      <th>Tinkers</th>\n",
       "      <th>EPS</th>\n",
       "      <th>Revenue</th>\n",
       "      <th>Price</th>\n",
       "      <th>People</th>\n",
       "    </tr>\n",
       "  </thead>\n",
       "  <tbody>\n",
       "    <tr>\n",
       "      <th>0</th>\n",
       "      <td>GOOGL</td>\n",
       "      <td>27.82</td>\n",
       "      <td>88</td>\n",
       "      <td>87</td>\n",
       "      <td>larry page</td>\n",
       "    </tr>\n",
       "    <tr>\n",
       "      <th>1</th>\n",
       "      <td>WMT</td>\n",
       "      <td>4.61</td>\n",
       "      <td>484</td>\n",
       "      <td>65</td>\n",
       "      <td>n.a.</td>\n",
       "    </tr>\n",
       "    <tr>\n",
       "      <th>2</th>\n",
       "      <td>MSFT</td>\n",
       "      <td>-1</td>\n",
       "      <td>85</td>\n",
       "      <td>64</td>\n",
       "      <td>bill gates</td>\n",
       "    </tr>\n",
       "    <tr>\n",
       "      <th>3</th>\n",
       "      <td>RIL</td>\n",
       "      <td>not available</td>\n",
       "      <td>50</td>\n",
       "      <td>1023</td>\n",
       "      <td>mukesh ambani</td>\n",
       "    </tr>\n",
       "    <tr>\n",
       "      <th>4</th>\n",
       "      <td>TATA</td>\n",
       "      <td>5.6</td>\n",
       "      <td>-1</td>\n",
       "      <td>n.a</td>\n",
       "      <td>ratan tata</td>\n",
       "    </tr>\n",
       "  </tbody>\n",
       "</table>\n",
       "</div>"
      ],
      "text/plain": [
       "   Tinkers            EPS  Revenue Price         People\n",
       "0    GOOGL          27.82       88    87     larry page\n",
       "1      WMT           4.61      484    65           n.a.\n",
       "2     MSFT             -1       85    64     bill gates\n",
       "3      RIL  not available       50  1023  mukesh ambani\n",
       "4     TATA            5.6       -1   n.a     ratan tata"
      ]
     },
     "execution_count": 25,
     "metadata": {},
     "output_type": "execute_result"
    }
   ],
   "source": [
    "df7=pd.read_csv(\"stocks_data.csv\")\n",
    "df7"
   ]
  },
  {
   "cell_type": "code",
   "execution_count": 28,
   "id": "6ae9bc0c-4c0f-4c4a-a901-ed21a889b594",
   "metadata": {},
   "outputs": [
    {
     "data": {
      "text/html": [
       "<div>\n",
       "<style scoped>\n",
       "    .dataframe tbody tr th:only-of-type {\n",
       "        vertical-align: middle;\n",
       "    }\n",
       "\n",
       "    .dataframe tbody tr th {\n",
       "        vertical-align: top;\n",
       "    }\n",
       "\n",
       "    .dataframe thead th {\n",
       "        text-align: right;\n",
       "    }\n",
       "</style>\n",
       "<table border=\"1\" class=\"dataframe\">\n",
       "  <thead>\n",
       "    <tr style=\"text-align: right;\">\n",
       "      <th></th>\n",
       "      <th>Tinkers</th>\n",
       "      <th>EPS</th>\n",
       "      <th>Revenue</th>\n",
       "      <th>Price</th>\n",
       "      <th>People</th>\n",
       "    </tr>\n",
       "  </thead>\n",
       "  <tbody>\n",
       "    <tr>\n",
       "      <th>0</th>\n",
       "      <td>GOOGL</td>\n",
       "      <td>27.82</td>\n",
       "      <td>88</td>\n",
       "      <td>87</td>\n",
       "      <td>larry page</td>\n",
       "    </tr>\n",
       "    <tr>\n",
       "      <th>1</th>\n",
       "      <td>WMT</td>\n",
       "      <td>4.61</td>\n",
       "      <td>484</td>\n",
       "      <td>65</td>\n",
       "      <td>n.a.</td>\n",
       "    </tr>\n",
       "    <tr>\n",
       "      <th>2</th>\n",
       "      <td>MSFT</td>\n",
       "      <td>-1.00</td>\n",
       "      <td>85</td>\n",
       "      <td>64</td>\n",
       "      <td>bill gates</td>\n",
       "    </tr>\n",
       "  </tbody>\n",
       "</table>\n",
       "</div>"
      ],
      "text/plain": [
       "   Tinkers    EPS  Revenue  Price      People\n",
       "0    GOOGL  27.82       88     87  larry page\n",
       "1      WMT   4.61      484     65        n.a.\n",
       "2     MSFT  -1.00       85     64  bill gates"
      ]
     },
     "execution_count": 28,
     "metadata": {},
     "output_type": "execute_result"
    }
   ],
   "source": [
    "df8=pd.read_csv(\"stocks_data.csv\",nrows=3)\n",
    "df8"
   ]
  },
  {
   "cell_type": "markdown",
   "id": "828f1cd1-26f8-4dcd-9520-8c41335e5406",
   "metadata": {},
   "source": [
    "**replacing n.a and not available values with NaN**"
   ]
  },
  {
   "cell_type": "code",
   "execution_count": 32,
   "id": "8734b951-67ff-40cd-affe-f5920a5413c8",
   "metadata": {},
   "outputs": [
    {
     "data": {
      "text/html": [
       "<div>\n",
       "<style scoped>\n",
       "    .dataframe tbody tr th:only-of-type {\n",
       "        vertical-align: middle;\n",
       "    }\n",
       "\n",
       "    .dataframe tbody tr th {\n",
       "        vertical-align: top;\n",
       "    }\n",
       "\n",
       "    .dataframe thead th {\n",
       "        text-align: right;\n",
       "    }\n",
       "</style>\n",
       "<table border=\"1\" class=\"dataframe\">\n",
       "  <thead>\n",
       "    <tr style=\"text-align: right;\">\n",
       "      <th></th>\n",
       "      <th>Tinkers</th>\n",
       "      <th>EPS</th>\n",
       "      <th>Revenue</th>\n",
       "      <th>Price</th>\n",
       "      <th>People</th>\n",
       "    </tr>\n",
       "  </thead>\n",
       "  <tbody>\n",
       "    <tr>\n",
       "      <th>0</th>\n",
       "      <td>GOOGL</td>\n",
       "      <td>27.82</td>\n",
       "      <td>88</td>\n",
       "      <td>87</td>\n",
       "      <td>larry page</td>\n",
       "    </tr>\n",
       "    <tr>\n",
       "      <th>1</th>\n",
       "      <td>WMT</td>\n",
       "      <td>4.61</td>\n",
       "      <td>484</td>\n",
       "      <td>65</td>\n",
       "      <td>n.a.</td>\n",
       "    </tr>\n",
       "    <tr>\n",
       "      <th>2</th>\n",
       "      <td>MSFT</td>\n",
       "      <td>-1</td>\n",
       "      <td>85</td>\n",
       "      <td>64</td>\n",
       "      <td>bill gates</td>\n",
       "    </tr>\n",
       "    <tr>\n",
       "      <th>3</th>\n",
       "      <td>RIL</td>\n",
       "      <td>not available</td>\n",
       "      <td>50</td>\n",
       "      <td>1023</td>\n",
       "      <td>mukesh ambani</td>\n",
       "    </tr>\n",
       "    <tr>\n",
       "      <th>4</th>\n",
       "      <td>TATA</td>\n",
       "      <td>5.6</td>\n",
       "      <td>-1</td>\n",
       "      <td>n.a</td>\n",
       "      <td>ratan tata</td>\n",
       "    </tr>\n",
       "  </tbody>\n",
       "</table>\n",
       "</div>"
      ],
      "text/plain": [
       "   Tinkers            EPS  Revenue Price         People\n",
       "0    GOOGL          27.82       88    87     larry page\n",
       "1      WMT           4.61      484    65           n.a.\n",
       "2     MSFT             -1       85    64     bill gates\n",
       "3      RIL  not available       50  1023  mukesh ambani\n",
       "4     TATA            5.6       -1   n.a     ratan tata"
      ]
     },
     "execution_count": 32,
     "metadata": {},
     "output_type": "execute_result"
    }
   ],
   "source": [
    "df9=pd.read_csv(\"stocks_data.csv\")\n",
    "df9"
   ]
  },
  {
   "cell_type": "code",
   "execution_count": 33,
   "id": "eddd3c99-28f0-4ef4-b75f-1d07e6c6585f",
   "metadata": {},
   "outputs": [
    {
     "data": {
      "text/html": [
       "<div>\n",
       "<style scoped>\n",
       "    .dataframe tbody tr th:only-of-type {\n",
       "        vertical-align: middle;\n",
       "    }\n",
       "\n",
       "    .dataframe tbody tr th {\n",
       "        vertical-align: top;\n",
       "    }\n",
       "\n",
       "    .dataframe thead th {\n",
       "        text-align: right;\n",
       "    }\n",
       "</style>\n",
       "<table border=\"1\" class=\"dataframe\">\n",
       "  <thead>\n",
       "    <tr style=\"text-align: right;\">\n",
       "      <th></th>\n",
       "      <th>Tinkers</th>\n",
       "      <th>EPS</th>\n",
       "      <th>Revenue</th>\n",
       "      <th>Price</th>\n",
       "      <th>People</th>\n",
       "    </tr>\n",
       "  </thead>\n",
       "  <tbody>\n",
       "    <tr>\n",
       "      <th>0</th>\n",
       "      <td>GOOGL</td>\n",
       "      <td>27.82</td>\n",
       "      <td>88</td>\n",
       "      <td>87.0</td>\n",
       "      <td>larry page</td>\n",
       "    </tr>\n",
       "    <tr>\n",
       "      <th>1</th>\n",
       "      <td>WMT</td>\n",
       "      <td>4.61</td>\n",
       "      <td>484</td>\n",
       "      <td>65.0</td>\n",
       "      <td>NaN</td>\n",
       "    </tr>\n",
       "    <tr>\n",
       "      <th>2</th>\n",
       "      <td>MSFT</td>\n",
       "      <td>-1.00</td>\n",
       "      <td>85</td>\n",
       "      <td>64.0</td>\n",
       "      <td>bill gates</td>\n",
       "    </tr>\n",
       "    <tr>\n",
       "      <th>3</th>\n",
       "      <td>RIL</td>\n",
       "      <td>NaN</td>\n",
       "      <td>50</td>\n",
       "      <td>1023.0</td>\n",
       "      <td>mukesh ambani</td>\n",
       "    </tr>\n",
       "    <tr>\n",
       "      <th>4</th>\n",
       "      <td>TATA</td>\n",
       "      <td>5.60</td>\n",
       "      <td>-1</td>\n",
       "      <td>NaN</td>\n",
       "      <td>ratan tata</td>\n",
       "    </tr>\n",
       "  </tbody>\n",
       "</table>\n",
       "</div>"
      ],
      "text/plain": [
       "   Tinkers    EPS  Revenue   Price         People\n",
       "0    GOOGL  27.82       88    87.0     larry page\n",
       "1      WMT   4.61      484    65.0            NaN\n",
       "2     MSFT  -1.00       85    64.0     bill gates\n",
       "3      RIL    NaN       50  1023.0  mukesh ambani\n",
       "4     TATA   5.60       -1     NaN     ratan tata"
      ]
     },
     "execution_count": 33,
     "metadata": {},
     "output_type": "execute_result"
    }
   ],
   "source": [
    "df10=pd.read_csv(\"stocks_data.csv\",na_values=[\"not available\",\"n.a\",\"n.a.\"])\n",
    "df10"
   ]
  },
  {
   "cell_type": "markdown",
   "id": "124c520d-5091-4aa7-996c-c5a38fc33e1f",
   "metadata": {},
   "source": [
    "**observe the difference btw df9 and df10  n.a and not available values are converted to NaN thats good and there is other problem here in revenue there is a -1 in data which is actually a wrong so we convert that into NaN also, So for that we supply dictionary values to na_values**"
   ]
  },
  {
   "cell_type": "code",
   "execution_count": 6,
   "id": "22840093-2f21-4959-8dc5-55c058b564aa",
   "metadata": {},
   "outputs": [
    {
     "data": {
      "text/html": [
       "<div>\n",
       "<style scoped>\n",
       "    .dataframe tbody tr th:only-of-type {\n",
       "        vertical-align: middle;\n",
       "    }\n",
       "\n",
       "    .dataframe tbody tr th {\n",
       "        vertical-align: top;\n",
       "    }\n",
       "\n",
       "    .dataframe thead th {\n",
       "        text-align: right;\n",
       "    }\n",
       "</style>\n",
       "<table border=\"1\" class=\"dataframe\">\n",
       "  <thead>\n",
       "    <tr style=\"text-align: right;\">\n",
       "      <th></th>\n",
       "      <th>Tinkers</th>\n",
       "      <th>EPS</th>\n",
       "      <th>Revenue</th>\n",
       "      <th>Price</th>\n",
       "      <th>People</th>\n",
       "    </tr>\n",
       "  </thead>\n",
       "  <tbody>\n",
       "    <tr>\n",
       "      <th>0</th>\n",
       "      <td>GOOGL</td>\n",
       "      <td>27.82</td>\n",
       "      <td>88.0</td>\n",
       "      <td>87.0</td>\n",
       "      <td>larry page</td>\n",
       "    </tr>\n",
       "    <tr>\n",
       "      <th>1</th>\n",
       "      <td>WMT</td>\n",
       "      <td>4.61</td>\n",
       "      <td>484.0</td>\n",
       "      <td>65.0</td>\n",
       "      <td>NaN</td>\n",
       "    </tr>\n",
       "    <tr>\n",
       "      <th>2</th>\n",
       "      <td>MSFT</td>\n",
       "      <td>-1.00</td>\n",
       "      <td>85.0</td>\n",
       "      <td>64.0</td>\n",
       "      <td>bill gates</td>\n",
       "    </tr>\n",
       "    <tr>\n",
       "      <th>3</th>\n",
       "      <td>RIL</td>\n",
       "      <td>NaN</td>\n",
       "      <td>50.0</td>\n",
       "      <td>1023.0</td>\n",
       "      <td>mukesh ambani</td>\n",
       "    </tr>\n",
       "    <tr>\n",
       "      <th>4</th>\n",
       "      <td>TATA</td>\n",
       "      <td>5.60</td>\n",
       "      <td>NaN</td>\n",
       "      <td>NaN</td>\n",
       "      <td>ratan tata</td>\n",
       "    </tr>\n",
       "  </tbody>\n",
       "</table>\n",
       "</div>"
      ],
      "text/plain": [
       "   Tinkers    EPS  Revenue   Price         People\n",
       "0    GOOGL  27.82     88.0    87.0     larry page\n",
       "1      WMT   4.61    484.0    65.0            NaN\n",
       "2     MSFT  -1.00     85.0    64.0     bill gates\n",
       "3      RIL    NaN     50.0  1023.0  mukesh ambani\n",
       "4     TATA   5.60      NaN     NaN     ratan tata"
      ]
     },
     "execution_count": 6,
     "metadata": {},
     "output_type": "execute_result"
    }
   ],
   "source": [
    "df11=pd.read_csv(\"stocks_data.csv\",na_values={\n",
    "    'EPS':[\"not available\",\"n.a\",\"n.a.\"],\n",
    "    'Revenue':[\"not available\",\"n.a\",\"n.a.\",-1],\n",
    "    'Price':[\"not available\",\"n.a\",\"n.a.\"],\n",
    "    'People':[\"not available\",\"n.a\",\"n.a.\"],\n",
    "})\n",
    "df11"
   ]
  },
  {
   "cell_type": "markdown",
   "id": "c0d03f4b-263a-43fa-9e5f-a1fc0797f4d6",
   "metadata": {},
   "source": [
    "**writing into csv file is same as what we done at start additionally we have header=False,which helps to not export header to csv file and by getting row names we can direct them to new csv file using column names see below for reference**"
   ]
  },
  {
   "cell_type": "code",
   "execution_count": 37,
   "id": "af73e887-4398-44d7-b918-3ac78215278c",
   "metadata": {},
   "outputs": [],
   "source": [
    "df11.to_csv(\"new.csv\")"
   ]
  },
  {
   "cell_type": "code",
   "execution_count": 13,
   "id": "c3ea2ab7-0067-4b3a-bab4-6d716316f143",
   "metadata": {},
   "outputs": [
    {
     "data": {
      "text/html": [
       "<img src=\"new2.png\">\n"
      ],
      "text/plain": [
       "<IPython.core.display.HTML object>"
      ]
     },
     "metadata": {},
     "output_type": "display_data"
    }
   ],
   "source": [
    "%%HTML\n",
    "<img src=\"new2.png\">"
   ]
  },
  {
   "cell_type": "code",
   "execution_count": 38,
   "id": "608a405e-6b9b-4d05-8861-9537edcb574f",
   "metadata": {},
   "outputs": [
    {
     "data": {
      "text/plain": [
       "Index([' Tinkers', 'EPS', 'Revenue', 'Price', 'People'], dtype='object')"
      ]
     },
     "execution_count": 38,
     "metadata": {},
     "output_type": "execute_result"
    }
   ],
   "source": [
    "df11.columns"
   ]
  },
  {
   "cell_type": "code",
   "execution_count": 7,
   "id": "05ff2dfc-b37e-423a-b26f-743e8e4c27cf",
   "metadata": {},
   "outputs": [],
   "source": [
    "df11.to_csv(\"new1.csv\",columns=[' Tinkers', 'EPS']) #here only 2 columns i.e tinkers,eps will gone to csv file "
   ]
  },
  {
   "cell_type": "code",
   "execution_count": 10,
   "id": "30953b06-e353-428d-8b1f-cda17cc0ef96",
   "metadata": {},
   "outputs": [
    {
     "data": {
      "text/html": [
       "<img src=\"new1.png\">\n"
      ],
      "text/plain": [
       "<IPython.core.display.HTML object>"
      ]
     },
     "metadata": {},
     "output_type": "display_data"
    }
   ],
   "source": [
    "%%HTML\n",
    "<img src=\"new1.png\">"
   ]
  },
  {
   "cell_type": "code",
   "execution_count": 8,
   "id": "69cf8502-e20c-4037-9d53-a92c152794d0",
   "metadata": {},
   "outputs": [],
   "source": [
    "df11.to_csv(\"new2.csv\",header=False,index=False) #this wont send header,index to csv_file"
   ]
  },
  {
   "cell_type": "code",
   "execution_count": 11,
   "id": "cd70c78b-3e26-4b50-921e-382b42e73bc0",
   "metadata": {},
   "outputs": [
    {
     "data": {
      "text/html": [
       "<img src=\"new.png\">\n"
      ],
      "text/plain": [
       "<IPython.core.display.HTML object>"
      ]
     },
     "metadata": {},
     "output_type": "display_data"
    }
   ],
   "source": [
    "%%HTML\n",
    "<img src=\"new.png\">"
   ]
  },
  {
   "cell_type": "markdown",
   "id": "71a87540-6c66-4014-8142-d0a08e4d21f7",
   "metadata": {},
   "source": [
    "***now doing same type of operations in excel file***"
   ]
  },
  {
   "cell_type": "code",
   "execution_count": 5,
   "id": "d11a16ae-fff6-4e5a-853b-3fae5341bebb",
   "metadata": {},
   "outputs": [
    {
     "data": {
      "text/html": [
       "<div>\n",
       "<style scoped>\n",
       "    .dataframe tbody tr th:only-of-type {\n",
       "        vertical-align: middle;\n",
       "    }\n",
       "\n",
       "    .dataframe tbody tr th {\n",
       "        vertical-align: top;\n",
       "    }\n",
       "\n",
       "    .dataframe thead th {\n",
       "        text-align: right;\n",
       "    }\n",
       "</style>\n",
       "<table border=\"1\" class=\"dataframe\">\n",
       "  <thead>\n",
       "    <tr style=\"text-align: right;\">\n",
       "      <th></th>\n",
       "      <th>Tickers</th>\n",
       "      <th>EPS</th>\n",
       "      <th>Revenue</th>\n",
       "      <th>Price</th>\n",
       "      <th>People</th>\n",
       "    </tr>\n",
       "  </thead>\n",
       "  <tbody>\n",
       "    <tr>\n",
       "      <th>0</th>\n",
       "      <td>GOOGL</td>\n",
       "      <td>27.82</td>\n",
       "      <td>88</td>\n",
       "      <td>87</td>\n",
       "      <td>larry page</td>\n",
       "    </tr>\n",
       "    <tr>\n",
       "      <th>1</th>\n",
       "      <td>WMT</td>\n",
       "      <td>4.61</td>\n",
       "      <td>484</td>\n",
       "      <td>65</td>\n",
       "      <td>n.a.</td>\n",
       "    </tr>\n",
       "    <tr>\n",
       "      <th>2</th>\n",
       "      <td>MSFT</td>\n",
       "      <td>-1</td>\n",
       "      <td>85</td>\n",
       "      <td>64</td>\n",
       "      <td>bill gates</td>\n",
       "    </tr>\n",
       "    <tr>\n",
       "      <th>3</th>\n",
       "      <td>RIL</td>\n",
       "      <td>not available</td>\n",
       "      <td>50</td>\n",
       "      <td>1023</td>\n",
       "      <td>mukesh ambani</td>\n",
       "    </tr>\n",
       "    <tr>\n",
       "      <th>4</th>\n",
       "      <td>TATA</td>\n",
       "      <td>5.6</td>\n",
       "      <td>-1</td>\n",
       "      <td>n.a</td>\n",
       "      <td>ratan tata</td>\n",
       "    </tr>\n",
       "  </tbody>\n",
       "</table>\n",
       "</div>"
      ],
      "text/plain": [
       "  Tickers            EPS  Revenue Price         People\n",
       "0   GOOGL          27.82       88    87     larry page\n",
       "1     WMT           4.61      484    65           n.a.\n",
       "2    MSFT             -1       85    64     bill gates\n",
       "3     RIL  not available       50  1023  mukesh ambani\n",
       "4    TATA            5.6       -1   n.a     ratan tata"
      ]
     },
     "execution_count": 5,
     "metadata": {},
     "output_type": "execute_result"
    }
   ],
   "source": [
    "import pandas as pd\n",
    "df=pd.DataFrame({\n",
    "    'Tickers': ['GOOGL', 'WMT', 'MSFT', 'RIL', 'TATA'],\n",
    "    'EPS': [27.82, 4.61, -1, 'not available', 5.6],\n",
    "    'Revenue': [88, 484, 85, 50, -1],\n",
    "    'Price': [87, 65, 64, 1023,'n.a'],\n",
    "    'People': ['larry page', 'n.a.', 'bill gates', 'mukesh ambani', 'ratan tata']\n",
    "\n",
    "})\n",
    "df"
   ]
  },
  {
   "cell_type": "code",
   "execution_count": 8,
   "id": "9e8c2c2c-16ce-4af3-b49f-8e694881b1e4",
   "metadata": {},
   "outputs": [],
   "source": [
    "df.to_excel(\"stocks_data.xlsx\",sheet_name=\"Stocks\") #making up excel file "
   ]
  },
  {
   "cell_type": "markdown",
   "id": "709b2903-f085-4df6-99ad-c7373f0692dc",
   "metadata": {},
   "source": [
    "**now doing operations in excel file**"
   ]
  },
  {
   "cell_type": "code",
   "execution_count": 3,
   "id": "f12bf14f-2499-4522-886d-4f44a4893c66",
   "metadata": {},
   "outputs": [
    {
     "data": {
      "text/html": [
       "<div>\n",
       "<style scoped>\n",
       "    .dataframe tbody tr th:only-of-type {\n",
       "        vertical-align: middle;\n",
       "    }\n",
       "\n",
       "    .dataframe tbody tr th {\n",
       "        vertical-align: top;\n",
       "    }\n",
       "\n",
       "    .dataframe thead th {\n",
       "        text-align: right;\n",
       "    }\n",
       "</style>\n",
       "<table border=\"1\" class=\"dataframe\">\n",
       "  <thead>\n",
       "    <tr style=\"text-align: right;\">\n",
       "      <th></th>\n",
       "      <th>Tickers</th>\n",
       "      <th>EPS</th>\n",
       "      <th>Revenue</th>\n",
       "      <th>Price</th>\n",
       "      <th>People</th>\n",
       "    </tr>\n",
       "  </thead>\n",
       "  <tbody>\n",
       "    <tr>\n",
       "      <th>0</th>\n",
       "      <td>GOOGL</td>\n",
       "      <td>27.82</td>\n",
       "      <td>88</td>\n",
       "      <td>87</td>\n",
       "      <td>larry page</td>\n",
       "    </tr>\n",
       "    <tr>\n",
       "      <th>1</th>\n",
       "      <td>WMT</td>\n",
       "      <td>4.61</td>\n",
       "      <td>484</td>\n",
       "      <td>65</td>\n",
       "      <td>Sam Walton</td>\n",
       "    </tr>\n",
       "    <tr>\n",
       "      <th>2</th>\n",
       "      <td>MSFT</td>\n",
       "      <td>-1</td>\n",
       "      <td>85</td>\n",
       "      <td>64</td>\n",
       "      <td>bill gates</td>\n",
       "    </tr>\n",
       "    <tr>\n",
       "      <th>3</th>\n",
       "      <td>RIL</td>\n",
       "      <td>not available</td>\n",
       "      <td>50</td>\n",
       "      <td>1023</td>\n",
       "      <td>mukesh ambani</td>\n",
       "    </tr>\n",
       "    <tr>\n",
       "      <th>4</th>\n",
       "      <td>TATA</td>\n",
       "      <td>5.6</td>\n",
       "      <td>-1</td>\n",
       "      <td>n.a</td>\n",
       "      <td>ratan tata</td>\n",
       "    </tr>\n",
       "  </tbody>\n",
       "</table>\n",
       "</div>"
      ],
      "text/plain": [
       "  Tickers            EPS  Revenue Price         People\n",
       "0   GOOGL          27.82       88    87     larry page\n",
       "1     WMT           4.61      484    65     Sam Walton\n",
       "2    MSFT             -1       85    64     bill gates\n",
       "3     RIL  not available       50  1023  mukesh ambani\n",
       "4    TATA            5.6       -1   n.a     ratan tata"
      ]
     },
     "execution_count": 3,
     "metadata": {},
     "output_type": "execute_result"
    }
   ],
   "source": [
    "import pandas as pd\n",
    "def convert_people_cell(cell):\n",
    "    if cell==\"n.a.\":\n",
    "        return \"Sam Walton\"\n",
    "    else:\n",
    "        return cell\n",
    "df12=pd.read_excel(\"stocks_data.xlsx\",\"Stocks\",converters={\n",
    "    'People':convert_people_cell\n",
    "})\n",
    "df12"
   ]
  },
  {
   "cell_type": "markdown",
   "id": "1238b0c0-7b40-456b-861a-c236748a4f26",
   "metadata": {},
   "source": [
    "**want to do additional thing mean while the data given here is so small where anyone can manipulate then wbt 1,00,000 data given and we cant modify using dictionaries everytime so what we gonna do is write a function which does your work easily for example i am modifying excel file so that two revenues are negative i will modify them using the functions and then i will revert back to normal excel file and do operations as given in the video itself**\n"
   ]
  },
  {
   "cell_type": "code",
   "execution_count": 29,
   "id": "c7892d5d-baaa-4bfe-b410-c34c766f781c",
   "metadata": {},
   "outputs": [
    {
     "data": {
      "text/html": [
       "<div>\n",
       "<style scoped>\n",
       "    .dataframe tbody tr th:only-of-type {\n",
       "        vertical-align: middle;\n",
       "    }\n",
       "\n",
       "    .dataframe tbody tr th {\n",
       "        vertical-align: top;\n",
       "    }\n",
       "\n",
       "    .dataframe thead th {\n",
       "        text-align: right;\n",
       "    }\n",
       "</style>\n",
       "<table border=\"1\" class=\"dataframe\">\n",
       "  <thead>\n",
       "    <tr style=\"text-align: right;\">\n",
       "      <th></th>\n",
       "      <th>Tickers</th>\n",
       "      <th>EPS</th>\n",
       "      <th>Revenue</th>\n",
       "      <th>Price</th>\n",
       "      <th>People</th>\n",
       "    </tr>\n",
       "  </thead>\n",
       "  <tbody>\n",
       "    <tr>\n",
       "      <th>0</th>\n",
       "      <td>GOOGL</td>\n",
       "      <td>27.82</td>\n",
       "      <td>88</td>\n",
       "      <td>87</td>\n",
       "      <td>larry page</td>\n",
       "    </tr>\n",
       "    <tr>\n",
       "      <th>1</th>\n",
       "      <td>WMT</td>\n",
       "      <td>4.61</td>\n",
       "      <td>484</td>\n",
       "      <td>65</td>\n",
       "      <td>n.a.</td>\n",
       "    </tr>\n",
       "    <tr>\n",
       "      <th>2</th>\n",
       "      <td>MSFT</td>\n",
       "      <td>-1</td>\n",
       "      <td>85</td>\n",
       "      <td>64</td>\n",
       "      <td>bill gates</td>\n",
       "    </tr>\n",
       "    <tr>\n",
       "      <th>3</th>\n",
       "      <td>RIL</td>\n",
       "      <td>not available</td>\n",
       "      <td>-345</td>\n",
       "      <td>1023</td>\n",
       "      <td>mukesh ambani</td>\n",
       "    </tr>\n",
       "    <tr>\n",
       "      <th>4</th>\n",
       "      <td>TATA</td>\n",
       "      <td>5.6</td>\n",
       "      <td>-1</td>\n",
       "      <td>n.a</td>\n",
       "      <td>ratan tata</td>\n",
       "    </tr>\n",
       "  </tbody>\n",
       "</table>\n",
       "</div>"
      ],
      "text/plain": [
       "  Tickers            EPS  Revenue Price         People\n",
       "0   GOOGL          27.82       88    87     larry page\n",
       "1     WMT           4.61      484    65           n.a.\n",
       "2    MSFT             -1       85    64     bill gates\n",
       "3     RIL  not available     -345  1023  mukesh ambani\n",
       "4    TATA            5.6       -1   n.a     ratan tata"
      ]
     },
     "execution_count": 29,
     "metadata": {},
     "output_type": "execute_result"
    }
   ],
   "source": [
    "df13=pd.read_excel(\"stocks_data_1.xlsx\",\"Stocks\")\n",
    "df13"
   ]
  },
  {
   "cell_type": "code",
   "execution_count": 30,
   "id": "dc42487d-e793-4a6e-bbe5-528bec6887ee",
   "metadata": {
    "scrolled": true
   },
   "outputs": [
    {
     "data": {
      "text/html": [
       "<div>\n",
       "<style scoped>\n",
       "    .dataframe tbody tr th:only-of-type {\n",
       "        vertical-align: middle;\n",
       "    }\n",
       "\n",
       "    .dataframe tbody tr th {\n",
       "        vertical-align: top;\n",
       "    }\n",
       "\n",
       "    .dataframe thead th {\n",
       "        text-align: right;\n",
       "    }\n",
       "</style>\n",
       "<table border=\"1\" class=\"dataframe\">\n",
       "  <thead>\n",
       "    <tr style=\"text-align: right;\">\n",
       "      <th></th>\n",
       "      <th>Tickers</th>\n",
       "      <th>EPS</th>\n",
       "      <th>Revenue</th>\n",
       "      <th>Price</th>\n",
       "      <th>People</th>\n",
       "    </tr>\n",
       "  </thead>\n",
       "  <tbody>\n",
       "    <tr>\n",
       "      <th>0</th>\n",
       "      <td>GOOGL</td>\n",
       "      <td>27.82</td>\n",
       "      <td>88.0</td>\n",
       "      <td>87</td>\n",
       "      <td>larry page</td>\n",
       "    </tr>\n",
       "    <tr>\n",
       "      <th>1</th>\n",
       "      <td>WMT</td>\n",
       "      <td>4.61</td>\n",
       "      <td>484.0</td>\n",
       "      <td>65</td>\n",
       "      <td>Sam Walton</td>\n",
       "    </tr>\n",
       "    <tr>\n",
       "      <th>2</th>\n",
       "      <td>MSFT</td>\n",
       "      <td>-1.00</td>\n",
       "      <td>85.0</td>\n",
       "      <td>64</td>\n",
       "      <td>bill gates</td>\n",
       "    </tr>\n",
       "    <tr>\n",
       "      <th>3</th>\n",
       "      <td>RIL</td>\n",
       "      <td>NaN</td>\n",
       "      <td>NaN</td>\n",
       "      <td>1023</td>\n",
       "      <td>mukesh ambani</td>\n",
       "    </tr>\n",
       "    <tr>\n",
       "      <th>4</th>\n",
       "      <td>TATA</td>\n",
       "      <td>5.60</td>\n",
       "      <td>NaN</td>\n",
       "      <td>n.a</td>\n",
       "      <td>ratan tata</td>\n",
       "    </tr>\n",
       "  </tbody>\n",
       "</table>\n",
       "</div>"
      ],
      "text/plain": [
       "  Tickers    EPS  Revenue Price         People\n",
       "0   GOOGL  27.82     88.0    87     larry page\n",
       "1     WMT   4.61    484.0    65     Sam Walton\n",
       "2    MSFT  -1.00     85.0    64     bill gates\n",
       "3     RIL    NaN      NaN  1023  mukesh ambani\n",
       "4    TATA   5.60      NaN   n.a     ratan tata"
      ]
     },
     "execution_count": 30,
     "metadata": {},
     "output_type": "execute_result"
    }
   ],
   "source": [
    "import numpy as np\n",
    "nan_value=np.nan #NAN is available in numpy else can use None\n",
    "def conv_people_cell(cell):\n",
    "    if cell==\"n.a.\":\n",
    "        return \"Sam Walton\"\n",
    "    else:\n",
    "        return cell\n",
    "def convert_revenue_negtives(cell):\n",
    "    if cell<0:\n",
    "        return nan_value #else we can use None also in place nan_value \n",
    "    else:\n",
    "        return cell\n",
    "def conv_eps_cell(cell):\n",
    "    if cell==\"not available\":\n",
    "        return None\n",
    "    else:\n",
    "        return cell\n",
    "df14=pd.read_excel(\"stocks_data_1.xlsx\",\"Stocks\",converters={\n",
    "    'People':conv_people_cell,\n",
    "    'EPS':conv_eps_cell,\n",
    "    'Revenue':convert_revenue_negtives\n",
    "})\n",
    "df14"
   ]
  },
  {
   "cell_type": "code",
   "execution_count": 31,
   "id": "9bc7ef4e-f180-46c3-a138-495463f94d8d",
   "metadata": {},
   "outputs": [
    {
     "data": {
      "text/plain": [
       "Index(['Tickers', 'EPS', 'Revenue', 'Price', 'People'], dtype='object')"
      ]
     },
     "execution_count": 31,
     "metadata": {},
     "output_type": "execute_result"
    }
   ],
   "source": [
    "df14.columns"
   ]
  },
  {
   "cell_type": "code",
   "execution_count": 36,
   "id": "5dba76bd-40fb-491c-b63e-28d75db40b82",
   "metadata": {},
   "outputs": [],
   "source": [
    "df14.to_excel(\"completely_modified_usable.xlsx\",sheet_name=\"Modified\",index=False)"
   ]
  },
  {
   "cell_type": "code",
   "execution_count": 37,
   "id": "fbae0ebe-72c0-4446-8540-537e04e003a8",
   "metadata": {},
   "outputs": [
    {
     "data": {
      "text/html": [
       "<img src=\"usable.png\" >\n"
      ],
      "text/plain": [
       "<IPython.core.display.HTML object>"
      ]
     },
     "metadata": {},
     "output_type": "display_data"
    }
   ],
   "source": [
    "%%HTML\n",
    "<img src=\"usable.png\" >"
   ]
  },
  {
   "cell_type": "code",
   "execution_count": 39,
   "id": "911275c2-13ad-4da3-9491-776b87a41958",
   "metadata": {},
   "outputs": [],
   "source": [
    "df15=df14\n",
    "df15.to_excel(\"completely_modified_usable.xlsx\",sheet_name=\"Modified\",index=False,startrow=1,startcol=2)"
   ]
  },
  {
   "cell_type": "code",
   "execution_count": 40,
   "id": "0f22b89b-73e0-4ad9-ace0-e372adf0a589",
   "metadata": {},
   "outputs": [
    {
     "data": {
      "text/html": [
       "<img src=\"usable1.png\">\n"
      ],
      "text/plain": [
       "<IPython.core.display.HTML object>"
      ]
     },
     "metadata": {},
     "output_type": "display_data"
    }
   ],
   "source": [
    "%%HTML\n",
    "<img src=\"usable1.png\">"
   ]
  },
  {
   "cell_type": "markdown",
   "id": "97c4ad85-21f0-4ae2-98c2-df34f5643e73",
   "metadata": {},
   "source": [
    "**now writing two data frames into a single excel file**"
   ]
  },
  {
   "cell_type": "code",
   "execution_count": 43,
   "id": "5d61e0a3-daca-4e72-b093-a9cab039404e",
   "metadata": {},
   "outputs": [],
   "source": [
    "df_stocks = pd. DataFrame({\n",
    "'tickers': ['GOOGL', 'WMT', 'MSFT'],\n",
    "'price': [845, 65, 64],\n",
    "'pe': [30.37, 14.26, 30.97],\n",
    "'eps': [27.82, 4.61, 2.12]\n",
    "})\n",
    "\n",
    "df_weather = pd.DataFrame ({\n",
    "'day': ['1/1/2017', '1/2/2017', '1/3/2017'],\n",
    "'temperature': [32,35,28],\n",
    "'event': ['Rain', 'Sunny', 'Snow']\n",
    "})"
   ]
  },
  {
   "cell_type": "code",
   "execution_count": 44,
   "id": "6a72ffc7-35f3-45e6-959e-b6d42f3b3fe5",
   "metadata": {},
   "outputs": [
    {
     "data": {
      "text/html": [
       "<div>\n",
       "<style scoped>\n",
       "    .dataframe tbody tr th:only-of-type {\n",
       "        vertical-align: middle;\n",
       "    }\n",
       "\n",
       "    .dataframe tbody tr th {\n",
       "        vertical-align: top;\n",
       "    }\n",
       "\n",
       "    .dataframe thead th {\n",
       "        text-align: right;\n",
       "    }\n",
       "</style>\n",
       "<table border=\"1\" class=\"dataframe\">\n",
       "  <thead>\n",
       "    <tr style=\"text-align: right;\">\n",
       "      <th></th>\n",
       "      <th>tickers</th>\n",
       "      <th>price</th>\n",
       "      <th>pe</th>\n",
       "      <th>eps</th>\n",
       "    </tr>\n",
       "  </thead>\n",
       "  <tbody>\n",
       "    <tr>\n",
       "      <th>0</th>\n",
       "      <td>GOOGL</td>\n",
       "      <td>845</td>\n",
       "      <td>30.37</td>\n",
       "      <td>27.82</td>\n",
       "    </tr>\n",
       "    <tr>\n",
       "      <th>1</th>\n",
       "      <td>WMT</td>\n",
       "      <td>65</td>\n",
       "      <td>14.26</td>\n",
       "      <td>4.61</td>\n",
       "    </tr>\n",
       "    <tr>\n",
       "      <th>2</th>\n",
       "      <td>MSFT</td>\n",
       "      <td>64</td>\n",
       "      <td>30.97</td>\n",
       "      <td>2.12</td>\n",
       "    </tr>\n",
       "  </tbody>\n",
       "</table>\n",
       "</div>"
      ],
      "text/plain": [
       "  tickers  price     pe    eps\n",
       "0   GOOGL    845  30.37  27.82\n",
       "1     WMT     65  14.26   4.61\n",
       "2    MSFT     64  30.97   2.12"
      ]
     },
     "execution_count": 44,
     "metadata": {},
     "output_type": "execute_result"
    }
   ],
   "source": [
    "df_stocks"
   ]
  },
  {
   "cell_type": "code",
   "execution_count": 45,
   "id": "b0f5f50e-7736-4c4d-b07d-34157c57349c",
   "metadata": {},
   "outputs": [
    {
     "data": {
      "text/html": [
       "<div>\n",
       "<style scoped>\n",
       "    .dataframe tbody tr th:only-of-type {\n",
       "        vertical-align: middle;\n",
       "    }\n",
       "\n",
       "    .dataframe tbody tr th {\n",
       "        vertical-align: top;\n",
       "    }\n",
       "\n",
       "    .dataframe thead th {\n",
       "        text-align: right;\n",
       "    }\n",
       "</style>\n",
       "<table border=\"1\" class=\"dataframe\">\n",
       "  <thead>\n",
       "    <tr style=\"text-align: right;\">\n",
       "      <th></th>\n",
       "      <th>day</th>\n",
       "      <th>temperature</th>\n",
       "      <th>event</th>\n",
       "    </tr>\n",
       "  </thead>\n",
       "  <tbody>\n",
       "    <tr>\n",
       "      <th>0</th>\n",
       "      <td>1/1/2017</td>\n",
       "      <td>32</td>\n",
       "      <td>Rain</td>\n",
       "    </tr>\n",
       "    <tr>\n",
       "      <th>1</th>\n",
       "      <td>1/2/2017</td>\n",
       "      <td>35</td>\n",
       "      <td>Sunny</td>\n",
       "    </tr>\n",
       "    <tr>\n",
       "      <th>2</th>\n",
       "      <td>1/3/2017</td>\n",
       "      <td>28</td>\n",
       "      <td>Snow</td>\n",
       "    </tr>\n",
       "  </tbody>\n",
       "</table>\n",
       "</div>"
      ],
      "text/plain": [
       "        day  temperature  event\n",
       "0  1/1/2017           32   Rain\n",
       "1  1/2/2017           35  Sunny\n",
       "2  1/3/2017           28   Snow"
      ]
     },
     "execution_count": 45,
     "metadata": {},
     "output_type": "execute_result"
    }
   ],
   "source": [
    "df_weather"
   ]
  },
  {
   "cell_type": "code",
   "execution_count": 48,
   "id": "efd77faa-d394-4248-813a-a6bc5ad342ca",
   "metadata": {},
   "outputs": [],
   "source": [
    "with pd.ExcelWriter(\"stocks_weather.xlsx\") as Writer:\n",
    "    df_stocks.to_excel(Writer,sheet_name=\"Stocks\")\n",
    "    df_weather.to_excel(Writer,sheet_name=\"Weather\")"
   ]
  },
  {
   "cell_type": "code",
   "execution_count": 49,
   "id": "d87ccbe2-b1cb-49a8-97f3-a1df8ad10504",
   "metadata": {},
   "outputs": [
    {
     "data": {
      "text/html": [
       "<img src=\"Stocks_Weather.png\">\n"
      ],
      "text/plain": [
       "<IPython.core.display.HTML object>"
      ]
     },
     "metadata": {},
     "output_type": "display_data"
    }
   ],
   "source": [
    "%%HTML\n",
    "<img src=\"Stocks_Weather.png\">"
   ]
  },
  {
   "cell_type": "markdown",
   "id": "e840760a-a3e5-457b-88f8-47abdaedf0a3",
   "metadata": {},
   "source": [
    "***More Read,Write Functions are prescribed in below link*** "
   ]
  },
  {
   "cell_type": "markdown",
   "id": "71aee368-8006-45c1-94fe-54e9ca0d5b54",
   "metadata": {},
   "source": [
    "\n",
    "<a href=\"https://pandas.pydata.org/docs/reference/io.html\">LINK</a>"
   ]
  }
 ],
 "metadata": {
  "kernelspec": {
   "display_name": "Python 3 (ipykernel)",
   "language": "python",
   "name": "python3"
  },
  "language_info": {
   "codemirror_mode": {
    "name": "ipython",
    "version": 3
   },
   "file_extension": ".py",
   "mimetype": "text/x-python",
   "name": "python",
   "nbconvert_exporter": "python",
   "pygments_lexer": "ipython3",
   "version": "3.9.13"
  }
 },
 "nbformat": 4,
 "nbformat_minor": 5
}
