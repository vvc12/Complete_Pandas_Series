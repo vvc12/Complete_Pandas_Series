{
 "cells": [
  {
   "cell_type": "markdown",
   "id": "13c7f479-66e0-4e38-9620-1d1b2f469acd",
   "metadata": {},
   "source": [
    "# Pandas Basics 1st lesson and Jupyter Notebook Implementation|\n",
    "1.*to learn how to implement jupyter notebook basics*\n",
    "\n",
    "2.*to know some basic commands about jupyter notebook*"
   ]
  },
  {
   "cell_type": "markdown",
   "id": "a261f424-436f-4d2f-ad39-61cc38462442",
   "metadata": {},
   "source": [
    "**'python -m notebook' is used for starting the jupyter notebook if in powershell or ' jupyter notebook' if using conda**"
   ]
  },
  {
   "cell_type": "code",
   "execution_count": 1,
   "id": "c1db103b-b8ea-441a-8d34-3df94b31fa0e",
   "metadata": {},
   "outputs": [
    {
     "data": {
      "text/html": [
       "<img src=\"https://images.datacamp.com/image/upload/v1697798108/Markdown_Cheat_Sheet_9657d9746f.png\" style=\"width=500px;height=120px;\" >\n"
      ],
      "text/plain": [
       "<IPython.core.display.HTML object>"
      ]
     },
     "metadata": {},
     "output_type": "display_data"
    }
   ],
   "source": [
    "%%HTML\n",
    "<img src=\"https://images.datacamp.com/image/upload/v1697798108/Markdown_Cheat_Sheet_9657d9746f.png\" style=\"width=500px;height=120px;\" >\n"
   ]
  },
  {
   "cell_type": "code",
   "execution_count": 2,
   "id": "852b3302-9299-49eb-9d4d-01b867912ef0",
   "metadata": {
    "scrolled": true
   },
   "outputs": [
    {
     "data": {
      "text/html": [
       "<iframe width=\"560\" height=\"315\" src=\"https://www.youtube.com/embed/EEEZX_0FMEc?si=smYour-PbWfquYnY\" title=\"YouTube video player\" frameborder=\"0\" allow=\"accelerometer; autoplay; clipboard-write; encrypted-media; gyroscope; picture-in-picture; web-share\" referrerpolicy=\"strict-origin-when-cross-origin\" allowfullscreen></iframe>\n"
      ],
      "text/plain": [
       "<IPython.core.display.HTML object>"
      ]
     },
     "metadata": {},
     "output_type": "display_data"
    }
   ],
   "source": [
    "%%HTML\n",
    "<iframe width=\"560\" height=\"315\" src=\"https://www.youtube.com/embed/EEEZX_0FMEc?si=smYour-PbWfquYnY\" title=\"YouTube video player\" frameborder=\"0\" allow=\"accelerometer; autoplay; clipboard-write; encrypted-media; gyroscope; picture-in-picture; web-share\" referrerpolicy=\"strict-origin-when-cross-origin\" allowfullscreen></iframe>"
   ]
  },
  {
   "cell_type": "code",
   "execution_count": 4,
   "id": "97d5b933-acc0-468c-9f1c-25acc2a09505",
   "metadata": {},
   "outputs": [
    {
     "name": "stdout",
     "output_type": "stream",
     "text": [
      "CPU times: total: 0 ns\n",
      "Wall time: 0 ns\n"
     ]
    },
    {
     "data": {
      "text/html": [
       "<div>\n",
       "<style scoped>\n",
       "    .dataframe tbody tr th:only-of-type {\n",
       "        vertical-align: middle;\n",
       "    }\n",
       "\n",
       "    .dataframe tbody tr th {\n",
       "        vertical-align: top;\n",
       "    }\n",
       "\n",
       "    .dataframe thead th {\n",
       "        text-align: right;\n",
       "    }\n",
       "</style>\n",
       "<table border=\"1\" class=\"dataframe\">\n",
       "  <thead>\n",
       "    <tr style=\"text-align: right;\">\n",
       "      <th></th>\n",
       "      <th>date</th>\n",
       "      <th>name</th>\n",
       "      <th>visited</th>\n",
       "    </tr>\n",
       "  </thead>\n",
       "  <tbody>\n",
       "    <tr>\n",
       "      <th>0</th>\n",
       "      <td>1/2/2022</td>\n",
       "      <td>vyas</td>\n",
       "      <td>1</td>\n",
       "    </tr>\n",
       "    <tr>\n",
       "      <th>1</th>\n",
       "      <td>2/2/2022</td>\n",
       "      <td>vyas</td>\n",
       "      <td>1</td>\n",
       "    </tr>\n",
       "  </tbody>\n",
       "</table>\n",
       "</div>"
      ],
      "text/plain": [
       "       date  name visited\n",
       "0  1/2/2022  vyas       1\n",
       "1  2/2/2022  vyas       1"
      ]
     },
     "execution_count": 4,
     "metadata": {},
     "output_type": "execute_result"
    }
   ],
   "source": [
    "%time\n",
    "import pandas as pd\n",
    "df= pd.DataFrame(\n",
    "{\n",
    "    \"date\":[\"1/2/2022\",\"2/2/2022\"],\n",
    "    \"name\":[\"vyas\",\"vyas\"],\n",
    "    \"visited\":[\"1\",\"1\"]\n",
    "})\n",
    "df"
   ]
  },
  {
   "cell_type": "code",
   "execution_count": null,
   "id": "5e142c9d-8d75-447e-8e39-0a9d0d7f2a52",
   "metadata": {},
   "outputs": [],
   "source": [
    "%lsmagic"
   ]
  },
  {
   "cell_type": "code",
   "execution_count": null,
   "id": "261bec8e-8989-4956-ac16-f28f3b169aba",
   "metadata": {},
   "outputs": [],
   "source": [
    "%time?"
   ]
  },
  {
   "cell_type": "code",
   "execution_count": null,
   "id": "f49f5834-0261-4906-a20a-a1e35fa328ba",
   "metadata": {},
   "outputs": [],
   "source": [
    "%%time\n",
    "for i in range(100000):\n",
    "    i*i"
   ]
  },
  {
   "cell_type": "code",
   "execution_count": null,
   "id": "e827722b-e33e-46c1-bfa7-547d46d0385b",
   "metadata": {},
   "outputs": [],
   "source": [
    "import os\n",
    "os.getcwd()"
   ]
  },
  {
   "cell_type": "code",
   "execution_count": 18,
   "id": "bbaa1d5d-3b24-4678-b515-51580858a48a",
   "metadata": {},
   "outputs": [
    {
     "data": {
      "text/plain": [
       "[' Volume in drive C is Windows-SSD',\n",
       " ' Volume Serial Number is E8D8-6831',\n",
       " '',\n",
       " ' Directory of C:\\\\Users\\\\vvc14\\\\OneDrive\\\\Desktop\\\\pandas',\n",
       " '',\n",
       " '14-05-2024  20:28    <DIR>          .',\n",
       " '14-05-2024  17:09    <DIR>          ..',\n",
       " '14-05-2024  20:26    <DIR>          .ipynb_checkpoints',\n",
       " '14-05-2024  18:25         1,315,388 Markdown Cheat Sheet _ Markdown Guide.pdf',\n",
       " '14-05-2024  19:56             6,593 new.ipnyb.py',\n",
       " '14-05-2024  20:20             7,214 Pandas_Basics_1&Jupyter_Notebook_Basics.ipynb',\n",
       " '14-05-2024  20:28               778 Untitled.ipynb',\n",
       " '               4 File(s)      1,329,973 bytes',\n",
       " '               3 Dir(s)  360,432,988,160 bytes free']"
      ]
     },
     "execution_count": 18,
     "metadata": {},
     "output_type": "execute_result"
    }
   ],
   "source": [
    "!!dir"
   ]
  },
  {
   "cell_type": "code",
   "execution_count": 19,
   "id": "44821aa2-61f6-415e-b5dc-2186e92e5f29",
   "metadata": {},
   "outputs": [
    {
     "data": {
      "text/plain": [
       "'C:\\\\Users\\\\vvc14\\\\OneDrive\\\\Desktop\\\\pandas'"
      ]
     },
     "execution_count": 19,
     "metadata": {},
     "output_type": "execute_result"
    }
   ],
   "source": [
    "%pwd"
   ]
  },
  {
   "cell_type": "code",
   "execution_count": 20,
   "id": "2f5df7c0-c8ed-423f-93e9-477fbe17bb67",
   "metadata": {},
   "outputs": [
    {
     "data": {
      "text/plain": [
       "\u001b[1;31mDocstring:\u001b[0m\n",
       "::\n",
       "\n",
       "  %code_wrap [--remove] [--list] [--list-all] [name]\n",
       "\n",
       "Simple magic to quickly define a code transformer for all IPython's future imput.\n",
       "\n",
       "``__code__`` and ``__ret__`` are special variable that represent the code to run\n",
       "and the value of the last expression of ``__code__`` respectively.\n",
       "\n",
       "Examples\n",
       "--------\n",
       "\n",
       ".. ipython::\n",
       "\n",
       "    In [1]: %%code_wrap before_after\n",
       "       ...: print('before')\n",
       "       ...: __code__\n",
       "       ...: print('after')\n",
       "       ...: __ret__\n",
       "\n",
       "    In [2]: 1\n",
       "    before\n",
       "    after\n",
       "    Out[2]: 1\n",
       "\n",
       "    In [3]: %code_wrap --list\n",
       "    before_after\n",
       "\n",
       "    In [4]: %code_wrap --list-all\n",
       "    before_after :\n",
       "        print('before')\n",
       "        __code__\n",
       "        print('after')\n",
       "        __ret__\n",
       "\n",
       "    In [5]: %code_wrap --remove before_after\n",
       "\n",
       "positional arguments:\n",
       "  name\n",
       "\n",
       "optional arguments:\n",
       "  --remove    remove the current transformer\n",
       "  --list      list existing transformers name\n",
       "  --list-all  list existing transformers name and code template\n",
       "\u001b[1;31mFile:\u001b[0m      c:\\users\\vvc14\\appdata\\local\\packages\\pythonsoftwarefoundation.python.3.9_qbz5n2kfra8p0\\localcache\\local-packages\\python39\\site-packages\\ipython\\core\\magics\\execution.py"
      ]
     },
     "metadata": {},
     "output_type": "display_data"
    }
   ],
   "source": [
    "%%code_wrap?"
   ]
  },
  {
   "cell_type": "code",
   "execution_count": 21,
   "id": "cfb51b54-a714-44cf-ac25-0d24edca8808",
   "metadata": {},
   "outputs": [
    {
     "data": {
      "text/plain": [
       "\u001b[1;31mDocstring:\u001b[0m Render the cell as an SVG literal\n",
       "\u001b[1;31mFile:\u001b[0m      c:\\users\\vvc14\\appdata\\local\\packages\\pythonsoftwarefoundation.python.3.9_qbz5n2kfra8p0\\localcache\\local-packages\\python39\\site-packages\\ipython\\core\\magics\\display.py"
      ]
     },
     "metadata": {},
     "output_type": "display_data"
    }
   ],
   "source": [
    "%%svg?"
   ]
  },
  {
   "cell_type": "code",
   "execution_count": 22,
   "id": "3b527b3d-f6f3-4faf-8d32-129844ce7592",
   "metadata": {},
   "outputs": [
    {
     "data": {
      "text/plain": [
       "\u001b[1;31mDocstring:\u001b[0m\n",
       "::\n",
       "\n",
       "  %capture [--no-stderr] [--no-stdout] [--no-display] [output]\n",
       "\n",
       "run the cell, capturing stdout, stderr, and IPython's rich display() calls.\n",
       "\n",
       "positional arguments:\n",
       "  output        The name of the variable in which to store output. This is a utils.io.CapturedIO object with\n",
       "                stdout/err attributes for the text of the captured output. CapturedOutput also has a show() method for\n",
       "                displaying the output, and __call__ as well, so you can use that to quickly display the output. If\n",
       "                unspecified, captured output is discarded.\n",
       "\n",
       "optional arguments:\n",
       "  --no-stderr   Don't capture stderr.\n",
       "  --no-stdout   Don't capture stdout.\n",
       "  --no-display  Don't capture IPython's rich display.\n",
       "\u001b[1;31mFile:\u001b[0m      c:\\users\\vvc14\\appdata\\local\\packages\\pythonsoftwarefoundation.python.3.9_qbz5n2kfra8p0\\localcache\\local-packages\\python39\\site-packages\\ipython\\core\\magics\\execution.py"
      ]
     },
     "metadata": {},
     "output_type": "display_data"
    }
   ],
   "source": [
    "%%capture?"
   ]
  },
  {
   "cell_type": "code",
   "execution_count": 23,
   "id": "30bc36c5-4f72-4e0d-a2a8-76f25a594873",
   "metadata": {},
   "outputs": [
    {
     "name": "stdout",
     "output_type": "stream",
     "text": [
      " Volume in drive C is Windows-SSD\n",
      " Volume Serial Number is E8D8-6831\n",
      "\n",
      " Directory of C:\\Users\\vvc14\\OneDrive\\Desktop\\pandas\n",
      "\n",
      "14-05-2024  20:38    <DIR>          .\n",
      "14-05-2024  17:09    <DIR>          ..\n",
      "14-05-2024  20:26    <DIR>          .ipynb_checkpoints\n",
      "               0 File(s)              0 bytes\n",
      "               3 Dir(s)  360,432,480,256 bytes free\n"
     ]
    }
   ],
   "source": [
    "%ddir"
   ]
  },
  {
   "cell_type": "code",
   "execution_count": null,
   "id": "a2c9cf59-2d98-4ba3-b844-c248d24ce8d0",
   "metadata": {},
   "outputs": [],
   "source": [
    "%save new.ipnyb"
   ]
  },
  {
   "cell_type": "code",
   "execution_count": 24,
   "id": "24f1e88f-1826-4176-aded-545ec308a5d5",
   "metadata": {},
   "outputs": [
    {
     "name": "stdout",
     "output_type": "stream",
     "text": [
      "Requirement already satisfied: polars in c:\\users\\vvc14\\appdata\\local\\packages\\pythonsoftwarefoundation.python.3.9_qbz5n2kfra8p0\\localcache\\local-packages\\python39\\site-packages (0.20.25)\n",
      "Note: you may need to restart the kernel to use updated packages.\n"
     ]
    }
   ],
   "source": [
    "%pip install polars"
   ]
  },
  {
   "cell_type": "code",
   "execution_count": null,
   "id": "a152d3eb-edb6-46a1-a88f-5cb7c666bda0",
   "metadata": {},
   "outputs": [],
   "source": []
  }
 ],
 "metadata": {
  "kernelspec": {
   "display_name": "Python 3 (ipykernel)",
   "language": "python",
   "name": "python3"
  },
  "language_info": {
   "codemirror_mode": {
    "name": "ipython",
    "version": 3
   },
   "file_extension": ".py",
   "mimetype": "text/x-python",
   "name": "python",
   "nbconvert_exporter": "python",
   "pygments_lexer": "ipython3",
   "version": "3.9.13"
  }
 },
 "nbformat": 4,
 "nbformat_minor": 5
}
