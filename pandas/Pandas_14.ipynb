{
 "cells": [
  {
   "cell_type": "markdown",
   "id": "6a095de5-77cd-47c7-b01a-01100ad2e888",
   "metadata": {},
   "source": [
    "# Pandas_14 Handle Large Datasets In Pandas | Memory Optimization Tips For Pandas\n",
    "<hr style=\"border-top: 2px solid violet\">"
   ]
  },
  {
   "cell_type": "code",
   "execution_count": 1,
   "id": "8f1b1b0b-e4a3-46cc-93cf-45159207cfa8",
   "metadata": {
    "scrolled": true
   },
   "outputs": [
    {
     "data": {
      "text/html": [
       "<iframe width=\"560\" height=\"315\" src=\"https://www.youtube.com/embed/HNE0qHJ9A9o?si=gQcMECvSzJ2TCPqM\" title=\"YouTube video player\" frameborder=\"0\" allow=\"accelerometer; autoplay; clipboard-write; encrypted-media; gyroscope; picture-in-picture; web-share\" referrerpolicy=\"strict-origin-when-cross-origin\" allowfullscreen></iframe>\n"
      ],
      "text/plain": [
       "<IPython.core.display.HTML object>"
      ]
     },
     "metadata": {},
     "output_type": "display_data"
    }
   ],
   "source": [
    "%%HTML\n",
    "<iframe width=\"560\" height=\"315\" src=\"https://www.youtube.com/embed/HNE0qHJ9A9o?si=gQcMECvSzJ2TCPqM\" title=\"YouTube video player\" frameborder=\"0\" allow=\"accelerometer; autoplay; clipboard-write; encrypted-media; gyroscope; picture-in-picture; web-share\" referrerpolicy=\"strict-origin-when-cross-origin\" allowfullscreen></iframe>"
   ]
  },
  {
   "cell_type": "markdown",
   "id": "62239969-39b6-43e3-ac5b-4be02f5c9f12",
   "metadata": {},
   "source": [
    "\n",
    "<a href=\"https://pythonspeed.com/articles/pandas-dataframe-series-memory-usage/\">Click this website for link of handling Larger Dataasets</a>"
   ]
  }
 ],
 "metadata": {
  "kernelspec": {
   "display_name": "Python 3 (ipykernel)",
   "language": "python",
   "name": "python3"
  },
  "language_info": {
   "codemirror_mode": {
    "name": "ipython",
    "version": 3
   },
   "file_extension": ".py",
   "mimetype": "text/x-python",
   "name": "python",
   "nbconvert_exporter": "python",
   "pygments_lexer": "ipython3",
   "version": "3.12.3"
  }
 },
 "nbformat": 4,
 "nbformat_minor": 5
}
