{
 "cells": [
  {
   "cell_type": "markdown",
   "id": "bed907d4-b925-4edf-a803-a29c821d77e2",
   "metadata": {},
   "source": [
    "# Pandas_13  Read Write Data From Database (read_sql, to_sql)"
   ]
  },
  {
   "cell_type": "code",
   "execution_count": 1,
   "id": "597ce9b8-9908-4997-ba95-aca70769d00b",
   "metadata": {},
   "outputs": [
    {
     "data": {
      "text/html": [
       "<iframe width=\"560\" height=\"315\" src=\"https://www.youtube.com/embed/M-4EpNdlSuY?si=Sv7K-WxR9RCpu8sZ\" title=\"YouTube video player\" frameborder=\"0\" allow=\"accelerometer; autoplay; clipboard-write; encrypted-media; gyroscope; picture-in-picture; web-share\" referrerpolicy=\"strict-origin-when-cross-origin\" allowfullscreen></iframe>\n"
      ],
      "text/plain": [
       "<IPython.core.display.HTML object>"
      ]
     },
     "metadata": {},
     "output_type": "display_data"
    }
   ],
   "source": [
    "%%HTML\n",
    "<iframe width=\"560\" height=\"315\" src=\"https://www.youtube.com/embed/M-4EpNdlSuY?si=Sv7K-WxR9RCpu8sZ\" title=\"YouTube video player\" frameborder=\"0\" allow=\"accelerometer; autoplay; clipboard-write; encrypted-media; gyroscope; picture-in-picture; web-share\" referrerpolicy=\"strict-origin-when-cross-origin\" allowfullscreen></iframe>"
   ]
  },
  {
   "cell_type": "code",
   "execution_count": 2,
   "id": "11ac6f63-cec1-49cb-83d8-d92df0fb7fec",
   "metadata": {},
   "outputs": [],
   "source": [
    "def style_dataframe(df):\n",
    "    \"\"\"\n",
    "    Apply a consistent style to a DataFrame.\n",
    "    \n",
    "    Parameters:\n",
    "        df (pd.DataFrame): The DataFrame to style.\n",
    "    \n",
    "    Returns:\n",
    "        pd.io.formats.style.Styler: A Styler object with the applied styles.\n",
    "    \"\"\"\n",
    "    styles = [\n",
    "        {'selector': 'thead th', 'props': [('border', '1px solid white')]},\n",
    "        {'selector': 'tbody th', 'props': [('border', '1px solid white')]},\n",
    "        {'selector': 'td', 'props': [('border', '1px solid white')]}\n",
    "    ]\n",
    "    \n",
    "    return df.style.set_properties(**{'border': '1px solid white'}).set_table_styles(styles)"
   ]
  },
  {
   "cell_type": "markdown",
   "id": "797d882d-202f-4de3-9dd5-bcd2392cb4d9",
   "metadata": {},
   "source": [
    "**completely sql manipulations please do check the video**"
   ]
  }
 ],
 "metadata": {
  "kernelspec": {
   "display_name": "Python 3 (ipykernel)",
   "language": "python",
   "name": "python3"
  },
  "language_info": {
   "codemirror_mode": {
    "name": "ipython",
    "version": 3
   },
   "file_extension": ".py",
   "mimetype": "text/x-python",
   "name": "python",
   "nbconvert_exporter": "python",
   "pygments_lexer": "ipython3",
   "version": "3.12.3"
  }
 },
 "nbformat": 4,
 "nbformat_minor": 5
}
