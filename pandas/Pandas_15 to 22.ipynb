{
 "cells": [
  {
   "cell_type": "markdown",
   "id": "65d0d95d-ffa4-4174-8d06-0bd964bbdd95",
   "metadata": {},
   "source": [
    "# Pandas_15 Time Series \n",
    "<hr style=\"border-top: 2px solid blue\">"
   ]
  },
  {
   "cell_type": "code",
   "execution_count": 1,
   "id": "0068cf1d-a57c-4643-83d9-c5ae4dd35496",
   "metadata": {},
   "outputs": [],
   "source": [
    "# 1st video of this"
   ]
  },
  {
   "cell_type": "code",
   "execution_count": 3,
   "id": "ef92cf4e-360d-47b8-a741-b274c29f70eb",
   "metadata": {},
   "outputs": [
    {
     "data": {
      "text/html": [
       "<iframe width=\"560\" height=\"315\" src=\"https://www.youtube.com/embed/r0s4slGHwzE?si=OzM7eCVOUmEIR6om\" title=\"YouTube video player\" frameborder=\"0\" allow=\"accelerometer; autoplay; clipboard-write; encrypted-media; gyroscope; picture-in-picture; web-share\" referrerpolicy=\"strict-origin-when-cross-origin\" allowfullscreen></iframe>\n"
      ],
      "text/plain": [
       "<IPython.core.display.HTML object>"
      ]
     },
     "metadata": {},
     "output_type": "display_data"
    }
   ],
   "source": [
    "%%HTML\n",
    "<iframe width=\"560\" height=\"315\" src=\"https://www.youtube.com/embed/r0s4slGHwzE?si=OzM7eCVOUmEIR6om\" title=\"YouTube video player\" frameborder=\"0\" allow=\"accelerometer; autoplay; clipboard-write; encrypted-media; gyroscope; picture-in-picture; web-share\" referrerpolicy=\"strict-origin-when-cross-origin\" allowfullscreen></iframe>"
   ]
  },
  {
   "cell_type": "code",
   "execution_count": 90,
   "id": "566ef25b-f8c2-475b-844c-8baa8a66d872",
   "metadata": {},
   "outputs": [
    {
     "data": {
      "text/html": [
       "<div>\n",
       "<style scoped>\n",
       "    .dataframe tbody tr th:only-of-type {\n",
       "        vertical-align: middle;\n",
       "    }\n",
       "\n",
       "    .dataframe tbody tr th {\n",
       "        vertical-align: top;\n",
       "    }\n",
       "\n",
       "    .dataframe thead th {\n",
       "        text-align: right;\n",
       "    }\n",
       "</style>\n",
       "<table border=\"1\" class=\"dataframe\">\n",
       "  <thead>\n",
       "    <tr style=\"text-align: right;\">\n",
       "      <th></th>\n",
       "      <th>Date</th>\n",
       "      <th>Open</th>\n",
       "      <th>High</th>\n",
       "      <th>Low</th>\n",
       "      <th>Close</th>\n",
       "      <th>Adj Close</th>\n",
       "      <th>Volume</th>\n",
       "    </tr>\n",
       "  </thead>\n",
       "  <tbody>\n",
       "    <tr>\n",
       "      <th>0</th>\n",
       "      <td>2023-05-23</td>\n",
       "      <td>173.130005</td>\n",
       "      <td>173.380005</td>\n",
       "      <td>171.279999</td>\n",
       "      <td>171.559998</td>\n",
       "      <td>170.653702</td>\n",
       "      <td>50747300</td>\n",
       "    </tr>\n",
       "    <tr>\n",
       "      <th>1</th>\n",
       "      <td>2023-05-24</td>\n",
       "      <td>171.089996</td>\n",
       "      <td>172.419998</td>\n",
       "      <td>170.520004</td>\n",
       "      <td>171.839996</td>\n",
       "      <td>170.932220</td>\n",
       "      <td>45143500</td>\n",
       "    </tr>\n",
       "    <tr>\n",
       "      <th>2</th>\n",
       "      <td>2023-05-25</td>\n",
       "      <td>172.410004</td>\n",
       "      <td>173.899994</td>\n",
       "      <td>171.690002</td>\n",
       "      <td>172.990005</td>\n",
       "      <td>172.076141</td>\n",
       "      <td>56058300</td>\n",
       "    </tr>\n",
       "    <tr>\n",
       "      <th>3</th>\n",
       "      <td>2023-05-26</td>\n",
       "      <td>173.320007</td>\n",
       "      <td>175.770004</td>\n",
       "      <td>173.110001</td>\n",
       "      <td>175.429993</td>\n",
       "      <td>174.503250</td>\n",
       "      <td>54835000</td>\n",
       "    </tr>\n",
       "    <tr>\n",
       "      <th>4</th>\n",
       "      <td>2023-05-30</td>\n",
       "      <td>176.960007</td>\n",
       "      <td>178.990005</td>\n",
       "      <td>176.570007</td>\n",
       "      <td>177.300003</td>\n",
       "      <td>176.363358</td>\n",
       "      <td>55964400</td>\n",
       "    </tr>\n",
       "  </tbody>\n",
       "</table>\n",
       "</div>"
      ],
      "text/plain": [
       "         Date        Open        High         Low       Close   Adj Close  \\\n",
       "0  2023-05-23  173.130005  173.380005  171.279999  171.559998  170.653702   \n",
       "1  2023-05-24  171.089996  172.419998  170.520004  171.839996  170.932220   \n",
       "2  2023-05-25  172.410004  173.899994  171.690002  172.990005  172.076141   \n",
       "3  2023-05-26  173.320007  175.770004  173.110001  175.429993  174.503250   \n",
       "4  2023-05-30  176.960007  178.990005  176.570007  177.300003  176.363358   \n",
       "\n",
       "     Volume  \n",
       "0  50747300  \n",
       "1  45143500  \n",
       "2  56058300  \n",
       "3  54835000  \n",
       "4  55964400  "
      ]
     },
     "execution_count": 90,
     "metadata": {},
     "output_type": "execute_result"
    }
   ],
   "source": [
    "import pandas as pd\n",
    "df=pd.read_csv(\"AAPL.csv\")\n",
    "df.head(5)"
   ]
  },
  {
   "cell_type": "code",
   "execution_count": 91,
   "id": "3e9c4f48-fd19-4e92-b5f6-bf0ed0d96598",
   "metadata": {},
   "outputs": [],
   "source": [
    "def style_df(df):\n",
    "    \"\"\"\n",
    "    Apply a consistent style to a DataFrame.\n",
    "    \n",
    "    Parameters:\n",
    "        df (pd.DataFrame): The DataFrame to style.\n",
    "    \n",
    "    Returns:\n",
    "        pd.io.formats.style.Styler: A Styler object with the applied styles.\n",
    "    \"\"\"\n",
    "    styles = [\n",
    "        {'selector': 'thead th', 'props': [('border', '1px solid white')]},\n",
    "        {'selector': 'tbody th', 'props': [('border', '1px solid white')]},\n",
    "        {'selector': 'td', 'props': [('border', '1px solid white')]}\n",
    "    ]\n",
    "    \n",
    "    return df.style.set_properties(**{'border': '1px solid white'}).set_table_styles(styles)"
   ]
  },
  {
   "cell_type": "code",
   "execution_count": 92,
   "id": "41590a11-4752-4feb-bfd5-2bc90c74d980",
   "metadata": {
    "scrolled": true
   },
   "outputs": [
    {
     "data": {
      "text/plain": [
       "RangeIndex(start=0, stop=252, step=1)"
      ]
     },
     "execution_count": 92,
     "metadata": {},
     "output_type": "execute_result"
    }
   ],
   "source": [
    "df.index"
   ]
  },
  {
   "cell_type": "markdown",
   "id": "93884c93-f343-40ce-8854-307f75dce2af",
   "metadata": {},
   "source": [
    "**topics covered to be datetimeindex,resampling**"
   ]
  },
  {
   "cell_type": "code",
   "execution_count": 93,
   "id": "1a39869a-8806-45b0-9d95-85ffe980615a",
   "metadata": {},
   "outputs": [
    {
     "data": {
      "text/plain": [
       "str"
      ]
     },
     "execution_count": 93,
     "metadata": {},
     "output_type": "execute_result"
    }
   ],
   "source": [
    "type(df.Date[0])"
   ]
  },
  {
   "cell_type": "code",
   "execution_count": 94,
   "id": "1a29fc23-9bbc-4ffb-a874-4e0f8613ec8a",
   "metadata": {},
   "outputs": [],
   "source": [
    "df['Date']=pd.to_datetime(df.Date)"
   ]
  },
  {
   "cell_type": "code",
   "execution_count": 95,
   "id": "cb3628e2-0d4a-4ed2-99f1-3321830cc2f0",
   "metadata": {},
   "outputs": [
    {
     "data": {
      "text/plain": [
       "pandas._libs.tslibs.timestamps.Timestamp"
      ]
     },
     "execution_count": 95,
     "metadata": {},
     "output_type": "execute_result"
    }
   ],
   "source": [
    "type(df['Date'][0])"
   ]
  },
  {
   "cell_type": "code",
   "execution_count": 96,
   "id": "d91e0632-aa52-4e39-80e8-3eb2df015226",
   "metadata": {},
   "outputs": [],
   "source": [
    "df.set_index(\"Date\",inplace=True)"
   ]
  },
  {
   "cell_type": "code",
   "execution_count": 97,
   "id": "657d8610-3245-42dc-83c2-6da97626ae7d",
   "metadata": {},
   "outputs": [
    {
     "data": {
      "text/html": [
       "<div>\n",
       "<style scoped>\n",
       "    .dataframe tbody tr th:only-of-type {\n",
       "        vertical-align: middle;\n",
       "    }\n",
       "\n",
       "    .dataframe tbody tr th {\n",
       "        vertical-align: top;\n",
       "    }\n",
       "\n",
       "    .dataframe thead th {\n",
       "        text-align: right;\n",
       "    }\n",
       "</style>\n",
       "<table border=\"1\" class=\"dataframe\">\n",
       "  <thead>\n",
       "    <tr style=\"text-align: right;\">\n",
       "      <th></th>\n",
       "      <th>Open</th>\n",
       "      <th>High</th>\n",
       "      <th>Low</th>\n",
       "      <th>Close</th>\n",
       "      <th>Adj Close</th>\n",
       "      <th>Volume</th>\n",
       "    </tr>\n",
       "    <tr>\n",
       "      <th>Date</th>\n",
       "      <th></th>\n",
       "      <th></th>\n",
       "      <th></th>\n",
       "      <th></th>\n",
       "      <th></th>\n",
       "      <th></th>\n",
       "    </tr>\n",
       "  </thead>\n",
       "  <tbody>\n",
       "    <tr>\n",
       "      <th>2023-05-23</th>\n",
       "      <td>173.130005</td>\n",
       "      <td>173.380005</td>\n",
       "      <td>171.279999</td>\n",
       "      <td>171.559998</td>\n",
       "      <td>170.653702</td>\n",
       "      <td>50747300</td>\n",
       "    </tr>\n",
       "    <tr>\n",
       "      <th>2023-05-24</th>\n",
       "      <td>171.089996</td>\n",
       "      <td>172.419998</td>\n",
       "      <td>170.520004</td>\n",
       "      <td>171.839996</td>\n",
       "      <td>170.932220</td>\n",
       "      <td>45143500</td>\n",
       "    </tr>\n",
       "    <tr>\n",
       "      <th>2023-05-25</th>\n",
       "      <td>172.410004</td>\n",
       "      <td>173.899994</td>\n",
       "      <td>171.690002</td>\n",
       "      <td>172.990005</td>\n",
       "      <td>172.076141</td>\n",
       "      <td>56058300</td>\n",
       "    </tr>\n",
       "    <tr>\n",
       "      <th>2023-05-26</th>\n",
       "      <td>173.320007</td>\n",
       "      <td>175.770004</td>\n",
       "      <td>173.110001</td>\n",
       "      <td>175.429993</td>\n",
       "      <td>174.503250</td>\n",
       "      <td>54835000</td>\n",
       "    </tr>\n",
       "    <tr>\n",
       "      <th>2023-05-30</th>\n",
       "      <td>176.960007</td>\n",
       "      <td>178.990005</td>\n",
       "      <td>176.570007</td>\n",
       "      <td>177.300003</td>\n",
       "      <td>176.363358</td>\n",
       "      <td>55964400</td>\n",
       "    </tr>\n",
       "    <tr>\n",
       "      <th>...</th>\n",
       "      <td>...</td>\n",
       "      <td>...</td>\n",
       "      <td>...</td>\n",
       "      <td>...</td>\n",
       "      <td>...</td>\n",
       "      <td>...</td>\n",
       "    </tr>\n",
       "    <tr>\n",
       "      <th>2024-05-16</th>\n",
       "      <td>190.470001</td>\n",
       "      <td>191.100006</td>\n",
       "      <td>189.660004</td>\n",
       "      <td>189.839996</td>\n",
       "      <td>189.839996</td>\n",
       "      <td>52845200</td>\n",
       "    </tr>\n",
       "    <tr>\n",
       "      <th>2024-05-17</th>\n",
       "      <td>189.509995</td>\n",
       "      <td>190.809998</td>\n",
       "      <td>189.179993</td>\n",
       "      <td>189.869995</td>\n",
       "      <td>189.869995</td>\n",
       "      <td>41282900</td>\n",
       "    </tr>\n",
       "    <tr>\n",
       "      <th>2024-05-20</th>\n",
       "      <td>189.330002</td>\n",
       "      <td>191.919998</td>\n",
       "      <td>189.009995</td>\n",
       "      <td>191.039993</td>\n",
       "      <td>191.039993</td>\n",
       "      <td>44361300</td>\n",
       "    </tr>\n",
       "    <tr>\n",
       "      <th>2024-05-21</th>\n",
       "      <td>191.089996</td>\n",
       "      <td>192.729996</td>\n",
       "      <td>190.919998</td>\n",
       "      <td>192.350006</td>\n",
       "      <td>192.350006</td>\n",
       "      <td>42309400</td>\n",
       "    </tr>\n",
       "    <tr>\n",
       "      <th>2024-05-22</th>\n",
       "      <td>192.270004</td>\n",
       "      <td>192.820007</td>\n",
       "      <td>190.270004</td>\n",
       "      <td>190.899994</td>\n",
       "      <td>190.899994</td>\n",
       "      <td>34581900</td>\n",
       "    </tr>\n",
       "  </tbody>\n",
       "</table>\n",
       "<p>252 rows × 6 columns</p>\n",
       "</div>"
      ],
      "text/plain": [
       "                  Open        High         Low       Close   Adj Close  \\\n",
       "Date                                                                     \n",
       "2023-05-23  173.130005  173.380005  171.279999  171.559998  170.653702   \n",
       "2023-05-24  171.089996  172.419998  170.520004  171.839996  170.932220   \n",
       "2023-05-25  172.410004  173.899994  171.690002  172.990005  172.076141   \n",
       "2023-05-26  173.320007  175.770004  173.110001  175.429993  174.503250   \n",
       "2023-05-30  176.960007  178.990005  176.570007  177.300003  176.363358   \n",
       "...                ...         ...         ...         ...         ...   \n",
       "2024-05-16  190.470001  191.100006  189.660004  189.839996  189.839996   \n",
       "2024-05-17  189.509995  190.809998  189.179993  189.869995  189.869995   \n",
       "2024-05-20  189.330002  191.919998  189.009995  191.039993  191.039993   \n",
       "2024-05-21  191.089996  192.729996  190.919998  192.350006  192.350006   \n",
       "2024-05-22  192.270004  192.820007  190.270004  190.899994  190.899994   \n",
       "\n",
       "              Volume  \n",
       "Date                  \n",
       "2023-05-23  50747300  \n",
       "2023-05-24  45143500  \n",
       "2023-05-25  56058300  \n",
       "2023-05-26  54835000  \n",
       "2023-05-30  55964400  \n",
       "...              ...  \n",
       "2024-05-16  52845200  \n",
       "2024-05-17  41282900  \n",
       "2024-05-20  44361300  \n",
       "2024-05-21  42309400  \n",
       "2024-05-22  34581900  \n",
       "\n",
       "[252 rows x 6 columns]"
      ]
     },
     "execution_count": 97,
     "metadata": {},
     "output_type": "execute_result"
    }
   ],
   "source": [
    "df"
   ]
  },
  {
   "cell_type": "code",
   "execution_count": 98,
   "id": "b76ae1b6-4ba7-46ff-a1b6-1989a85821a5",
   "metadata": {},
   "outputs": [],
   "source": [
    "# so these datetimeindex is used for knowing data analysis god level\n",
    "# for example"
   ]
  },
  {
   "cell_type": "code",
   "execution_count": 104,
   "id": "307df7cd-1007-4094-837f-fddb196f28d9",
   "metadata": {},
   "outputs": [
    {
     "data": {
      "text/html": [
       "<style type=\"text/css\">\n",
       "#T_228b1 thead th {\n",
       "  border: 1px solid white;\n",
       "}\n",
       "#T_228b1 tbody th {\n",
       "  border: 1px solid white;\n",
       "}\n",
       "#T_228b1 td {\n",
       "  border: 1px solid white;\n",
       "}\n",
       "#T_228b1_row0_col0, #T_228b1_row0_col1, #T_228b1_row0_col2, #T_228b1_row0_col3, #T_228b1_row0_col4, #T_228b1_row0_col5, #T_228b1_row1_col0, #T_228b1_row1_col1, #T_228b1_row1_col2, #T_228b1_row1_col3, #T_228b1_row1_col4, #T_228b1_row1_col5, #T_228b1_row2_col0, #T_228b1_row2_col1, #T_228b1_row2_col2, #T_228b1_row2_col3, #T_228b1_row2_col4, #T_228b1_row2_col5, #T_228b1_row3_col0, #T_228b1_row3_col1, #T_228b1_row3_col2, #T_228b1_row3_col3, #T_228b1_row3_col4, #T_228b1_row3_col5, #T_228b1_row4_col0, #T_228b1_row4_col1, #T_228b1_row4_col2, #T_228b1_row4_col3, #T_228b1_row4_col4, #T_228b1_row4_col5, #T_228b1_row5_col0, #T_228b1_row5_col1, #T_228b1_row5_col2, #T_228b1_row5_col3, #T_228b1_row5_col4, #T_228b1_row5_col5, #T_228b1_row6_col0, #T_228b1_row6_col1, #T_228b1_row6_col2, #T_228b1_row6_col3, #T_228b1_row6_col4, #T_228b1_row6_col5, #T_228b1_row7_col0, #T_228b1_row7_col1, #T_228b1_row7_col2, #T_228b1_row7_col3, #T_228b1_row7_col4, #T_228b1_row7_col5, #T_228b1_row8_col0, #T_228b1_row8_col1, #T_228b1_row8_col2, #T_228b1_row8_col3, #T_228b1_row8_col4, #T_228b1_row8_col5, #T_228b1_row9_col0, #T_228b1_row9_col1, #T_228b1_row9_col2, #T_228b1_row9_col3, #T_228b1_row9_col4, #T_228b1_row9_col5, #T_228b1_row10_col0, #T_228b1_row10_col1, #T_228b1_row10_col2, #T_228b1_row10_col3, #T_228b1_row10_col4, #T_228b1_row10_col5, #T_228b1_row11_col0, #T_228b1_row11_col1, #T_228b1_row11_col2, #T_228b1_row11_col3, #T_228b1_row11_col4, #T_228b1_row11_col5, #T_228b1_row12_col0, #T_228b1_row12_col1, #T_228b1_row12_col2, #T_228b1_row12_col3, #T_228b1_row12_col4, #T_228b1_row12_col5, #T_228b1_row13_col0, #T_228b1_row13_col1, #T_228b1_row13_col2, #T_228b1_row13_col3, #T_228b1_row13_col4, #T_228b1_row13_col5, #T_228b1_row14_col0, #T_228b1_row14_col1, #T_228b1_row14_col2, #T_228b1_row14_col3, #T_228b1_row14_col4, #T_228b1_row14_col5, #T_228b1_row15_col0, #T_228b1_row15_col1, #T_228b1_row15_col2, #T_228b1_row15_col3, #T_228b1_row15_col4, #T_228b1_row15_col5, #T_228b1_row16_col0, #T_228b1_row16_col1, #T_228b1_row16_col2, #T_228b1_row16_col3, #T_228b1_row16_col4, #T_228b1_row16_col5, #T_228b1_row17_col0, #T_228b1_row17_col1, #T_228b1_row17_col2, #T_228b1_row17_col3, #T_228b1_row17_col4, #T_228b1_row17_col5, #T_228b1_row18_col0, #T_228b1_row18_col1, #T_228b1_row18_col2, #T_228b1_row18_col3, #T_228b1_row18_col4, #T_228b1_row18_col5, #T_228b1_row19_col0, #T_228b1_row19_col1, #T_228b1_row19_col2, #T_228b1_row19_col3, #T_228b1_row19_col4, #T_228b1_row19_col5, #T_228b1_row20_col0, #T_228b1_row20_col1, #T_228b1_row20_col2, #T_228b1_row20_col3, #T_228b1_row20_col4, #T_228b1_row20_col5 {\n",
       "  border: 1px solid white;\n",
       "}\n",
       "</style>\n",
       "<table id=\"T_228b1\">\n",
       "  <thead>\n",
       "    <tr>\n",
       "      <th class=\"blank level0\" >&nbsp;</th>\n",
       "      <th id=\"T_228b1_level0_col0\" class=\"col_heading level0 col0\" >Open</th>\n",
       "      <th id=\"T_228b1_level0_col1\" class=\"col_heading level0 col1\" >High</th>\n",
       "      <th id=\"T_228b1_level0_col2\" class=\"col_heading level0 col2\" >Low</th>\n",
       "      <th id=\"T_228b1_level0_col3\" class=\"col_heading level0 col3\" >Close</th>\n",
       "      <th id=\"T_228b1_level0_col4\" class=\"col_heading level0 col4\" >Adj Close</th>\n",
       "      <th id=\"T_228b1_level0_col5\" class=\"col_heading level0 col5\" >Volume</th>\n",
       "    </tr>\n",
       "    <tr>\n",
       "      <th class=\"index_name level0\" >Date</th>\n",
       "      <th class=\"blank col0\" >&nbsp;</th>\n",
       "      <th class=\"blank col1\" >&nbsp;</th>\n",
       "      <th class=\"blank col2\" >&nbsp;</th>\n",
       "      <th class=\"blank col3\" >&nbsp;</th>\n",
       "      <th class=\"blank col4\" >&nbsp;</th>\n",
       "      <th class=\"blank col5\" >&nbsp;</th>\n",
       "    </tr>\n",
       "  </thead>\n",
       "  <tbody>\n",
       "    <tr>\n",
       "      <th id=\"T_228b1_level0_row0\" class=\"row_heading level0 row0\" >2024-01-02 00:00:00</th>\n",
       "      <td id=\"T_228b1_row0_col0\" class=\"data row0 col0\" >187.149994</td>\n",
       "      <td id=\"T_228b1_row0_col1\" class=\"data row0 col1\" >188.440002</td>\n",
       "      <td id=\"T_228b1_row0_col2\" class=\"data row0 col2\" >183.889999</td>\n",
       "      <td id=\"T_228b1_row0_col3\" class=\"data row0 col3\" >185.639999</td>\n",
       "      <td id=\"T_228b1_row0_col4\" class=\"data row0 col4\" >185.152283</td>\n",
       "      <td id=\"T_228b1_row0_col5\" class=\"data row0 col5\" >82488700</td>\n",
       "    </tr>\n",
       "    <tr>\n",
       "      <th id=\"T_228b1_level0_row1\" class=\"row_heading level0 row1\" >2024-01-03 00:00:00</th>\n",
       "      <td id=\"T_228b1_row1_col0\" class=\"data row1 col0\" >184.220001</td>\n",
       "      <td id=\"T_228b1_row1_col1\" class=\"data row1 col1\" >185.880005</td>\n",
       "      <td id=\"T_228b1_row1_col2\" class=\"data row1 col2\" >183.429993</td>\n",
       "      <td id=\"T_228b1_row1_col3\" class=\"data row1 col3\" >184.250000</td>\n",
       "      <td id=\"T_228b1_row1_col4\" class=\"data row1 col4\" >183.765930</td>\n",
       "      <td id=\"T_228b1_row1_col5\" class=\"data row1 col5\" >58414500</td>\n",
       "    </tr>\n",
       "    <tr>\n",
       "      <th id=\"T_228b1_level0_row2\" class=\"row_heading level0 row2\" >2024-01-04 00:00:00</th>\n",
       "      <td id=\"T_228b1_row2_col0\" class=\"data row2 col0\" >182.149994</td>\n",
       "      <td id=\"T_228b1_row2_col1\" class=\"data row2 col1\" >183.089996</td>\n",
       "      <td id=\"T_228b1_row2_col2\" class=\"data row2 col2\" >180.880005</td>\n",
       "      <td id=\"T_228b1_row2_col3\" class=\"data row2 col3\" >181.910004</td>\n",
       "      <td id=\"T_228b1_row2_col4\" class=\"data row2 col4\" >181.432098</td>\n",
       "      <td id=\"T_228b1_row2_col5\" class=\"data row2 col5\" >71983600</td>\n",
       "    </tr>\n",
       "    <tr>\n",
       "      <th id=\"T_228b1_level0_row3\" class=\"row_heading level0 row3\" >2024-01-05 00:00:00</th>\n",
       "      <td id=\"T_228b1_row3_col0\" class=\"data row3 col0\" >181.990005</td>\n",
       "      <td id=\"T_228b1_row3_col1\" class=\"data row3 col1\" >182.759995</td>\n",
       "      <td id=\"T_228b1_row3_col2\" class=\"data row3 col2\" >180.169998</td>\n",
       "      <td id=\"T_228b1_row3_col3\" class=\"data row3 col3\" >181.179993</td>\n",
       "      <td id=\"T_228b1_row3_col4\" class=\"data row3 col4\" >180.703995</td>\n",
       "      <td id=\"T_228b1_row3_col5\" class=\"data row3 col5\" >62303300</td>\n",
       "    </tr>\n",
       "    <tr>\n",
       "      <th id=\"T_228b1_level0_row4\" class=\"row_heading level0 row4\" >2024-01-08 00:00:00</th>\n",
       "      <td id=\"T_228b1_row4_col0\" class=\"data row4 col0\" >182.089996</td>\n",
       "      <td id=\"T_228b1_row4_col1\" class=\"data row4 col1\" >185.600006</td>\n",
       "      <td id=\"T_228b1_row4_col2\" class=\"data row4 col2\" >181.500000</td>\n",
       "      <td id=\"T_228b1_row4_col3\" class=\"data row4 col3\" >185.559998</td>\n",
       "      <td id=\"T_228b1_row4_col4\" class=\"data row4 col4\" >185.072495</td>\n",
       "      <td id=\"T_228b1_row4_col5\" class=\"data row4 col5\" >59144500</td>\n",
       "    </tr>\n",
       "    <tr>\n",
       "      <th id=\"T_228b1_level0_row5\" class=\"row_heading level0 row5\" >2024-01-09 00:00:00</th>\n",
       "      <td id=\"T_228b1_row5_col0\" class=\"data row5 col0\" >183.919998</td>\n",
       "      <td id=\"T_228b1_row5_col1\" class=\"data row5 col1\" >185.149994</td>\n",
       "      <td id=\"T_228b1_row5_col2\" class=\"data row5 col2\" >182.729996</td>\n",
       "      <td id=\"T_228b1_row5_col3\" class=\"data row5 col3\" >185.139999</td>\n",
       "      <td id=\"T_228b1_row5_col4\" class=\"data row5 col4\" >184.653595</td>\n",
       "      <td id=\"T_228b1_row5_col5\" class=\"data row5 col5\" >42841800</td>\n",
       "    </tr>\n",
       "    <tr>\n",
       "      <th id=\"T_228b1_level0_row6\" class=\"row_heading level0 row6\" >2024-01-10 00:00:00</th>\n",
       "      <td id=\"T_228b1_row6_col0\" class=\"data row6 col0\" >184.350006</td>\n",
       "      <td id=\"T_228b1_row6_col1\" class=\"data row6 col1\" >186.399994</td>\n",
       "      <td id=\"T_228b1_row6_col2\" class=\"data row6 col2\" >183.919998</td>\n",
       "      <td id=\"T_228b1_row6_col3\" class=\"data row6 col3\" >186.190002</td>\n",
       "      <td id=\"T_228b1_row6_col4\" class=\"data row6 col4\" >185.700851</td>\n",
       "      <td id=\"T_228b1_row6_col5\" class=\"data row6 col5\" >46792900</td>\n",
       "    </tr>\n",
       "    <tr>\n",
       "      <th id=\"T_228b1_level0_row7\" class=\"row_heading level0 row7\" >2024-01-11 00:00:00</th>\n",
       "      <td id=\"T_228b1_row7_col0\" class=\"data row7 col0\" >186.539993</td>\n",
       "      <td id=\"T_228b1_row7_col1\" class=\"data row7 col1\" >187.050003</td>\n",
       "      <td id=\"T_228b1_row7_col2\" class=\"data row7 col2\" >183.619995</td>\n",
       "      <td id=\"T_228b1_row7_col3\" class=\"data row7 col3\" >185.589996</td>\n",
       "      <td id=\"T_228b1_row7_col4\" class=\"data row7 col4\" >185.102417</td>\n",
       "      <td id=\"T_228b1_row7_col5\" class=\"data row7 col5\" >49128400</td>\n",
       "    </tr>\n",
       "    <tr>\n",
       "      <th id=\"T_228b1_level0_row8\" class=\"row_heading level0 row8\" >2024-01-12 00:00:00</th>\n",
       "      <td id=\"T_228b1_row8_col0\" class=\"data row8 col0\" >186.059998</td>\n",
       "      <td id=\"T_228b1_row8_col1\" class=\"data row8 col1\" >186.740005</td>\n",
       "      <td id=\"T_228b1_row8_col2\" class=\"data row8 col2\" >185.190002</td>\n",
       "      <td id=\"T_228b1_row8_col3\" class=\"data row8 col3\" >185.919998</td>\n",
       "      <td id=\"T_228b1_row8_col4\" class=\"data row8 col4\" >185.431549</td>\n",
       "      <td id=\"T_228b1_row8_col5\" class=\"data row8 col5\" >40444700</td>\n",
       "    </tr>\n",
       "    <tr>\n",
       "      <th id=\"T_228b1_level0_row9\" class=\"row_heading level0 row9\" >2024-01-16 00:00:00</th>\n",
       "      <td id=\"T_228b1_row9_col0\" class=\"data row9 col0\" >182.160004</td>\n",
       "      <td id=\"T_228b1_row9_col1\" class=\"data row9 col1\" >184.259995</td>\n",
       "      <td id=\"T_228b1_row9_col2\" class=\"data row9 col2\" >180.929993</td>\n",
       "      <td id=\"T_228b1_row9_col3\" class=\"data row9 col3\" >183.630005</td>\n",
       "      <td id=\"T_228b1_row9_col4\" class=\"data row9 col4\" >183.147568</td>\n",
       "      <td id=\"T_228b1_row9_col5\" class=\"data row9 col5\" >65603000</td>\n",
       "    </tr>\n",
       "    <tr>\n",
       "      <th id=\"T_228b1_level0_row10\" class=\"row_heading level0 row10\" >2024-01-17 00:00:00</th>\n",
       "      <td id=\"T_228b1_row10_col0\" class=\"data row10 col0\" >181.270004</td>\n",
       "      <td id=\"T_228b1_row10_col1\" class=\"data row10 col1\" >182.929993</td>\n",
       "      <td id=\"T_228b1_row10_col2\" class=\"data row10 col2\" >180.300003</td>\n",
       "      <td id=\"T_228b1_row10_col3\" class=\"data row10 col3\" >182.679993</td>\n",
       "      <td id=\"T_228b1_row10_col4\" class=\"data row10 col4\" >182.200058</td>\n",
       "      <td id=\"T_228b1_row10_col5\" class=\"data row10 col5\" >47317400</td>\n",
       "    </tr>\n",
       "    <tr>\n",
       "      <th id=\"T_228b1_level0_row11\" class=\"row_heading level0 row11\" >2024-01-18 00:00:00</th>\n",
       "      <td id=\"T_228b1_row11_col0\" class=\"data row11 col0\" >186.089996</td>\n",
       "      <td id=\"T_228b1_row11_col1\" class=\"data row11 col1\" >189.139999</td>\n",
       "      <td id=\"T_228b1_row11_col2\" class=\"data row11 col2\" >185.830002</td>\n",
       "      <td id=\"T_228b1_row11_col3\" class=\"data row11 col3\" >188.630005</td>\n",
       "      <td id=\"T_228b1_row11_col4\" class=\"data row11 col4\" >188.134430</td>\n",
       "      <td id=\"T_228b1_row11_col5\" class=\"data row11 col5\" >78005800</td>\n",
       "    </tr>\n",
       "    <tr>\n",
       "      <th id=\"T_228b1_level0_row12\" class=\"row_heading level0 row12\" >2024-01-19 00:00:00</th>\n",
       "      <td id=\"T_228b1_row12_col0\" class=\"data row12 col0\" >189.330002</td>\n",
       "      <td id=\"T_228b1_row12_col1\" class=\"data row12 col1\" >191.949997</td>\n",
       "      <td id=\"T_228b1_row12_col2\" class=\"data row12 col2\" >188.820007</td>\n",
       "      <td id=\"T_228b1_row12_col3\" class=\"data row12 col3\" >191.559998</td>\n",
       "      <td id=\"T_228b1_row12_col4\" class=\"data row12 col4\" >191.056732</td>\n",
       "      <td id=\"T_228b1_row12_col5\" class=\"data row12 col5\" >68741000</td>\n",
       "    </tr>\n",
       "    <tr>\n",
       "      <th id=\"T_228b1_level0_row13\" class=\"row_heading level0 row13\" >2024-01-22 00:00:00</th>\n",
       "      <td id=\"T_228b1_row13_col0\" class=\"data row13 col0\" >192.300003</td>\n",
       "      <td id=\"T_228b1_row13_col1\" class=\"data row13 col1\" >195.330002</td>\n",
       "      <td id=\"T_228b1_row13_col2\" class=\"data row13 col2\" >192.259995</td>\n",
       "      <td id=\"T_228b1_row13_col3\" class=\"data row13 col3\" >193.889999</td>\n",
       "      <td id=\"T_228b1_row13_col4\" class=\"data row13 col4\" >193.380600</td>\n",
       "      <td id=\"T_228b1_row13_col5\" class=\"data row13 col5\" >60133900</td>\n",
       "    </tr>\n",
       "    <tr>\n",
       "      <th id=\"T_228b1_level0_row14\" class=\"row_heading level0 row14\" >2024-01-23 00:00:00</th>\n",
       "      <td id=\"T_228b1_row14_col0\" class=\"data row14 col0\" >195.020004</td>\n",
       "      <td id=\"T_228b1_row14_col1\" class=\"data row14 col1\" >195.750000</td>\n",
       "      <td id=\"T_228b1_row14_col2\" class=\"data row14 col2\" >193.830002</td>\n",
       "      <td id=\"T_228b1_row14_col3\" class=\"data row14 col3\" >195.179993</td>\n",
       "      <td id=\"T_228b1_row14_col4\" class=\"data row14 col4\" >194.667221</td>\n",
       "      <td id=\"T_228b1_row14_col5\" class=\"data row14 col5\" >42355600</td>\n",
       "    </tr>\n",
       "    <tr>\n",
       "      <th id=\"T_228b1_level0_row15\" class=\"row_heading level0 row15\" >2024-01-24 00:00:00</th>\n",
       "      <td id=\"T_228b1_row15_col0\" class=\"data row15 col0\" >195.419998</td>\n",
       "      <td id=\"T_228b1_row15_col1\" class=\"data row15 col1\" >196.380005</td>\n",
       "      <td id=\"T_228b1_row15_col2\" class=\"data row15 col2\" >194.339996</td>\n",
       "      <td id=\"T_228b1_row15_col3\" class=\"data row15 col3\" >194.500000</td>\n",
       "      <td id=\"T_228b1_row15_col4\" class=\"data row15 col4\" >193.988998</td>\n",
       "      <td id=\"T_228b1_row15_col5\" class=\"data row15 col5\" >53631300</td>\n",
       "    </tr>\n",
       "    <tr>\n",
       "      <th id=\"T_228b1_level0_row16\" class=\"row_heading level0 row16\" >2024-01-25 00:00:00</th>\n",
       "      <td id=\"T_228b1_row16_col0\" class=\"data row16 col0\" >195.220001</td>\n",
       "      <td id=\"T_228b1_row16_col1\" class=\"data row16 col1\" >196.270004</td>\n",
       "      <td id=\"T_228b1_row16_col2\" class=\"data row16 col2\" >193.110001</td>\n",
       "      <td id=\"T_228b1_row16_col3\" class=\"data row16 col3\" >194.169998</td>\n",
       "      <td id=\"T_228b1_row16_col4\" class=\"data row16 col4\" >193.659882</td>\n",
       "      <td id=\"T_228b1_row16_col5\" class=\"data row16 col5\" >54822100</td>\n",
       "    </tr>\n",
       "    <tr>\n",
       "      <th id=\"T_228b1_level0_row17\" class=\"row_heading level0 row17\" >2024-01-26 00:00:00</th>\n",
       "      <td id=\"T_228b1_row17_col0\" class=\"data row17 col0\" >194.270004</td>\n",
       "      <td id=\"T_228b1_row17_col1\" class=\"data row17 col1\" >194.759995</td>\n",
       "      <td id=\"T_228b1_row17_col2\" class=\"data row17 col2\" >191.940002</td>\n",
       "      <td id=\"T_228b1_row17_col3\" class=\"data row17 col3\" >192.419998</td>\n",
       "      <td id=\"T_228b1_row17_col4\" class=\"data row17 col4\" >191.914474</td>\n",
       "      <td id=\"T_228b1_row17_col5\" class=\"data row17 col5\" >44594000</td>\n",
       "    </tr>\n",
       "    <tr>\n",
       "      <th id=\"T_228b1_level0_row18\" class=\"row_heading level0 row18\" >2024-01-29 00:00:00</th>\n",
       "      <td id=\"T_228b1_row18_col0\" class=\"data row18 col0\" >192.009995</td>\n",
       "      <td id=\"T_228b1_row18_col1\" class=\"data row18 col1\" >192.199997</td>\n",
       "      <td id=\"T_228b1_row18_col2\" class=\"data row18 col2\" >189.580002</td>\n",
       "      <td id=\"T_228b1_row18_col3\" class=\"data row18 col3\" >191.729996</td>\n",
       "      <td id=\"T_228b1_row18_col4\" class=\"data row18 col4\" >191.226273</td>\n",
       "      <td id=\"T_228b1_row18_col5\" class=\"data row18 col5\" >47145600</td>\n",
       "    </tr>\n",
       "    <tr>\n",
       "      <th id=\"T_228b1_level0_row19\" class=\"row_heading level0 row19\" >2024-01-30 00:00:00</th>\n",
       "      <td id=\"T_228b1_row19_col0\" class=\"data row19 col0\" >190.940002</td>\n",
       "      <td id=\"T_228b1_row19_col1\" class=\"data row19 col1\" >191.800003</td>\n",
       "      <td id=\"T_228b1_row19_col2\" class=\"data row19 col2\" >187.470001</td>\n",
       "      <td id=\"T_228b1_row19_col3\" class=\"data row19 col3\" >188.039993</td>\n",
       "      <td id=\"T_228b1_row19_col4\" class=\"data row19 col4\" >187.545975</td>\n",
       "      <td id=\"T_228b1_row19_col5\" class=\"data row19 col5\" >55859400</td>\n",
       "    </tr>\n",
       "    <tr>\n",
       "      <th id=\"T_228b1_level0_row20\" class=\"row_heading level0 row20\" >2024-01-31 00:00:00</th>\n",
       "      <td id=\"T_228b1_row20_col0\" class=\"data row20 col0\" >187.039993</td>\n",
       "      <td id=\"T_228b1_row20_col1\" class=\"data row20 col1\" >187.100006</td>\n",
       "      <td id=\"T_228b1_row20_col2\" class=\"data row20 col2\" >184.350006</td>\n",
       "      <td id=\"T_228b1_row20_col3\" class=\"data row20 col3\" >184.399994</td>\n",
       "      <td id=\"T_228b1_row20_col4\" class=\"data row20 col4\" >183.915543</td>\n",
       "      <td id=\"T_228b1_row20_col5\" class=\"data row20 col5\" >55467800</td>\n",
       "    </tr>\n",
       "  </tbody>\n",
       "</table>\n"
      ],
      "text/plain": [
       "<pandas.io.formats.style.Styler at 0x2580fce91c0>"
      ]
     },
     "execution_count": 104,
     "metadata": {},
     "output_type": "execute_result"
    }
   ],
   "source": [
    "df1=df.loc['2024-01']\n",
    "style_df(df1)"
   ]
  },
  {
   "cell_type": "code",
   "execution_count": 100,
   "id": "44bc267a-b5fe-4297-b7af-6551614b566b",
   "metadata": {},
   "outputs": [],
   "source": [
    "#to find average price of apples stock"
   ]
  },
  {
   "cell_type": "code",
   "execution_count": 101,
   "id": "68b54b5e-8d49-4192-b486-c7cea5c38984",
   "metadata": {},
   "outputs": [
    {
     "data": {
      "text/plain": [
       "Date\n",
       "2024-01-02    185.639999\n",
       "2024-01-03    184.250000\n",
       "2024-01-04    181.910004\n",
       "2024-01-05    181.179993\n",
       "2024-01-08    185.559998\n",
       "2024-01-09    185.139999\n",
       "2024-01-10    186.190002\n",
       "2024-01-11    185.589996\n",
       "2024-01-12    185.919998\n",
       "2024-01-16    183.630005\n",
       "2024-01-17    182.679993\n",
       "2024-01-18    188.630005\n",
       "2024-01-19    191.559998\n",
       "2024-01-22    193.889999\n",
       "2024-01-23    195.179993\n",
       "2024-01-24    194.500000\n",
       "2024-01-25    194.169998\n",
       "2024-01-26    192.419998\n",
       "2024-01-29    191.729996\n",
       "2024-01-30    188.039993\n",
       "2024-01-31    184.399994\n",
       "Name: Close, dtype: float64"
      ]
     },
     "execution_count": 101,
     "metadata": {},
     "output_type": "execute_result"
    }
   ],
   "source": [
    "df.loc['2024-01'].Close\n",
    "# this gives the average of prices"
   ]
  },
  {
   "cell_type": "code",
   "execution_count": 102,
   "id": "23400b01-9e0a-4ded-af5a-7d522d2a9f3a",
   "metadata": {},
   "outputs": [
    {
     "data": {
      "text/html": [
       "<style type=\"text/css\">\n",
       "#T_5ef4b thead th {\n",
       "  border: 1px solid white;\n",
       "}\n",
       "#T_5ef4b tbody th {\n",
       "  border: 1px solid white;\n",
       "}\n",
       "#T_5ef4b td {\n",
       "  border: 1px solid white;\n",
       "}\n",
       "#T_5ef4b_row0_col0, #T_5ef4b_row0_col1, #T_5ef4b_row0_col2, #T_5ef4b_row0_col3, #T_5ef4b_row0_col4, #T_5ef4b_row0_col5 {\n",
       "  border: 1px solid white;\n",
       "}\n",
       "</style>\n",
       "<table id=\"T_5ef4b\">\n",
       "  <thead>\n",
       "    <tr>\n",
       "      <th class=\"blank level0\" >&nbsp;</th>\n",
       "      <th id=\"T_5ef4b_level0_col0\" class=\"col_heading level0 col0\" >Open</th>\n",
       "      <th id=\"T_5ef4b_level0_col1\" class=\"col_heading level0 col1\" >High</th>\n",
       "      <th id=\"T_5ef4b_level0_col2\" class=\"col_heading level0 col2\" >Low</th>\n",
       "      <th id=\"T_5ef4b_level0_col3\" class=\"col_heading level0 col3\" >Close</th>\n",
       "      <th id=\"T_5ef4b_level0_col4\" class=\"col_heading level0 col4\" >Adj Close</th>\n",
       "      <th id=\"T_5ef4b_level0_col5\" class=\"col_heading level0 col5\" >Volume</th>\n",
       "    </tr>\n",
       "    <tr>\n",
       "      <th class=\"index_name level0\" >Date</th>\n",
       "      <th class=\"blank col0\" >&nbsp;</th>\n",
       "      <th class=\"blank col1\" >&nbsp;</th>\n",
       "      <th class=\"blank col2\" >&nbsp;</th>\n",
       "      <th class=\"blank col3\" >&nbsp;</th>\n",
       "      <th class=\"blank col4\" >&nbsp;</th>\n",
       "      <th class=\"blank col5\" >&nbsp;</th>\n",
       "    </tr>\n",
       "  </thead>\n",
       "  <tbody>\n",
       "    <tr>\n",
       "      <th id=\"T_5ef4b_level0_row0\" class=\"row_heading level0 row0\" >2023-05-23 00:00:00</th>\n",
       "      <td id=\"T_5ef4b_row0_col0\" class=\"data row0 col0\" >173.130005</td>\n",
       "      <td id=\"T_5ef4b_row0_col1\" class=\"data row0 col1\" >173.380005</td>\n",
       "      <td id=\"T_5ef4b_row0_col2\" class=\"data row0 col2\" >171.279999</td>\n",
       "      <td id=\"T_5ef4b_row0_col3\" class=\"data row0 col3\" >171.559998</td>\n",
       "      <td id=\"T_5ef4b_row0_col4\" class=\"data row0 col4\" >170.653702</td>\n",
       "      <td id=\"T_5ef4b_row0_col5\" class=\"data row0 col5\" >50747300</td>\n",
       "    </tr>\n",
       "  </tbody>\n",
       "</table>\n"
      ],
      "text/plain": [
       "<pandas.io.formats.style.Styler at 0x25810059760>"
      ]
     },
     "execution_count": 102,
     "metadata": {},
     "output_type": "execute_result"
    }
   ],
   "source": [
    "style_df(df['2023-05-23':'2023-05-23'])"
   ]
  },
  {
   "cell_type": "code",
   "execution_count": 105,
   "id": "9293993b-d874-46cb-b6f3-3e89cd511cf6",
   "metadata": {},
   "outputs": [
    {
     "data": {
      "text/html": [
       "<style type=\"text/css\">\n",
       "#T_7563e thead th {\n",
       "  border: 1px solid white;\n",
       "}\n",
       "#T_7563e tbody th {\n",
       "  border: 1px solid white;\n",
       "}\n",
       "#T_7563e td {\n",
       "  border: 1px solid white;\n",
       "}\n",
       "#T_7563e_row0_col0, #T_7563e_row0_col1, #T_7563e_row0_col2, #T_7563e_row0_col3, #T_7563e_row0_col4, #T_7563e_row0_col5, #T_7563e_row1_col0, #T_7563e_row1_col1, #T_7563e_row1_col2, #T_7563e_row1_col3, #T_7563e_row1_col4, #T_7563e_row1_col5, #T_7563e_row2_col0, #T_7563e_row2_col1, #T_7563e_row2_col2, #T_7563e_row2_col3, #T_7563e_row2_col4, #T_7563e_row2_col5, #T_7563e_row3_col0, #T_7563e_row3_col1, #T_7563e_row3_col2, #T_7563e_row3_col3, #T_7563e_row3_col4, #T_7563e_row3_col5, #T_7563e_row4_col0, #T_7563e_row4_col1, #T_7563e_row4_col2, #T_7563e_row4_col3, #T_7563e_row4_col4, #T_7563e_row4_col5, #T_7563e_row5_col0, #T_7563e_row5_col1, #T_7563e_row5_col2, #T_7563e_row5_col3, #T_7563e_row5_col4, #T_7563e_row5_col5, #T_7563e_row6_col0, #T_7563e_row6_col1, #T_7563e_row6_col2, #T_7563e_row6_col3, #T_7563e_row6_col4, #T_7563e_row6_col5, #T_7563e_row7_col0, #T_7563e_row7_col1, #T_7563e_row7_col2, #T_7563e_row7_col3, #T_7563e_row7_col4, #T_7563e_row7_col5, #T_7563e_row8_col0, #T_7563e_row8_col1, #T_7563e_row8_col2, #T_7563e_row8_col3, #T_7563e_row8_col4, #T_7563e_row8_col5, #T_7563e_row9_col0, #T_7563e_row9_col1, #T_7563e_row9_col2, #T_7563e_row9_col3, #T_7563e_row9_col4, #T_7563e_row9_col5, #T_7563e_row10_col0, #T_7563e_row10_col1, #T_7563e_row10_col2, #T_7563e_row10_col3, #T_7563e_row10_col4, #T_7563e_row10_col5, #T_7563e_row11_col0, #T_7563e_row11_col1, #T_7563e_row11_col2, #T_7563e_row11_col3, #T_7563e_row11_col4, #T_7563e_row11_col5, #T_7563e_row12_col0, #T_7563e_row12_col1, #T_7563e_row12_col2, #T_7563e_row12_col3, #T_7563e_row12_col4, #T_7563e_row12_col5, #T_7563e_row13_col0, #T_7563e_row13_col1, #T_7563e_row13_col2, #T_7563e_row13_col3, #T_7563e_row13_col4, #T_7563e_row13_col5, #T_7563e_row14_col0, #T_7563e_row14_col1, #T_7563e_row14_col2, #T_7563e_row14_col3, #T_7563e_row14_col4, #T_7563e_row14_col5, #T_7563e_row15_col0, #T_7563e_row15_col1, #T_7563e_row15_col2, #T_7563e_row15_col3, #T_7563e_row15_col4, #T_7563e_row15_col5, #T_7563e_row16_col0, #T_7563e_row16_col1, #T_7563e_row16_col2, #T_7563e_row16_col3, #T_7563e_row16_col4, #T_7563e_row16_col5, #T_7563e_row17_col0, #T_7563e_row17_col1, #T_7563e_row17_col2, #T_7563e_row17_col3, #T_7563e_row17_col4, #T_7563e_row17_col5, #T_7563e_row18_col0, #T_7563e_row18_col1, #T_7563e_row18_col2, #T_7563e_row18_col3, #T_7563e_row18_col4, #T_7563e_row18_col5, #T_7563e_row19_col0, #T_7563e_row19_col1, #T_7563e_row19_col2, #T_7563e_row19_col3, #T_7563e_row19_col4, #T_7563e_row19_col5, #T_7563e_row20_col0, #T_7563e_row20_col1, #T_7563e_row20_col2, #T_7563e_row20_col3, #T_7563e_row20_col4, #T_7563e_row20_col5 {\n",
       "  border: 1px solid white;\n",
       "}\n",
       "</style>\n",
       "<table id=\"T_7563e\">\n",
       "  <thead>\n",
       "    <tr>\n",
       "      <th class=\"blank level0\" >&nbsp;</th>\n",
       "      <th id=\"T_7563e_level0_col0\" class=\"col_heading level0 col0\" >Open</th>\n",
       "      <th id=\"T_7563e_level0_col1\" class=\"col_heading level0 col1\" >High</th>\n",
       "      <th id=\"T_7563e_level0_col2\" class=\"col_heading level0 col2\" >Low</th>\n",
       "      <th id=\"T_7563e_level0_col3\" class=\"col_heading level0 col3\" >Close</th>\n",
       "      <th id=\"T_7563e_level0_col4\" class=\"col_heading level0 col4\" >Adj Close</th>\n",
       "      <th id=\"T_7563e_level0_col5\" class=\"col_heading level0 col5\" >Volume</th>\n",
       "    </tr>\n",
       "    <tr>\n",
       "      <th class=\"index_name level0\" >Date</th>\n",
       "      <th class=\"blank col0\" >&nbsp;</th>\n",
       "      <th class=\"blank col1\" >&nbsp;</th>\n",
       "      <th class=\"blank col2\" >&nbsp;</th>\n",
       "      <th class=\"blank col3\" >&nbsp;</th>\n",
       "      <th class=\"blank col4\" >&nbsp;</th>\n",
       "      <th class=\"blank col5\" >&nbsp;</th>\n",
       "    </tr>\n",
       "  </thead>\n",
       "  <tbody>\n",
       "    <tr>\n",
       "      <th id=\"T_7563e_level0_row0\" class=\"row_heading level0 row0\" >2024-01-02 00:00:00</th>\n",
       "      <td id=\"T_7563e_row0_col0\" class=\"data row0 col0\" >187.149994</td>\n",
       "      <td id=\"T_7563e_row0_col1\" class=\"data row0 col1\" >188.440002</td>\n",
       "      <td id=\"T_7563e_row0_col2\" class=\"data row0 col2\" >183.889999</td>\n",
       "      <td id=\"T_7563e_row0_col3\" class=\"data row0 col3\" >185.639999</td>\n",
       "      <td id=\"T_7563e_row0_col4\" class=\"data row0 col4\" >185.152283</td>\n",
       "      <td id=\"T_7563e_row0_col5\" class=\"data row0 col5\" >82488700</td>\n",
       "    </tr>\n",
       "    <tr>\n",
       "      <th id=\"T_7563e_level0_row1\" class=\"row_heading level0 row1\" >2024-01-03 00:00:00</th>\n",
       "      <td id=\"T_7563e_row1_col0\" class=\"data row1 col0\" >184.220001</td>\n",
       "      <td id=\"T_7563e_row1_col1\" class=\"data row1 col1\" >185.880005</td>\n",
       "      <td id=\"T_7563e_row1_col2\" class=\"data row1 col2\" >183.429993</td>\n",
       "      <td id=\"T_7563e_row1_col3\" class=\"data row1 col3\" >184.250000</td>\n",
       "      <td id=\"T_7563e_row1_col4\" class=\"data row1 col4\" >183.765930</td>\n",
       "      <td id=\"T_7563e_row1_col5\" class=\"data row1 col5\" >58414500</td>\n",
       "    </tr>\n",
       "    <tr>\n",
       "      <th id=\"T_7563e_level0_row2\" class=\"row_heading level0 row2\" >2024-01-04 00:00:00</th>\n",
       "      <td id=\"T_7563e_row2_col0\" class=\"data row2 col0\" >182.149994</td>\n",
       "      <td id=\"T_7563e_row2_col1\" class=\"data row2 col1\" >183.089996</td>\n",
       "      <td id=\"T_7563e_row2_col2\" class=\"data row2 col2\" >180.880005</td>\n",
       "      <td id=\"T_7563e_row2_col3\" class=\"data row2 col3\" >181.910004</td>\n",
       "      <td id=\"T_7563e_row2_col4\" class=\"data row2 col4\" >181.432098</td>\n",
       "      <td id=\"T_7563e_row2_col5\" class=\"data row2 col5\" >71983600</td>\n",
       "    </tr>\n",
       "    <tr>\n",
       "      <th id=\"T_7563e_level0_row3\" class=\"row_heading level0 row3\" >2024-01-05 00:00:00</th>\n",
       "      <td id=\"T_7563e_row3_col0\" class=\"data row3 col0\" >181.990005</td>\n",
       "      <td id=\"T_7563e_row3_col1\" class=\"data row3 col1\" >182.759995</td>\n",
       "      <td id=\"T_7563e_row3_col2\" class=\"data row3 col2\" >180.169998</td>\n",
       "      <td id=\"T_7563e_row3_col3\" class=\"data row3 col3\" >181.179993</td>\n",
       "      <td id=\"T_7563e_row3_col4\" class=\"data row3 col4\" >180.703995</td>\n",
       "      <td id=\"T_7563e_row3_col5\" class=\"data row3 col5\" >62303300</td>\n",
       "    </tr>\n",
       "    <tr>\n",
       "      <th id=\"T_7563e_level0_row4\" class=\"row_heading level0 row4\" >2024-01-08 00:00:00</th>\n",
       "      <td id=\"T_7563e_row4_col0\" class=\"data row4 col0\" >182.089996</td>\n",
       "      <td id=\"T_7563e_row4_col1\" class=\"data row4 col1\" >185.600006</td>\n",
       "      <td id=\"T_7563e_row4_col2\" class=\"data row4 col2\" >181.500000</td>\n",
       "      <td id=\"T_7563e_row4_col3\" class=\"data row4 col3\" >185.559998</td>\n",
       "      <td id=\"T_7563e_row4_col4\" class=\"data row4 col4\" >185.072495</td>\n",
       "      <td id=\"T_7563e_row4_col5\" class=\"data row4 col5\" >59144500</td>\n",
       "    </tr>\n",
       "    <tr>\n",
       "      <th id=\"T_7563e_level0_row5\" class=\"row_heading level0 row5\" >2024-01-09 00:00:00</th>\n",
       "      <td id=\"T_7563e_row5_col0\" class=\"data row5 col0\" >183.919998</td>\n",
       "      <td id=\"T_7563e_row5_col1\" class=\"data row5 col1\" >185.149994</td>\n",
       "      <td id=\"T_7563e_row5_col2\" class=\"data row5 col2\" >182.729996</td>\n",
       "      <td id=\"T_7563e_row5_col3\" class=\"data row5 col3\" >185.139999</td>\n",
       "      <td id=\"T_7563e_row5_col4\" class=\"data row5 col4\" >184.653595</td>\n",
       "      <td id=\"T_7563e_row5_col5\" class=\"data row5 col5\" >42841800</td>\n",
       "    </tr>\n",
       "    <tr>\n",
       "      <th id=\"T_7563e_level0_row6\" class=\"row_heading level0 row6\" >2024-01-10 00:00:00</th>\n",
       "      <td id=\"T_7563e_row6_col0\" class=\"data row6 col0\" >184.350006</td>\n",
       "      <td id=\"T_7563e_row6_col1\" class=\"data row6 col1\" >186.399994</td>\n",
       "      <td id=\"T_7563e_row6_col2\" class=\"data row6 col2\" >183.919998</td>\n",
       "      <td id=\"T_7563e_row6_col3\" class=\"data row6 col3\" >186.190002</td>\n",
       "      <td id=\"T_7563e_row6_col4\" class=\"data row6 col4\" >185.700851</td>\n",
       "      <td id=\"T_7563e_row6_col5\" class=\"data row6 col5\" >46792900</td>\n",
       "    </tr>\n",
       "    <tr>\n",
       "      <th id=\"T_7563e_level0_row7\" class=\"row_heading level0 row7\" >2024-01-11 00:00:00</th>\n",
       "      <td id=\"T_7563e_row7_col0\" class=\"data row7 col0\" >186.539993</td>\n",
       "      <td id=\"T_7563e_row7_col1\" class=\"data row7 col1\" >187.050003</td>\n",
       "      <td id=\"T_7563e_row7_col2\" class=\"data row7 col2\" >183.619995</td>\n",
       "      <td id=\"T_7563e_row7_col3\" class=\"data row7 col3\" >185.589996</td>\n",
       "      <td id=\"T_7563e_row7_col4\" class=\"data row7 col4\" >185.102417</td>\n",
       "      <td id=\"T_7563e_row7_col5\" class=\"data row7 col5\" >49128400</td>\n",
       "    </tr>\n",
       "    <tr>\n",
       "      <th id=\"T_7563e_level0_row8\" class=\"row_heading level0 row8\" >2024-01-12 00:00:00</th>\n",
       "      <td id=\"T_7563e_row8_col0\" class=\"data row8 col0\" >186.059998</td>\n",
       "      <td id=\"T_7563e_row8_col1\" class=\"data row8 col1\" >186.740005</td>\n",
       "      <td id=\"T_7563e_row8_col2\" class=\"data row8 col2\" >185.190002</td>\n",
       "      <td id=\"T_7563e_row8_col3\" class=\"data row8 col3\" >185.919998</td>\n",
       "      <td id=\"T_7563e_row8_col4\" class=\"data row8 col4\" >185.431549</td>\n",
       "      <td id=\"T_7563e_row8_col5\" class=\"data row8 col5\" >40444700</td>\n",
       "    </tr>\n",
       "    <tr>\n",
       "      <th id=\"T_7563e_level0_row9\" class=\"row_heading level0 row9\" >2024-01-16 00:00:00</th>\n",
       "      <td id=\"T_7563e_row9_col0\" class=\"data row9 col0\" >182.160004</td>\n",
       "      <td id=\"T_7563e_row9_col1\" class=\"data row9 col1\" >184.259995</td>\n",
       "      <td id=\"T_7563e_row9_col2\" class=\"data row9 col2\" >180.929993</td>\n",
       "      <td id=\"T_7563e_row9_col3\" class=\"data row9 col3\" >183.630005</td>\n",
       "      <td id=\"T_7563e_row9_col4\" class=\"data row9 col4\" >183.147568</td>\n",
       "      <td id=\"T_7563e_row9_col5\" class=\"data row9 col5\" >65603000</td>\n",
       "    </tr>\n",
       "    <tr>\n",
       "      <th id=\"T_7563e_level0_row10\" class=\"row_heading level0 row10\" >2024-01-17 00:00:00</th>\n",
       "      <td id=\"T_7563e_row10_col0\" class=\"data row10 col0\" >181.270004</td>\n",
       "      <td id=\"T_7563e_row10_col1\" class=\"data row10 col1\" >182.929993</td>\n",
       "      <td id=\"T_7563e_row10_col2\" class=\"data row10 col2\" >180.300003</td>\n",
       "      <td id=\"T_7563e_row10_col3\" class=\"data row10 col3\" >182.679993</td>\n",
       "      <td id=\"T_7563e_row10_col4\" class=\"data row10 col4\" >182.200058</td>\n",
       "      <td id=\"T_7563e_row10_col5\" class=\"data row10 col5\" >47317400</td>\n",
       "    </tr>\n",
       "    <tr>\n",
       "      <th id=\"T_7563e_level0_row11\" class=\"row_heading level0 row11\" >2024-01-18 00:00:00</th>\n",
       "      <td id=\"T_7563e_row11_col0\" class=\"data row11 col0\" >186.089996</td>\n",
       "      <td id=\"T_7563e_row11_col1\" class=\"data row11 col1\" >189.139999</td>\n",
       "      <td id=\"T_7563e_row11_col2\" class=\"data row11 col2\" >185.830002</td>\n",
       "      <td id=\"T_7563e_row11_col3\" class=\"data row11 col3\" >188.630005</td>\n",
       "      <td id=\"T_7563e_row11_col4\" class=\"data row11 col4\" >188.134430</td>\n",
       "      <td id=\"T_7563e_row11_col5\" class=\"data row11 col5\" >78005800</td>\n",
       "    </tr>\n",
       "    <tr>\n",
       "      <th id=\"T_7563e_level0_row12\" class=\"row_heading level0 row12\" >2024-01-19 00:00:00</th>\n",
       "      <td id=\"T_7563e_row12_col0\" class=\"data row12 col0\" >189.330002</td>\n",
       "      <td id=\"T_7563e_row12_col1\" class=\"data row12 col1\" >191.949997</td>\n",
       "      <td id=\"T_7563e_row12_col2\" class=\"data row12 col2\" >188.820007</td>\n",
       "      <td id=\"T_7563e_row12_col3\" class=\"data row12 col3\" >191.559998</td>\n",
       "      <td id=\"T_7563e_row12_col4\" class=\"data row12 col4\" >191.056732</td>\n",
       "      <td id=\"T_7563e_row12_col5\" class=\"data row12 col5\" >68741000</td>\n",
       "    </tr>\n",
       "    <tr>\n",
       "      <th id=\"T_7563e_level0_row13\" class=\"row_heading level0 row13\" >2024-01-22 00:00:00</th>\n",
       "      <td id=\"T_7563e_row13_col0\" class=\"data row13 col0\" >192.300003</td>\n",
       "      <td id=\"T_7563e_row13_col1\" class=\"data row13 col1\" >195.330002</td>\n",
       "      <td id=\"T_7563e_row13_col2\" class=\"data row13 col2\" >192.259995</td>\n",
       "      <td id=\"T_7563e_row13_col3\" class=\"data row13 col3\" >193.889999</td>\n",
       "      <td id=\"T_7563e_row13_col4\" class=\"data row13 col4\" >193.380600</td>\n",
       "      <td id=\"T_7563e_row13_col5\" class=\"data row13 col5\" >60133900</td>\n",
       "    </tr>\n",
       "    <tr>\n",
       "      <th id=\"T_7563e_level0_row14\" class=\"row_heading level0 row14\" >2024-01-23 00:00:00</th>\n",
       "      <td id=\"T_7563e_row14_col0\" class=\"data row14 col0\" >195.020004</td>\n",
       "      <td id=\"T_7563e_row14_col1\" class=\"data row14 col1\" >195.750000</td>\n",
       "      <td id=\"T_7563e_row14_col2\" class=\"data row14 col2\" >193.830002</td>\n",
       "      <td id=\"T_7563e_row14_col3\" class=\"data row14 col3\" >195.179993</td>\n",
       "      <td id=\"T_7563e_row14_col4\" class=\"data row14 col4\" >194.667221</td>\n",
       "      <td id=\"T_7563e_row14_col5\" class=\"data row14 col5\" >42355600</td>\n",
       "    </tr>\n",
       "    <tr>\n",
       "      <th id=\"T_7563e_level0_row15\" class=\"row_heading level0 row15\" >2024-01-24 00:00:00</th>\n",
       "      <td id=\"T_7563e_row15_col0\" class=\"data row15 col0\" >195.419998</td>\n",
       "      <td id=\"T_7563e_row15_col1\" class=\"data row15 col1\" >196.380005</td>\n",
       "      <td id=\"T_7563e_row15_col2\" class=\"data row15 col2\" >194.339996</td>\n",
       "      <td id=\"T_7563e_row15_col3\" class=\"data row15 col3\" >194.500000</td>\n",
       "      <td id=\"T_7563e_row15_col4\" class=\"data row15 col4\" >193.988998</td>\n",
       "      <td id=\"T_7563e_row15_col5\" class=\"data row15 col5\" >53631300</td>\n",
       "    </tr>\n",
       "    <tr>\n",
       "      <th id=\"T_7563e_level0_row16\" class=\"row_heading level0 row16\" >2024-01-25 00:00:00</th>\n",
       "      <td id=\"T_7563e_row16_col0\" class=\"data row16 col0\" >195.220001</td>\n",
       "      <td id=\"T_7563e_row16_col1\" class=\"data row16 col1\" >196.270004</td>\n",
       "      <td id=\"T_7563e_row16_col2\" class=\"data row16 col2\" >193.110001</td>\n",
       "      <td id=\"T_7563e_row16_col3\" class=\"data row16 col3\" >194.169998</td>\n",
       "      <td id=\"T_7563e_row16_col4\" class=\"data row16 col4\" >193.659882</td>\n",
       "      <td id=\"T_7563e_row16_col5\" class=\"data row16 col5\" >54822100</td>\n",
       "    </tr>\n",
       "    <tr>\n",
       "      <th id=\"T_7563e_level0_row17\" class=\"row_heading level0 row17\" >2024-01-26 00:00:00</th>\n",
       "      <td id=\"T_7563e_row17_col0\" class=\"data row17 col0\" >194.270004</td>\n",
       "      <td id=\"T_7563e_row17_col1\" class=\"data row17 col1\" >194.759995</td>\n",
       "      <td id=\"T_7563e_row17_col2\" class=\"data row17 col2\" >191.940002</td>\n",
       "      <td id=\"T_7563e_row17_col3\" class=\"data row17 col3\" >192.419998</td>\n",
       "      <td id=\"T_7563e_row17_col4\" class=\"data row17 col4\" >191.914474</td>\n",
       "      <td id=\"T_7563e_row17_col5\" class=\"data row17 col5\" >44594000</td>\n",
       "    </tr>\n",
       "    <tr>\n",
       "      <th id=\"T_7563e_level0_row18\" class=\"row_heading level0 row18\" >2024-01-29 00:00:00</th>\n",
       "      <td id=\"T_7563e_row18_col0\" class=\"data row18 col0\" >192.009995</td>\n",
       "      <td id=\"T_7563e_row18_col1\" class=\"data row18 col1\" >192.199997</td>\n",
       "      <td id=\"T_7563e_row18_col2\" class=\"data row18 col2\" >189.580002</td>\n",
       "      <td id=\"T_7563e_row18_col3\" class=\"data row18 col3\" >191.729996</td>\n",
       "      <td id=\"T_7563e_row18_col4\" class=\"data row18 col4\" >191.226273</td>\n",
       "      <td id=\"T_7563e_row18_col5\" class=\"data row18 col5\" >47145600</td>\n",
       "    </tr>\n",
       "    <tr>\n",
       "      <th id=\"T_7563e_level0_row19\" class=\"row_heading level0 row19\" >2024-01-30 00:00:00</th>\n",
       "      <td id=\"T_7563e_row19_col0\" class=\"data row19 col0\" >190.940002</td>\n",
       "      <td id=\"T_7563e_row19_col1\" class=\"data row19 col1\" >191.800003</td>\n",
       "      <td id=\"T_7563e_row19_col2\" class=\"data row19 col2\" >187.470001</td>\n",
       "      <td id=\"T_7563e_row19_col3\" class=\"data row19 col3\" >188.039993</td>\n",
       "      <td id=\"T_7563e_row19_col4\" class=\"data row19 col4\" >187.545975</td>\n",
       "      <td id=\"T_7563e_row19_col5\" class=\"data row19 col5\" >55859400</td>\n",
       "    </tr>\n",
       "    <tr>\n",
       "      <th id=\"T_7563e_level0_row20\" class=\"row_heading level0 row20\" >2024-01-31 00:00:00</th>\n",
       "      <td id=\"T_7563e_row20_col0\" class=\"data row20 col0\" >187.039993</td>\n",
       "      <td id=\"T_7563e_row20_col1\" class=\"data row20 col1\" >187.100006</td>\n",
       "      <td id=\"T_7563e_row20_col2\" class=\"data row20 col2\" >184.350006</td>\n",
       "      <td id=\"T_7563e_row20_col3\" class=\"data row20 col3\" >184.399994</td>\n",
       "      <td id=\"T_7563e_row20_col4\" class=\"data row20 col4\" >183.915543</td>\n",
       "      <td id=\"T_7563e_row20_col5\" class=\"data row20 col5\" >55467800</td>\n",
       "    </tr>\n",
       "  </tbody>\n",
       "</table>\n"
      ],
      "text/plain": [
       "<pandas.io.formats.style.Styler at 0x2580f950140>"
      ]
     },
     "execution_count": 105,
     "metadata": {},
     "output_type": "execute_result"
    }
   ],
   "source": [
    "style_df(df['2024-01-01':'2024-01-31'])"
   ]
  },
  {
   "cell_type": "code",
   "execution_count": 68,
   "id": "ee72752d-e406-49bd-8484-d8e93d4a7671",
   "metadata": {},
   "outputs": [
    {
     "data": {
      "text/plain": [
       "Date\n",
       "2023-05-31    174.394999\n",
       "2023-06-30    184.283333\n",
       "2023-07-31    192.411501\n",
       "2023-08-31    181.083913\n",
       "2023-09-30    177.002501\n",
       "2023-10-31    174.668638\n",
       "2023-11-30    185.879523\n",
       "2023-12-31    194.308501\n",
       "2024-01-31    187.724284\n",
       "2024-02-29    184.775501\n",
       "2024-03-31    172.696500\n",
       "2024-04-30    169.604545\n",
       "2024-05-31    184.850625\n",
       "Freq: ME, Name: Close, dtype: float64"
      ]
     },
     "execution_count": 68,
     "metadata": {},
     "output_type": "execute_result"
    }
   ],
   "source": [
    "df.Close.resample(\"ME\").mean()"
   ]
  },
  {
   "cell_type": "code",
   "execution_count": 75,
   "id": "c274bb87-a7b5-4f86-800a-42b74f6a7b3e",
   "metadata": {},
   "outputs": [
    {
     "data": {
      "text/plain": [
       "<Axes: xlabel='Date'>"
      ]
     },
     "execution_count": 75,
     "metadata": {},
     "output_type": "execute_result"
    },
    {
     "data": {
      "image/png": "[encoded data removed]",
      "text/plain": [
       "<Figure size 640x480 with 1 Axes>"
      ]
     },
     "metadata": {},
     "output_type": "display_data"
    }
   ],
   "source": [
    "df.Close.resample(\"W\").mean().plot() #IF WEEKLY"
   ]
  },
  {
   "cell_type": "code",
   "execution_count": 77,
   "id": "53076e08-dae9-4bd4-8676-4a35580551c2",
   "metadata": {},
   "outputs": [
    {
     "data": {
      "text/plain": [
       "<Axes: xlabel='Date'>"
      ]
     },
     "execution_count": 77,
     "metadata": {},
     "output_type": "execute_result"
    },
    {
     "data": {
      "image/png": "[encoded data removed]",
      "text/plain": [
       "<Figure size 640x480 with 1 Axes>"
      ]
     },
     "metadata": {},
     "output_type": "display_data"
    }
   ],
   "source": [
    "df.Close.resample(\"ME\").mean().plot() #IF MONTHLY"
   ]
  },
  {
   "cell_type": "code",
   "execution_count": 80,
   "id": "25d36bc0-c473-405d-8b7b-efd56599bcd6",
   "metadata": {},
   "outputs": [
    {
     "data": {
      "text/plain": [
       "<Axes: xlabel='Date'>"
      ]
     },
     "execution_count": 80,
     "metadata": {},
     "output_type": "execute_result"
    },
    {
     "data": {
      "image/png": "[encoded data removed]",
      "text/plain": [
       "<Figure size 640x480 with 1 Axes>"
      ]
     },
     "metadata": {},
     "output_type": "display_data"
    }
   ],
   "source": [
    "df.Close.resample(\"YE\").mean().plot() #IF Yearly"
   ]
  },
  {
   "cell_type": "code",
   "execution_count": 83,
   "id": "fcaf47b3-9676-4713-8878-f34fe2de2856",
   "metadata": {
    "scrolled": true
   },
   "outputs": [
    {
     "data": {
      "text/plain": [
       "<Axes: xlabel='Date'>"
      ]
     },
     "execution_count": 83,
     "metadata": {},
     "output_type": "execute_result"
    },
    {
     "data": {
      "image/png": "[encoded data removed]",
      "text/plain": [
       "<Figure size 640x480 with 1 Axes>"
      ]
     },
     "metadata": {},
     "output_type": "display_data"
    }
   ],
   "source": [
    "df.Close.resample(\"QS\").mean().plot(kind=\"bar\") #IF quaterly"
   ]
  },
  {
   "cell_type": "markdown",
   "id": "402e60d0-c4ec-4b0d-b291-75adf47e20de",
   "metadata": {},
   "source": [
    "<hr style=\"border-top: 2px solid green\">"
   ]
  },
  {
   "cell_type": "markdown",
   "id": "1cecc01b-336b-40b2-bd63-954e548ab609",
   "metadata": {},
   "source": [
    "# Pandas_16 date_range\n",
    "<hr style=\"border-top: 2px solid blue\">"
   ]
  },
  {
   "cell_type": "code",
   "execution_count": 163,
   "id": "bca12e73-687e-47f2-a3d4-7be7d98b33e8",
   "metadata": {},
   "outputs": [
    {
     "data": {
      "text/html": [
       "<iframe width=\"560\" height=\"315\" src=\"https://www.youtube.com/embed/A9c7hGXQ5A8?si=qsMIKKkufZKrcQjD\" title=\"YouTube video player\" frameborder=\"0\" allow=\"accelerometer; autoplay; clipboard-write; encrypted-media; gyroscope; picture-in-picture; web-share\" referrerpolicy=\"strict-origin-when-cross-origin\" allowfullscreen></iframe>\n"
      ],
      "text/plain": [
       "<IPython.core.display.HTML object>"
      ]
     },
     "metadata": {},
     "output_type": "display_data"
    }
   ],
   "source": [
    "%%HTML\n",
    "<iframe width=\"560\" height=\"315\" src=\"https://www.youtube.com/embed/A9c7hGXQ5A8?si=qsMIKKkufZKrcQjD\" title=\"YouTube video player\" frameborder=\"0\" allow=\"accelerometer; autoplay; clipboard-write; encrypted-media; gyroscope; picture-in-picture; web-share\" referrerpolicy=\"strict-origin-when-cross-origin\" allowfullscreen></iframe>"
   ]
  },
  {
   "cell_type": "code",
   "execution_count": 106,
   "id": "140d3480-f76b-4b35-8eef-e7bd72a8c82f",
   "metadata": {},
   "outputs": [
    {
     "data": {
      "text/html": [
       "<div>\n",
       "<style scoped>\n",
       "    .dataframe tbody tr th:only-of-type {\n",
       "        vertical-align: middle;\n",
       "    }\n",
       "\n",
       "    .dataframe tbody tr th {\n",
       "        vertical-align: top;\n",
       "    }\n",
       "\n",
       "    .dataframe thead th {\n",
       "        text-align: right;\n",
       "    }\n",
       "</style>\n",
       "<table border=\"1\" class=\"dataframe\">\n",
       "  <thead>\n",
       "    <tr style=\"text-align: right;\">\n",
       "      <th></th>\n",
       "      <th>Open</th>\n",
       "      <th>High</th>\n",
       "      <th>Low</th>\n",
       "      <th>Close</th>\n",
       "      <th>Adj Close</th>\n",
       "      <th>Volume</th>\n",
       "    </tr>\n",
       "  </thead>\n",
       "  <tbody>\n",
       "    <tr>\n",
       "      <th>0</th>\n",
       "      <td>173.130005</td>\n",
       "      <td>173.380005</td>\n",
       "      <td>171.279999</td>\n",
       "      <td>171.559998</td>\n",
       "      <td>170.653702</td>\n",
       "      <td>50747300</td>\n",
       "    </tr>\n",
       "    <tr>\n",
       "      <th>1</th>\n",
       "      <td>171.089996</td>\n",
       "      <td>172.419998</td>\n",
       "      <td>170.520004</td>\n",
       "      <td>171.839996</td>\n",
       "      <td>170.932220</td>\n",
       "      <td>45143500</td>\n",
       "    </tr>\n",
       "    <tr>\n",
       "      <th>2</th>\n",
       "      <td>172.410004</td>\n",
       "      <td>173.899994</td>\n",
       "      <td>171.690002</td>\n",
       "      <td>172.990005</td>\n",
       "      <td>172.076141</td>\n",
       "      <td>56058300</td>\n",
       "    </tr>\n",
       "    <tr>\n",
       "      <th>3</th>\n",
       "      <td>173.320007</td>\n",
       "      <td>175.770004</td>\n",
       "      <td>173.110001</td>\n",
       "      <td>175.429993</td>\n",
       "      <td>174.503250</td>\n",
       "      <td>54835000</td>\n",
       "    </tr>\n",
       "    <tr>\n",
       "      <th>4</th>\n",
       "      <td>176.960007</td>\n",
       "      <td>178.990005</td>\n",
       "      <td>176.570007</td>\n",
       "      <td>177.300003</td>\n",
       "      <td>176.363358</td>\n",
       "      <td>55964400</td>\n",
       "    </tr>\n",
       "    <tr>\n",
       "      <th>...</th>\n",
       "      <td>...</td>\n",
       "      <td>...</td>\n",
       "      <td>...</td>\n",
       "      <td>...</td>\n",
       "      <td>...</td>\n",
       "      <td>...</td>\n",
       "    </tr>\n",
       "    <tr>\n",
       "      <th>247</th>\n",
       "      <td>190.470001</td>\n",
       "      <td>191.100006</td>\n",
       "      <td>189.660004</td>\n",
       "      <td>189.839996</td>\n",
       "      <td>189.839996</td>\n",
       "      <td>52845200</td>\n",
       "    </tr>\n",
       "    <tr>\n",
       "      <th>248</th>\n",
       "      <td>189.509995</td>\n",
       "      <td>190.809998</td>\n",
       "      <td>189.179993</td>\n",
       "      <td>189.869995</td>\n",
       "      <td>189.869995</td>\n",
       "      <td>41282900</td>\n",
       "    </tr>\n",
       "    <tr>\n",
       "      <th>249</th>\n",
       "      <td>189.330002</td>\n",
       "      <td>191.919998</td>\n",
       "      <td>189.009995</td>\n",
       "      <td>191.039993</td>\n",
       "      <td>191.039993</td>\n",
       "      <td>44361300</td>\n",
       "    </tr>\n",
       "    <tr>\n",
       "      <th>250</th>\n",
       "      <td>191.089996</td>\n",
       "      <td>192.729996</td>\n",
       "      <td>190.919998</td>\n",
       "      <td>192.350006</td>\n",
       "      <td>192.350006</td>\n",
       "      <td>42309400</td>\n",
       "    </tr>\n",
       "    <tr>\n",
       "      <th>251</th>\n",
       "      <td>192.270004</td>\n",
       "      <td>192.820007</td>\n",
       "      <td>190.270004</td>\n",
       "      <td>190.899994</td>\n",
       "      <td>190.899994</td>\n",
       "      <td>34581900</td>\n",
       "    </tr>\n",
       "  </tbody>\n",
       "</table>\n",
       "<p>252 rows × 6 columns</p>\n",
       "</div>"
      ],
      "text/plain": [
       "           Open        High         Low       Close   Adj Close    Volume\n",
       "0    173.130005  173.380005  171.279999  171.559998  170.653702  50747300\n",
       "1    171.089996  172.419998  170.520004  171.839996  170.932220  45143500\n",
       "2    172.410004  173.899994  171.690002  172.990005  172.076141  56058300\n",
       "3    173.320007  175.770004  173.110001  175.429993  174.503250  54835000\n",
       "4    176.960007  178.990005  176.570007  177.300003  176.363358  55964400\n",
       "..          ...         ...         ...         ...         ...       ...\n",
       "247  190.470001  191.100006  189.660004  189.839996  189.839996  52845200\n",
       "248  189.509995  190.809998  189.179993  189.869995  189.869995  41282900\n",
       "249  189.330002  191.919998  189.009995  191.039993  191.039993  44361300\n",
       "250  191.089996  192.729996  190.919998  192.350006  192.350006  42309400\n",
       "251  192.270004  192.820007  190.270004  190.899994  190.899994  34581900\n",
       "\n",
       "[252 rows x 6 columns]"
      ]
     },
     "execution_count": 106,
     "metadata": {},
     "output_type": "execute_result"
    }
   ],
   "source": [
    "df1=pd.read_csv(\"aapl_no_dates.csv\")\n",
    "df1"
   ]
  },
  {
   "cell_type": "code",
   "execution_count": 144,
   "id": "b38d3580-5d17-4baf-b421-e89da62d1d0c",
   "metadata": {},
   "outputs": [
    {
     "data": {
      "text/plain": [
       "DatetimeIndex(['2023-05-23', '2023-05-24', '2023-05-25', '2023-05-26',\n",
       "               '2023-05-29', '2023-05-30', '2023-05-31', '2023-06-01',\n",
       "               '2023-06-02', '2023-06-05',\n",
       "               ...\n",
       "               '2024-04-25', '2024-04-26', '2024-04-29', '2024-04-30',\n",
       "               '2024-05-01', '2024-05-02', '2024-05-03', '2024-05-06',\n",
       "               '2024-05-07', '2024-05-08'],\n",
       "              dtype='datetime64[ns]', name='date', length=252, freq='C')"
      ]
     },
     "execution_count": 144,
     "metadata": {},
     "output_type": "execute_result"
    }
   ],
   "source": [
    "dates=pd.date_range(start=\"2023/05/23\",end=\"2024/05/8\",freq=\"C\",name=\"date\")\n",
    "dates"
   ]
  },
  {
   "cell_type": "code",
   "execution_count": 127,
   "id": "da897123-e1d6-4b31-817d-79bbe49c975f",
   "metadata": {},
   "outputs": [
    {
     "data": {
      "text/html": [
       "<div>\n",
       "<style scoped>\n",
       "    .dataframe tbody tr th:only-of-type {\n",
       "        vertical-align: middle;\n",
       "    }\n",
       "\n",
       "    .dataframe tbody tr th {\n",
       "        vertical-align: top;\n",
       "    }\n",
       "\n",
       "    .dataframe thead th {\n",
       "        text-align: right;\n",
       "    }\n",
       "</style>\n",
       "<table border=\"1\" class=\"dataframe\">\n",
       "  <thead>\n",
       "    <tr style=\"text-align: right;\">\n",
       "      <th></th>\n",
       "      <th>Open</th>\n",
       "      <th>High</th>\n",
       "      <th>Low</th>\n",
       "      <th>Close</th>\n",
       "      <th>Adj Close</th>\n",
       "      <th>Volume</th>\n",
       "    </tr>\n",
       "    <tr>\n",
       "      <th>date</th>\n",
       "      <th></th>\n",
       "      <th></th>\n",
       "      <th></th>\n",
       "      <th></th>\n",
       "      <th></th>\n",
       "      <th></th>\n",
       "    </tr>\n",
       "  </thead>\n",
       "  <tbody>\n",
       "    <tr>\n",
       "      <th>2023-05-23</th>\n",
       "      <td>173.130005</td>\n",
       "      <td>173.380005</td>\n",
       "      <td>171.279999</td>\n",
       "      <td>171.559998</td>\n",
       "      <td>170.653702</td>\n",
       "      <td>50747300</td>\n",
       "    </tr>\n",
       "    <tr>\n",
       "      <th>2023-05-24</th>\n",
       "      <td>171.089996</td>\n",
       "      <td>172.419998</td>\n",
       "      <td>170.520004</td>\n",
       "      <td>171.839996</td>\n",
       "      <td>170.932220</td>\n",
       "      <td>45143500</td>\n",
       "    </tr>\n",
       "    <tr>\n",
       "      <th>2023-05-25</th>\n",
       "      <td>172.410004</td>\n",
       "      <td>173.899994</td>\n",
       "      <td>171.690002</td>\n",
       "      <td>172.990005</td>\n",
       "      <td>172.076141</td>\n",
       "      <td>56058300</td>\n",
       "    </tr>\n",
       "    <tr>\n",
       "      <th>2023-05-26</th>\n",
       "      <td>173.320007</td>\n",
       "      <td>175.770004</td>\n",
       "      <td>173.110001</td>\n",
       "      <td>175.429993</td>\n",
       "      <td>174.503250</td>\n",
       "      <td>54835000</td>\n",
       "    </tr>\n",
       "    <tr>\n",
       "      <th>2023-05-29</th>\n",
       "      <td>176.960007</td>\n",
       "      <td>178.990005</td>\n",
       "      <td>176.570007</td>\n",
       "      <td>177.300003</td>\n",
       "      <td>176.363358</td>\n",
       "      <td>55964400</td>\n",
       "    </tr>\n",
       "    <tr>\n",
       "      <th>...</th>\n",
       "      <td>...</td>\n",
       "      <td>...</td>\n",
       "      <td>...</td>\n",
       "      <td>...</td>\n",
       "      <td>...</td>\n",
       "      <td>...</td>\n",
       "    </tr>\n",
       "    <tr>\n",
       "      <th>2024-05-02</th>\n",
       "      <td>190.470001</td>\n",
       "      <td>191.100006</td>\n",
       "      <td>189.660004</td>\n",
       "      <td>189.839996</td>\n",
       "      <td>189.839996</td>\n",
       "      <td>52845200</td>\n",
       "    </tr>\n",
       "    <tr>\n",
       "      <th>2024-05-03</th>\n",
       "      <td>189.509995</td>\n",
       "      <td>190.809998</td>\n",
       "      <td>189.179993</td>\n",
       "      <td>189.869995</td>\n",
       "      <td>189.869995</td>\n",
       "      <td>41282900</td>\n",
       "    </tr>\n",
       "    <tr>\n",
       "      <th>2024-05-06</th>\n",
       "      <td>189.330002</td>\n",
       "      <td>191.919998</td>\n",
       "      <td>189.009995</td>\n",
       "      <td>191.039993</td>\n",
       "      <td>191.039993</td>\n",
       "      <td>44361300</td>\n",
       "    </tr>\n",
       "    <tr>\n",
       "      <th>2024-05-07</th>\n",
       "      <td>191.089996</td>\n",
       "      <td>192.729996</td>\n",
       "      <td>190.919998</td>\n",
       "      <td>192.350006</td>\n",
       "      <td>192.350006</td>\n",
       "      <td>42309400</td>\n",
       "    </tr>\n",
       "    <tr>\n",
       "      <th>2024-05-08</th>\n",
       "      <td>192.270004</td>\n",
       "      <td>192.820007</td>\n",
       "      <td>190.270004</td>\n",
       "      <td>190.899994</td>\n",
       "      <td>190.899994</td>\n",
       "      <td>34581900</td>\n",
       "    </tr>\n",
       "  </tbody>\n",
       "</table>\n",
       "<p>252 rows × 6 columns</p>\n",
       "</div>"
      ],
      "text/plain": [
       "                  Open        High         Low       Close   Adj Close  \\\n",
       "date                                                                     \n",
       "2023-05-23  173.130005  173.380005  171.279999  171.559998  170.653702   \n",
       "2023-05-24  171.089996  172.419998  170.520004  171.839996  170.932220   \n",
       "2023-05-25  172.410004  173.899994  171.690002  172.990005  172.076141   \n",
       "2023-05-26  173.320007  175.770004  173.110001  175.429993  174.503250   \n",
       "2023-05-29  176.960007  178.990005  176.570007  177.300003  176.363358   \n",
       "...                ...         ...         ...         ...         ...   \n",
       "2024-05-02  190.470001  191.100006  189.660004  189.839996  189.839996   \n",
       "2024-05-03  189.509995  190.809998  189.179993  189.869995  189.869995   \n",
       "2024-05-06  189.330002  191.919998  189.009995  191.039993  191.039993   \n",
       "2024-05-07  191.089996  192.729996  190.919998  192.350006  192.350006   \n",
       "2024-05-08  192.270004  192.820007  190.270004  190.899994  190.899994   \n",
       "\n",
       "              Volume  \n",
       "date                  \n",
       "2023-05-23  50747300  \n",
       "2023-05-24  45143500  \n",
       "2023-05-25  56058300  \n",
       "2023-05-26  54835000  \n",
       "2023-05-29  55964400  \n",
       "...              ...  \n",
       "2024-05-02  52845200  \n",
       "2024-05-03  41282900  \n",
       "2024-05-06  44361300  \n",
       "2024-05-07  42309400  \n",
       "2024-05-08  34581900  \n",
       "\n",
       "[252 rows x 6 columns]"
      ]
     },
     "execution_count": 127,
     "metadata": {},
     "output_type": "execute_result"
    }
   ],
   "source": [
    "df1.set_index(dates,inplace=True)\n",
    "df1"
   ]
  },
  {
   "cell_type": "code",
   "execution_count": 128,
   "id": "1cc3c87f-4cf2-4218-94b4-0b8b63aebb7c",
   "metadata": {},
   "outputs": [
    {
     "data": {
      "text/plain": [
       "<Axes: xlabel='date'>"
      ]
     },
     "execution_count": 128,
     "metadata": {},
     "output_type": "execute_result"
    },
    {
     "data": {
      "image/png": "[encoded data removed]",
      "text/plain": [
       "<Figure size 640x480 with 1 Axes>"
      ]
     },
     "metadata": {},
     "output_type": "display_data"
    }
   ],
   "source": [
    "df1.Close.plot()"
   ]
  },
  {
   "cell_type": "code",
   "execution_count": 129,
   "id": "ae130ea9-f335-416d-ac56-89205920bb80",
   "metadata": {
    "scrolled": true
   },
   "outputs": [
    {
     "data": {
      "text/plain": [
       "<Axes: xlabel='date'>"
      ]
     },
     "execution_count": 129,
     "metadata": {},
     "output_type": "execute_result"
    },
    {
     "data": {
      "image/png": "[encoded data removed]",
      "text/plain": [
       "<Figure size 640x480 with 1 Axes>"
      ]
     },
     "metadata": {},
     "output_type": "display_data"
    }
   ],
   "source": [
    "df1.loc[\"2023-05-23\":\"2024-01-01\"].Close.plot()"
   ]
  },
  {
   "cell_type": "code",
   "execution_count": 130,
   "id": "b2e1a4eb-cfff-46b3-9915-3b85cbdfd06d",
   "metadata": {},
   "outputs": [
    {
     "data": {
      "text/html": [
       "<div>\n",
       "<style scoped>\n",
       "    .dataframe tbody tr th:only-of-type {\n",
       "        vertical-align: middle;\n",
       "    }\n",
       "\n",
       "    .dataframe tbody tr th {\n",
       "        vertical-align: top;\n",
       "    }\n",
       "\n",
       "    .dataframe thead th {\n",
       "        text-align: right;\n",
       "    }\n",
       "</style>\n",
       "<table border=\"1\" class=\"dataframe\">\n",
       "  <thead>\n",
       "    <tr style=\"text-align: right;\">\n",
       "      <th></th>\n",
       "      <th>Open</th>\n",
       "      <th>High</th>\n",
       "      <th>Low</th>\n",
       "      <th>Close</th>\n",
       "      <th>Adj Close</th>\n",
       "      <th>Volume</th>\n",
       "    </tr>\n",
       "    <tr>\n",
       "      <th>date</th>\n",
       "      <th></th>\n",
       "      <th></th>\n",
       "      <th></th>\n",
       "      <th></th>\n",
       "      <th></th>\n",
       "      <th></th>\n",
       "    </tr>\n",
       "  </thead>\n",
       "  <tbody>\n",
       "    <tr>\n",
       "      <th>2023-05-23</th>\n",
       "      <td>173.130005</td>\n",
       "      <td>173.380005</td>\n",
       "      <td>171.279999</td>\n",
       "      <td>171.559998</td>\n",
       "      <td>170.653702</td>\n",
       "      <td>50747300</td>\n",
       "    </tr>\n",
       "    <tr>\n",
       "      <th>2023-05-24</th>\n",
       "      <td>171.089996</td>\n",
       "      <td>172.419998</td>\n",
       "      <td>170.520004</td>\n",
       "      <td>171.839996</td>\n",
       "      <td>170.932220</td>\n",
       "      <td>45143500</td>\n",
       "    </tr>\n",
       "    <tr>\n",
       "      <th>2023-05-25</th>\n",
       "      <td>172.410004</td>\n",
       "      <td>173.899994</td>\n",
       "      <td>171.690002</td>\n",
       "      <td>172.990005</td>\n",
       "      <td>172.076141</td>\n",
       "      <td>56058300</td>\n",
       "    </tr>\n",
       "    <tr>\n",
       "      <th>2023-05-26</th>\n",
       "      <td>173.320007</td>\n",
       "      <td>175.770004</td>\n",
       "      <td>173.110001</td>\n",
       "      <td>175.429993</td>\n",
       "      <td>174.503250</td>\n",
       "      <td>54835000</td>\n",
       "    </tr>\n",
       "    <tr>\n",
       "      <th>2023-05-27</th>\n",
       "      <td>173.320007</td>\n",
       "      <td>175.770004</td>\n",
       "      <td>173.110001</td>\n",
       "      <td>175.429993</td>\n",
       "      <td>174.503250</td>\n",
       "      <td>54835000</td>\n",
       "    </tr>\n",
       "    <tr>\n",
       "      <th>...</th>\n",
       "      <td>...</td>\n",
       "      <td>...</td>\n",
       "      <td>...</td>\n",
       "      <td>...</td>\n",
       "      <td>...</td>\n",
       "      <td>...</td>\n",
       "    </tr>\n",
       "    <tr>\n",
       "      <th>2024-05-04</th>\n",
       "      <td>189.509995</td>\n",
       "      <td>190.809998</td>\n",
       "      <td>189.179993</td>\n",
       "      <td>189.869995</td>\n",
       "      <td>189.869995</td>\n",
       "      <td>41282900</td>\n",
       "    </tr>\n",
       "    <tr>\n",
       "      <th>2024-05-05</th>\n",
       "      <td>189.509995</td>\n",
       "      <td>190.809998</td>\n",
       "      <td>189.179993</td>\n",
       "      <td>189.869995</td>\n",
       "      <td>189.869995</td>\n",
       "      <td>41282900</td>\n",
       "    </tr>\n",
       "    <tr>\n",
       "      <th>2024-05-06</th>\n",
       "      <td>189.330002</td>\n",
       "      <td>191.919998</td>\n",
       "      <td>189.009995</td>\n",
       "      <td>191.039993</td>\n",
       "      <td>191.039993</td>\n",
       "      <td>44361300</td>\n",
       "    </tr>\n",
       "    <tr>\n",
       "      <th>2024-05-07</th>\n",
       "      <td>191.089996</td>\n",
       "      <td>192.729996</td>\n",
       "      <td>190.919998</td>\n",
       "      <td>192.350006</td>\n",
       "      <td>192.350006</td>\n",
       "      <td>42309400</td>\n",
       "    </tr>\n",
       "    <tr>\n",
       "      <th>2024-05-08</th>\n",
       "      <td>192.270004</td>\n",
       "      <td>192.820007</td>\n",
       "      <td>190.270004</td>\n",
       "      <td>190.899994</td>\n",
       "      <td>190.899994</td>\n",
       "      <td>34581900</td>\n",
       "    </tr>\n",
       "  </tbody>\n",
       "</table>\n",
       "<p>352 rows × 6 columns</p>\n",
       "</div>"
      ],
      "text/plain": [
       "                  Open        High         Low       Close   Adj Close  \\\n",
       "date                                                                     \n",
       "2023-05-23  173.130005  173.380005  171.279999  171.559998  170.653702   \n",
       "2023-05-24  171.089996  172.419998  170.520004  171.839996  170.932220   \n",
       "2023-05-25  172.410004  173.899994  171.690002  172.990005  172.076141   \n",
       "2023-05-26  173.320007  175.770004  173.110001  175.429993  174.503250   \n",
       "2023-05-27  173.320007  175.770004  173.110001  175.429993  174.503250   \n",
       "...                ...         ...         ...         ...         ...   \n",
       "2024-05-04  189.509995  190.809998  189.179993  189.869995  189.869995   \n",
       "2024-05-05  189.509995  190.809998  189.179993  189.869995  189.869995   \n",
       "2024-05-06  189.330002  191.919998  189.009995  191.039993  191.039993   \n",
       "2024-05-07  191.089996  192.729996  190.919998  192.350006  192.350006   \n",
       "2024-05-08  192.270004  192.820007  190.270004  190.899994  190.899994   \n",
       "\n",
       "              Volume  \n",
       "date                  \n",
       "2023-05-23  50747300  \n",
       "2023-05-24  45143500  \n",
       "2023-05-25  56058300  \n",
       "2023-05-26  54835000  \n",
       "2023-05-27  54835000  \n",
       "...              ...  \n",
       "2024-05-04  41282900  \n",
       "2024-05-05  41282900  \n",
       "2024-05-06  44361300  \n",
       "2024-05-07  42309400  \n",
       "2024-05-08  34581900  \n",
       "\n",
       "[352 rows x 6 columns]"
      ]
     },
     "execution_count": 130,
     "metadata": {},
     "output_type": "execute_result"
    }
   ],
   "source": [
    "df1.asfreq('D',method=\"pad\")"
   ]
  },
  {
   "cell_type": "code",
   "execution_count": 131,
   "id": "8446f484-4eb3-44c4-bb90-ba959d0a4aa2",
   "metadata": {},
   "outputs": [],
   "source": [
    "#here it created a dataset of filling every weekend just using carry forward "
   ]
  },
  {
   "cell_type": "code",
   "execution_count": 139,
   "id": "1a0b7a7e-5585-4236-a3b0-031dd4d6611d",
   "metadata": {},
   "outputs": [
    {
     "data": {
      "text/html": [
       "<div>\n",
       "<style scoped>\n",
       "    .dataframe tbody tr th:only-of-type {\n",
       "        vertical-align: middle;\n",
       "    }\n",
       "\n",
       "    .dataframe tbody tr th {\n",
       "        vertical-align: top;\n",
       "    }\n",
       "\n",
       "    .dataframe thead th {\n",
       "        text-align: right;\n",
       "    }\n",
       "</style>\n",
       "<table border=\"1\" class=\"dataframe\">\n",
       "  <thead>\n",
       "    <tr style=\"text-align: right;\">\n",
       "      <th></th>\n",
       "      <th>Open</th>\n",
       "      <th>High</th>\n",
       "      <th>Low</th>\n",
       "      <th>Close</th>\n",
       "      <th>Adj Close</th>\n",
       "      <th>Volume</th>\n",
       "    </tr>\n",
       "    <tr>\n",
       "      <th>date</th>\n",
       "      <th></th>\n",
       "      <th></th>\n",
       "      <th></th>\n",
       "      <th></th>\n",
       "      <th></th>\n",
       "      <th></th>\n",
       "    </tr>\n",
       "  </thead>\n",
       "  <tbody>\n",
       "    <tr>\n",
       "      <th>2023-05-23 00:00:00</th>\n",
       "      <td>173.130005</td>\n",
       "      <td>173.380005</td>\n",
       "      <td>171.279999</td>\n",
       "      <td>171.559998</td>\n",
       "      <td>170.653702</td>\n",
       "      <td>50747300</td>\n",
       "    </tr>\n",
       "    <tr>\n",
       "      <th>2023-05-23 01:00:00</th>\n",
       "      <td>173.130005</td>\n",
       "      <td>173.380005</td>\n",
       "      <td>171.279999</td>\n",
       "      <td>171.559998</td>\n",
       "      <td>170.653702</td>\n",
       "      <td>50747300</td>\n",
       "    </tr>\n",
       "    <tr>\n",
       "      <th>2023-05-23 02:00:00</th>\n",
       "      <td>173.130005</td>\n",
       "      <td>173.380005</td>\n",
       "      <td>171.279999</td>\n",
       "      <td>171.559998</td>\n",
       "      <td>170.653702</td>\n",
       "      <td>50747300</td>\n",
       "    </tr>\n",
       "    <tr>\n",
       "      <th>2023-05-23 03:00:00</th>\n",
       "      <td>173.130005</td>\n",
       "      <td>173.380005</td>\n",
       "      <td>171.279999</td>\n",
       "      <td>171.559998</td>\n",
       "      <td>170.653702</td>\n",
       "      <td>50747300</td>\n",
       "    </tr>\n",
       "    <tr>\n",
       "      <th>2023-05-23 04:00:00</th>\n",
       "      <td>173.130005</td>\n",
       "      <td>173.380005</td>\n",
       "      <td>171.279999</td>\n",
       "      <td>171.559998</td>\n",
       "      <td>170.653702</td>\n",
       "      <td>50747300</td>\n",
       "    </tr>\n",
       "    <tr>\n",
       "      <th>...</th>\n",
       "      <td>...</td>\n",
       "      <td>...</td>\n",
       "      <td>...</td>\n",
       "      <td>...</td>\n",
       "      <td>...</td>\n",
       "      <td>...</td>\n",
       "    </tr>\n",
       "    <tr>\n",
       "      <th>2024-05-07 20:00:00</th>\n",
       "      <td>191.089996</td>\n",
       "      <td>192.729996</td>\n",
       "      <td>190.919998</td>\n",
       "      <td>192.350006</td>\n",
       "      <td>192.350006</td>\n",
       "      <td>42309400</td>\n",
       "    </tr>\n",
       "    <tr>\n",
       "      <th>2024-05-07 21:00:00</th>\n",
       "      <td>191.089996</td>\n",
       "      <td>192.729996</td>\n",
       "      <td>190.919998</td>\n",
       "      <td>192.350006</td>\n",
       "      <td>192.350006</td>\n",
       "      <td>42309400</td>\n",
       "    </tr>\n",
       "    <tr>\n",
       "      <th>2024-05-07 22:00:00</th>\n",
       "      <td>191.089996</td>\n",
       "      <td>192.729996</td>\n",
       "      <td>190.919998</td>\n",
       "      <td>192.350006</td>\n",
       "      <td>192.350006</td>\n",
       "      <td>42309400</td>\n",
       "    </tr>\n",
       "    <tr>\n",
       "      <th>2024-05-07 23:00:00</th>\n",
       "      <td>191.089996</td>\n",
       "      <td>192.729996</td>\n",
       "      <td>190.919998</td>\n",
       "      <td>192.350006</td>\n",
       "      <td>192.350006</td>\n",
       "      <td>42309400</td>\n",
       "    </tr>\n",
       "    <tr>\n",
       "      <th>2024-05-08 00:00:00</th>\n",
       "      <td>192.270004</td>\n",
       "      <td>192.820007</td>\n",
       "      <td>190.270004</td>\n",
       "      <td>190.899994</td>\n",
       "      <td>190.899994</td>\n",
       "      <td>34581900</td>\n",
       "    </tr>\n",
       "  </tbody>\n",
       "</table>\n",
       "<p>8425 rows × 6 columns</p>\n",
       "</div>"
      ],
      "text/plain": [
       "                           Open        High         Low       Close  \\\n",
       "date                                                                  \n",
       "2023-05-23 00:00:00  173.130005  173.380005  171.279999  171.559998   \n",
       "2023-05-23 01:00:00  173.130005  173.380005  171.279999  171.559998   \n",
       "2023-05-23 02:00:00  173.130005  173.380005  171.279999  171.559998   \n",
       "2023-05-23 03:00:00  173.130005  173.380005  171.279999  171.559998   \n",
       "2023-05-23 04:00:00  173.130005  173.380005  171.279999  171.559998   \n",
       "...                         ...         ...         ...         ...   \n",
       "2024-05-07 20:00:00  191.089996  192.729996  190.919998  192.350006   \n",
       "2024-05-07 21:00:00  191.089996  192.729996  190.919998  192.350006   \n",
       "2024-05-07 22:00:00  191.089996  192.729996  190.919998  192.350006   \n",
       "2024-05-07 23:00:00  191.089996  192.729996  190.919998  192.350006   \n",
       "2024-05-08 00:00:00  192.270004  192.820007  190.270004  190.899994   \n",
       "\n",
       "                      Adj Close    Volume  \n",
       "date                                       \n",
       "2023-05-23 00:00:00  170.653702  50747300  \n",
       "2023-05-23 01:00:00  170.653702  50747300  \n",
       "2023-05-23 02:00:00  170.653702  50747300  \n",
       "2023-05-23 03:00:00  170.653702  50747300  \n",
       "2023-05-23 04:00:00  170.653702  50747300  \n",
       "...                         ...       ...  \n",
       "2024-05-07 20:00:00  192.350006  42309400  \n",
       "2024-05-07 21:00:00  192.350006  42309400  \n",
       "2024-05-07 22:00:00  192.350006  42309400  \n",
       "2024-05-07 23:00:00  192.350006  42309400  \n",
       "2024-05-08 00:00:00  190.899994  34581900  \n",
       "\n",
       "[8425 rows x 6 columns]"
      ]
     },
     "execution_count": 139,
     "metadata": {},
     "output_type": "execute_result"
    }
   ],
   "source": [
    "df1.asfreq(\"h\",method=\"pad\")"
   ]
  },
  {
   "cell_type": "code",
   "execution_count": 133,
   "id": "9f15a888-3907-4e9e-b8db-8b6ca80b22d9",
   "metadata": {},
   "outputs": [
    {
     "data": {
      "text/plain": [
       "DatetimeIndex(['2024-01-01', '2024-01-02', '2024-01-03', '2024-01-04',\n",
       "               '2024-01-05', '2024-01-08', '2024-01-09', '2024-01-10',\n",
       "               '2024-01-11', '2024-01-12', '2024-01-15', '2024-01-16',\n",
       "               '2024-01-17', '2024-01-18', '2024-01-19', '2024-01-22',\n",
       "               '2024-01-23', '2024-01-24', '2024-01-25', '2024-01-26',\n",
       "               '2024-01-29', '2024-01-30', '2024-01-31', '2024-02-01',\n",
       "               '2024-02-02', '2024-02-05', '2024-02-06', '2024-02-07',\n",
       "               '2024-02-08', '2024-02-09', '2024-02-12', '2024-02-13',\n",
       "               '2024-02-14', '2024-02-15', '2024-02-16', '2024-02-19',\n",
       "               '2024-02-20', '2024-02-21', '2024-02-22', '2024-02-23',\n",
       "               '2024-02-26', '2024-02-27', '2024-02-28', '2024-02-29',\n",
       "               '2024-03-01', '2024-03-04', '2024-03-05', '2024-03-06',\n",
       "               '2024-03-07', '2024-03-08', '2024-03-11', '2024-03-12',\n",
       "               '2024-03-13', '2024-03-14', '2024-03-15', '2024-03-18',\n",
       "               '2024-03-19', '2024-03-20', '2024-03-21', '2024-03-22',\n",
       "               '2024-03-25', '2024-03-26', '2024-03-27', '2024-03-28',\n",
       "               '2024-03-29', '2024-04-01', '2024-04-02', '2024-04-03',\n",
       "               '2024-04-04', '2024-04-05', '2024-04-08', '2024-04-09',\n",
       "               '2024-04-10', '2024-04-11', '2024-04-12', '2024-04-15',\n",
       "               '2024-04-16', '2024-04-17', '2024-04-18', '2024-04-19',\n",
       "               '2024-04-22', '2024-04-23', '2024-04-24', '2024-04-25',\n",
       "               '2024-04-26', '2024-04-29', '2024-04-30', '2024-05-01',\n",
       "               '2024-05-02', '2024-05-03'],\n",
       "              dtype='datetime64[ns]', freq='B')"
      ]
     },
     "execution_count": 133,
     "metadata": {},
     "output_type": "execute_result"
    }
   ],
   "source": [
    "dates_1=pd.date_range(start=\"1/1/2024\",periods=90,freq=\"B\")\n",
    "dates_1"
   ]
  },
  {
   "cell_type": "markdown",
   "id": "acb5a193-507c-45c1-903f-69f730b1521b",
   "metadata": {},
   "source": [
    "**how to create a fake dataset**"
   ]
  },
  {
   "cell_type": "code",
   "execution_count": 137,
   "id": "000978bf-feba-4244-b0c3-c02cc1ee7124",
   "metadata": {},
   "outputs": [],
   "source": [
    "import numpy as np\n",
    "ts=pd.Series(np.random.randint(1,10,len(dates_1)),index=dates_1)"
   ]
  },
  {
   "cell_type": "code",
   "execution_count": 138,
   "id": "bbcf7441-6675-4c99-8a57-fd92bd9fa4c3",
   "metadata": {},
   "outputs": [
    {
     "data": {
      "text/plain": [
       "2024-01-01    3\n",
       "2024-01-02    1\n",
       "2024-01-03    5\n",
       "2024-01-04    7\n",
       "2024-01-05    9\n",
       "             ..\n",
       "2024-04-29    9\n",
       "2024-04-30    2\n",
       "2024-05-01    3\n",
       "2024-05-02    6\n",
       "2024-05-03    8\n",
       "Freq: B, Length: 90, dtype: int32"
      ]
     },
     "execution_count": 138,
     "metadata": {},
     "output_type": "execute_result"
    }
   ],
   "source": [
    "ts"
   ]
  },
  {
   "cell_type": "markdown",
   "id": "100d49b9-729c-4e23-b510-59e4fe38c2a6",
   "metadata": {},
   "source": [
    "**but date_range cant deal with holidays**"
   ]
  },
  {
   "cell_type": "markdown",
   "id": "a3c19a62-b9bb-481f-b135-cdb40debc39e",
   "metadata": {},
   "source": [
    "**lets deal in next session**"
   ]
  },
  {
   "cell_type": "markdown",
   "id": "7d86d4ed-564a-448e-b1bf-5b3e86ce5a4e",
   "metadata": {},
   "source": [
    "<hr style=\"border-top: 2px solid blue\">"
   ]
  },
  {
   "cell_type": "markdown",
   "id": "bb98df89-8bdd-4dbf-9cea-2c857ae7d398",
   "metadata": {},
   "source": [
    "# Pandas_17 Holidays Dealing"
   ]
  },
  {
   "cell_type": "markdown",
   "id": "c2f420fa-0b33-444e-98b4-2e2ae8a9ca3a",
   "metadata": {},
   "source": [
    "<hr style=\"border-top: 2px solid blue\">"
   ]
  },
  {
   "cell_type": "code",
   "execution_count": 162,
   "id": "b48d0de0-f4f4-4216-a753-27dd61c78a39",
   "metadata": {},
   "outputs": [
    {
     "data": {
      "text/html": [
       "<iframe width=\"560\" height=\"315\" src=\"https://www.youtube.com/embed/Fo0IMzfcnQE?si=kNuUHhl1A64ObVYK\" title=\"YouTube video player\" frameborder=\"0\" allow=\"accelerometer; autoplay; clipboard-write; encrypted-media; gyroscope; picture-in-picture; web-share\" referrerpolicy=\"strict-origin-when-cross-origin\" allowfullscreen></iframe>\n"
      ],
      "text/plain": [
       "<IPython.core.display.HTML object>"
      ]
     },
     "metadata": {},
     "output_type": "display_data"
    }
   ],
   "source": [
    "%%HTML\n",
    "<iframe width=\"560\" height=\"315\" src=\"https://www.youtube.com/embed/Fo0IMzfcnQE?si=kNuUHhl1A64ObVYK\" title=\"YouTube video player\" frameborder=\"0\" allow=\"accelerometer; autoplay; clipboard-write; encrypted-media; gyroscope; picture-in-picture; web-share\" referrerpolicy=\"strict-origin-when-cross-origin\" allowfullscreen></iframe>"
   ]
  },
  {
   "cell_type": "code",
   "execution_count": 140,
   "id": "5ea4163c-398a-401e-b907-7e4d7cf02351",
   "metadata": {},
   "outputs": [
    {
     "data": {
      "text/html": [
       "<div>\n",
       "<style scoped>\n",
       "    .dataframe tbody tr th:only-of-type {\n",
       "        vertical-align: middle;\n",
       "    }\n",
       "\n",
       "    .dataframe tbody tr th {\n",
       "        vertical-align: top;\n",
       "    }\n",
       "\n",
       "    .dataframe thead th {\n",
       "        text-align: right;\n",
       "    }\n",
       "</style>\n",
       "<table border=\"1\" class=\"dataframe\">\n",
       "  <thead>\n",
       "    <tr style=\"text-align: right;\">\n",
       "      <th></th>\n",
       "      <th>Open</th>\n",
       "      <th>High</th>\n",
       "      <th>Low</th>\n",
       "      <th>Close</th>\n",
       "      <th>Adj Close</th>\n",
       "      <th>Volume</th>\n",
       "    </tr>\n",
       "  </thead>\n",
       "  <tbody>\n",
       "    <tr>\n",
       "      <th>0</th>\n",
       "      <td>173.130005</td>\n",
       "      <td>173.380005</td>\n",
       "      <td>171.279999</td>\n",
       "      <td>171.559998</td>\n",
       "      <td>170.653702</td>\n",
       "      <td>50747300</td>\n",
       "    </tr>\n",
       "    <tr>\n",
       "      <th>1</th>\n",
       "      <td>171.089996</td>\n",
       "      <td>172.419998</td>\n",
       "      <td>170.520004</td>\n",
       "      <td>171.839996</td>\n",
       "      <td>170.932220</td>\n",
       "      <td>45143500</td>\n",
       "    </tr>\n",
       "    <tr>\n",
       "      <th>2</th>\n",
       "      <td>172.410004</td>\n",
       "      <td>173.899994</td>\n",
       "      <td>171.690002</td>\n",
       "      <td>172.990005</td>\n",
       "      <td>172.076141</td>\n",
       "      <td>56058300</td>\n",
       "    </tr>\n",
       "    <tr>\n",
       "      <th>3</th>\n",
       "      <td>173.320007</td>\n",
       "      <td>175.770004</td>\n",
       "      <td>173.110001</td>\n",
       "      <td>175.429993</td>\n",
       "      <td>174.503250</td>\n",
       "      <td>54835000</td>\n",
       "    </tr>\n",
       "    <tr>\n",
       "      <th>4</th>\n",
       "      <td>176.960007</td>\n",
       "      <td>178.990005</td>\n",
       "      <td>176.570007</td>\n",
       "      <td>177.300003</td>\n",
       "      <td>176.363358</td>\n",
       "      <td>55964400</td>\n",
       "    </tr>\n",
       "    <tr>\n",
       "      <th>...</th>\n",
       "      <td>...</td>\n",
       "      <td>...</td>\n",
       "      <td>...</td>\n",
       "      <td>...</td>\n",
       "      <td>...</td>\n",
       "      <td>...</td>\n",
       "    </tr>\n",
       "    <tr>\n",
       "      <th>247</th>\n",
       "      <td>190.470001</td>\n",
       "      <td>191.100006</td>\n",
       "      <td>189.660004</td>\n",
       "      <td>189.839996</td>\n",
       "      <td>189.839996</td>\n",
       "      <td>52845200</td>\n",
       "    </tr>\n",
       "    <tr>\n",
       "      <th>248</th>\n",
       "      <td>189.509995</td>\n",
       "      <td>190.809998</td>\n",
       "      <td>189.179993</td>\n",
       "      <td>189.869995</td>\n",
       "      <td>189.869995</td>\n",
       "      <td>41282900</td>\n",
       "    </tr>\n",
       "    <tr>\n",
       "      <th>249</th>\n",
       "      <td>189.330002</td>\n",
       "      <td>191.919998</td>\n",
       "      <td>189.009995</td>\n",
       "      <td>191.039993</td>\n",
       "      <td>191.039993</td>\n",
       "      <td>44361300</td>\n",
       "    </tr>\n",
       "    <tr>\n",
       "      <th>250</th>\n",
       "      <td>191.089996</td>\n",
       "      <td>192.729996</td>\n",
       "      <td>190.919998</td>\n",
       "      <td>192.350006</td>\n",
       "      <td>192.350006</td>\n",
       "      <td>42309400</td>\n",
       "    </tr>\n",
       "    <tr>\n",
       "      <th>251</th>\n",
       "      <td>192.270004</td>\n",
       "      <td>192.820007</td>\n",
       "      <td>190.270004</td>\n",
       "      <td>190.899994</td>\n",
       "      <td>190.899994</td>\n",
       "      <td>34581900</td>\n",
       "    </tr>\n",
       "  </tbody>\n",
       "</table>\n",
       "<p>252 rows × 6 columns</p>\n",
       "</div>"
      ],
      "text/plain": [
       "           Open        High         Low       Close   Adj Close    Volume\n",
       "0    173.130005  173.380005  171.279999  171.559998  170.653702  50747300\n",
       "1    171.089996  172.419998  170.520004  171.839996  170.932220  45143500\n",
       "2    172.410004  173.899994  171.690002  172.990005  172.076141  56058300\n",
       "3    173.320007  175.770004  173.110001  175.429993  174.503250  54835000\n",
       "4    176.960007  178.990005  176.570007  177.300003  176.363358  55964400\n",
       "..          ...         ...         ...         ...         ...       ...\n",
       "247  190.470001  191.100006  189.660004  189.839996  189.839996  52845200\n",
       "248  189.509995  190.809998  189.179993  189.869995  189.869995  41282900\n",
       "249  189.330002  191.919998  189.009995  191.039993  191.039993  44361300\n",
       "250  191.089996  192.729996  190.919998  192.350006  192.350006  42309400\n",
       "251  192.270004  192.820007  190.270004  190.899994  190.899994  34581900\n",
       "\n",
       "[252 rows x 6 columns]"
      ]
     },
     "execution_count": 140,
     "metadata": {},
     "output_type": "execute_result"
    }
   ],
   "source": [
    "df2=pd.read_csv(\"aapl_no_dates.csv\")\n",
    "df2"
   ]
  },
  {
   "cell_type": "code",
   "execution_count": 143,
   "id": "bb30917e-4e42-48ff-89e4-145be00da0d3",
   "metadata": {},
   "outputs": [
    {
     "data": {
      "text/plain": [
       "DatetimeIndex(['2023-05-23', '2023-05-24', '2023-05-25', '2023-05-26',\n",
       "               '2023-05-29', '2023-05-30', '2023-05-31', '2023-06-01',\n",
       "               '2023-06-02', '2023-06-05',\n",
       "               ...\n",
       "               '2024-05-09', '2024-05-10', '2024-05-13', '2024-05-14',\n",
       "               '2024-05-15', '2024-05-16', '2024-05-17', '2024-05-20',\n",
       "               '2024-05-21', '2024-05-22'],\n",
       "              dtype='datetime64[ns]', name='date', length=262, freq='B')"
      ]
     },
     "execution_count": 143,
     "metadata": {},
     "output_type": "execute_result"
    }
   ],
   "source": [
    "dates_2=pd.date_range(start=\"2023/05/23\",end=\"2024/05/22\",freq=\"B\",name=\"date\")\n",
    "dates_2"
   ]
  },
  {
   "cell_type": "code",
   "execution_count": 145,
   "id": "44f0dbab-bfb7-4018-93e2-a7a99698663d",
   "metadata": {},
   "outputs": [],
   "source": [
    "#here totol 262 but only 252 are there so there is a chance that day wich is added extra is an holiday"
   ]
  },
  {
   "cell_type": "code",
   "execution_count": 149,
   "id": "0aeb4096-c150-4ec5-9725-a16acf841915",
   "metadata": {},
   "outputs": [
    {
     "data": {
      "text/plain": [
       "<CustomBusinessDay>"
      ]
     },
     "execution_count": 149,
     "metadata": {},
     "output_type": "execute_result"
    }
   ],
   "source": [
    "from pandas.tseries.holiday import USFederalHolidayCalendar \n",
    "from pandas.tseries.offsets import CustomBusinessDay\n",
    "usb =CustomBusinessDay(calendar=USFederalHolidayCalendar())\n",
    "usb "
   ]
  },
  {
   "cell_type": "code",
   "execution_count": 152,
   "id": "006f3419-d5f2-4a32-b650-bb36fef0a952",
   "metadata": {},
   "outputs": [
    {
     "data": {
      "text/plain": [
       "DatetimeIndex(['2023-05-23', '2023-05-24', '2023-05-25', '2023-05-26',\n",
       "               '2023-05-30', '2023-05-31', '2023-06-01', '2023-06-02',\n",
       "               '2023-06-05', '2023-06-06',\n",
       "               ...\n",
       "               '2024-05-10', '2024-05-13', '2024-05-14', '2024-05-15',\n",
       "               '2024-05-16', '2024-05-17', '2024-05-20', '2024-05-21',\n",
       "               '2024-05-22', '2024-05-23'],\n",
       "              dtype='datetime64[ns]', name='date', length=252, freq='C')"
      ]
     },
     "execution_count": 152,
     "metadata": {},
     "output_type": "execute_result"
    }
   ],
   "source": [
    "dates_3=pd.date_range(start=\"2023/05/23\",end=\"2024/05/23\",freq=usb,name=\"date\")\n",
    "dates_3"
   ]
  },
  {
   "cell_type": "code",
   "execution_count": 153,
   "id": "89b2577a-c641-4693-8a55-207458e0ffc0",
   "metadata": {},
   "outputs": [],
   "source": [
    "df2.set_index(dates_3,inplace=True)"
   ]
  },
  {
   "cell_type": "code",
   "execution_count": 154,
   "id": "df30d2f6-0cbb-400d-ac9f-d0ebb356856d",
   "metadata": {},
   "outputs": [
    {
     "data": {
      "text/html": [
       "<div>\n",
       "<style scoped>\n",
       "    .dataframe tbody tr th:only-of-type {\n",
       "        vertical-align: middle;\n",
       "    }\n",
       "\n",
       "    .dataframe tbody tr th {\n",
       "        vertical-align: top;\n",
       "    }\n",
       "\n",
       "    .dataframe thead th {\n",
       "        text-align: right;\n",
       "    }\n",
       "</style>\n",
       "<table border=\"1\" class=\"dataframe\">\n",
       "  <thead>\n",
       "    <tr style=\"text-align: right;\">\n",
       "      <th></th>\n",
       "      <th>Open</th>\n",
       "      <th>High</th>\n",
       "      <th>Low</th>\n",
       "      <th>Close</th>\n",
       "      <th>Adj Close</th>\n",
       "      <th>Volume</th>\n",
       "    </tr>\n",
       "    <tr>\n",
       "      <th>date</th>\n",
       "      <th></th>\n",
       "      <th></th>\n",
       "      <th></th>\n",
       "      <th></th>\n",
       "      <th></th>\n",
       "      <th></th>\n",
       "    </tr>\n",
       "  </thead>\n",
       "  <tbody>\n",
       "    <tr>\n",
       "      <th>2023-05-23</th>\n",
       "      <td>173.130005</td>\n",
       "      <td>173.380005</td>\n",
       "      <td>171.279999</td>\n",
       "      <td>171.559998</td>\n",
       "      <td>170.653702</td>\n",
       "      <td>50747300</td>\n",
       "    </tr>\n",
       "    <tr>\n",
       "      <th>2023-05-24</th>\n",
       "      <td>171.089996</td>\n",
       "      <td>172.419998</td>\n",
       "      <td>170.520004</td>\n",
       "      <td>171.839996</td>\n",
       "      <td>170.932220</td>\n",
       "      <td>45143500</td>\n",
       "    </tr>\n",
       "    <tr>\n",
       "      <th>2023-05-25</th>\n",
       "      <td>172.410004</td>\n",
       "      <td>173.899994</td>\n",
       "      <td>171.690002</td>\n",
       "      <td>172.990005</td>\n",
       "      <td>172.076141</td>\n",
       "      <td>56058300</td>\n",
       "    </tr>\n",
       "    <tr>\n",
       "      <th>2023-05-26</th>\n",
       "      <td>173.320007</td>\n",
       "      <td>175.770004</td>\n",
       "      <td>173.110001</td>\n",
       "      <td>175.429993</td>\n",
       "      <td>174.503250</td>\n",
       "      <td>54835000</td>\n",
       "    </tr>\n",
       "    <tr>\n",
       "      <th>2023-05-30</th>\n",
       "      <td>176.960007</td>\n",
       "      <td>178.990005</td>\n",
       "      <td>176.570007</td>\n",
       "      <td>177.300003</td>\n",
       "      <td>176.363358</td>\n",
       "      <td>55964400</td>\n",
       "    </tr>\n",
       "    <tr>\n",
       "      <th>...</th>\n",
       "      <td>...</td>\n",
       "      <td>...</td>\n",
       "      <td>...</td>\n",
       "      <td>...</td>\n",
       "      <td>...</td>\n",
       "      <td>...</td>\n",
       "    </tr>\n",
       "    <tr>\n",
       "      <th>2024-05-17</th>\n",
       "      <td>190.470001</td>\n",
       "      <td>191.100006</td>\n",
       "      <td>189.660004</td>\n",
       "      <td>189.839996</td>\n",
       "      <td>189.839996</td>\n",
       "      <td>52845200</td>\n",
       "    </tr>\n",
       "    <tr>\n",
       "      <th>2024-05-20</th>\n",
       "      <td>189.509995</td>\n",
       "      <td>190.809998</td>\n",
       "      <td>189.179993</td>\n",
       "      <td>189.869995</td>\n",
       "      <td>189.869995</td>\n",
       "      <td>41282900</td>\n",
       "    </tr>\n",
       "    <tr>\n",
       "      <th>2024-05-21</th>\n",
       "      <td>189.330002</td>\n",
       "      <td>191.919998</td>\n",
       "      <td>189.009995</td>\n",
       "      <td>191.039993</td>\n",
       "      <td>191.039993</td>\n",
       "      <td>44361300</td>\n",
       "    </tr>\n",
       "    <tr>\n",
       "      <th>2024-05-22</th>\n",
       "      <td>191.089996</td>\n",
       "      <td>192.729996</td>\n",
       "      <td>190.919998</td>\n",
       "      <td>192.350006</td>\n",
       "      <td>192.350006</td>\n",
       "      <td>42309400</td>\n",
       "    </tr>\n",
       "    <tr>\n",
       "      <th>2024-05-23</th>\n",
       "      <td>192.270004</td>\n",
       "      <td>192.820007</td>\n",
       "      <td>190.270004</td>\n",
       "      <td>190.899994</td>\n",
       "      <td>190.899994</td>\n",
       "      <td>34581900</td>\n",
       "    </tr>\n",
       "  </tbody>\n",
       "</table>\n",
       "<p>252 rows × 6 columns</p>\n",
       "</div>"
      ],
      "text/plain": [
       "                  Open        High         Low       Close   Adj Close  \\\n",
       "date                                                                     \n",
       "2023-05-23  173.130005  173.380005  171.279999  171.559998  170.653702   \n",
       "2023-05-24  171.089996  172.419998  170.520004  171.839996  170.932220   \n",
       "2023-05-25  172.410004  173.899994  171.690002  172.990005  172.076141   \n",
       "2023-05-26  173.320007  175.770004  173.110001  175.429993  174.503250   \n",
       "2023-05-30  176.960007  178.990005  176.570007  177.300003  176.363358   \n",
       "...                ...         ...         ...         ...         ...   \n",
       "2024-05-17  190.470001  191.100006  189.660004  189.839996  189.839996   \n",
       "2024-05-20  189.509995  190.809998  189.179993  189.869995  189.869995   \n",
       "2024-05-21  189.330002  191.919998  189.009995  191.039993  191.039993   \n",
       "2024-05-22  191.089996  192.729996  190.919998  192.350006  192.350006   \n",
       "2024-05-23  192.270004  192.820007  190.270004  190.899994  190.899994   \n",
       "\n",
       "              Volume  \n",
       "date                  \n",
       "2023-05-23  50747300  \n",
       "2023-05-24  45143500  \n",
       "2023-05-25  56058300  \n",
       "2023-05-26  54835000  \n",
       "2023-05-30  55964400  \n",
       "...              ...  \n",
       "2024-05-17  52845200  \n",
       "2024-05-20  41282900  \n",
       "2024-05-21  44361300  \n",
       "2024-05-22  42309400  \n",
       "2024-05-23  34581900  \n",
       "\n",
       "[252 rows x 6 columns]"
      ]
     },
     "execution_count": 154,
     "metadata": {},
     "output_type": "execute_result"
    }
   ],
   "source": [
    "df2"
   ]
  },
  {
   "cell_type": "markdown",
   "id": "1a61c284-3768-4efb-9b6e-b2e228625df2",
   "metadata": {},
   "source": [
    "**here holidays depends on country to country just see the video and modify accordingly**"
   ]
  },
  {
   "cell_type": "markdown",
   "id": "4263750c-87ee-4d46-9d9b-5313ebf3bb71",
   "metadata": {},
   "source": [
    "<hr style=\"border-top: 2px solid #FFE5B4\">"
   ]
  },
  {
   "cell_type": "markdown",
   "id": "211db4cd-25ad-439f-ae96-3ac9f2a62b09",
   "metadata": {},
   "source": [
    "# Pandas_18 to_datetime\n",
    "<hr style=\"border-top: 2px solid #FF775E\">"
   ]
  },
  {
   "cell_type": "code",
   "execution_count": 161,
   "id": "1b851178-1209-4f23-9fff-0fca04c1b233",
   "metadata": {},
   "outputs": [
    {
     "data": {
      "text/html": [
       "<iframe width=\"560\" height=\"315\" src=\"https://www.youtube.com/embed/igWjq3jtLYI?si=5J_3B4nJIIwu1bOt\" title=\"YouTube video player\" frameborder=\"0\" allow=\"accelerometer; autoplay; clipboard-write; encrypted-media; gyroscope; picture-in-picture; web-share\" referrerpolicy=\"strict-origin-when-cross-origin\" allowfullscreen></iframe>\n"
      ],
      "text/plain": [
       "<IPython.core.display.HTML object>"
      ]
     },
     "metadata": {},
     "output_type": "display_data"
    }
   ],
   "source": [
    "%%HTML\n",
    "<iframe width=\"560\" height=\"315\" src=\"https://www.youtube.com/embed/igWjq3jtLYI?si=5J_3B4nJIIwu1bOt\" title=\"YouTube video player\" frameborder=\"0\" allow=\"accelerometer; autoplay; clipboard-write; encrypted-media; gyroscope; picture-in-picture; web-share\" referrerpolicy=\"strict-origin-when-cross-origin\" allowfullscreen></iframe>"
   ]
  },
  {
   "cell_type": "code",
   "execution_count": 157,
   "id": "f752415d-d237-47f7-a055-6f66d0a76c49",
   "metadata": {},
   "outputs": [
    {
     "name": "stderr",
     "output_type": "stream",
     "text": [
      "C:\\Users\\vvc14\\AppData\\Local\\Temp\\ipykernel_32032\\386421529.py:3: UserWarning: Could not infer format, so each element will be parsed individually, falling back to `dateutil`. To ensure parsing is consistent and as-expected, please specify a format.\n",
      "  pd.to_datetime(dates_4)\n"
     ]
    },
    {
     "data": {
      "text/plain": [
       "DatetimeIndex(['2017-01-05 14:30:00', '2017-01-05 14:30:00',\n",
       "               '2017-01-05 00:00:00', '2017-01-05 00:00:00',\n",
       "               '2017-01-05 00:00:00', '2017-01-05 00:00:00'],\n",
       "              dtype='datetime64[ns]', freq=None)"
      ]
     },
     "execution_count": 157,
     "metadata": {},
     "output_type": "execute_result"
    }
   ],
   "source": [
    "import pandas as pd\n",
    "dates_4 =['2017-01-05 2:30:00 PM', 'Jan 5, 2017 14:30:00', '01/05/2017', '2017.01.05', '2017/01/05', '20170105']\n",
    "pd.to_datetime(dates_4)"
   ]
  },
  {
   "cell_type": "code",
   "execution_count": null,
   "id": "d54d400e-6f43-46bc-b8fe-37019f79bba6",
   "metadata": {},
   "outputs": [],
   "source": [
    "dates_5 =['2017-01-05', 'Jan 5, 2017', '01/05/2017', '2017.01.05', '2017/01/05', '20170105']\n",
    "pd.to_datetime(dates_5) #here this aslo converts the dates where we can get format of that"
   ]
  },
  {
   "cell_type": "code",
   "execution_count": 160,
   "id": "b58d06d0-930c-402d-b9fc-a4da1f9aca57",
   "metadata": {},
   "outputs": [
    {
     "data": {
      "text/plain": [
       "Timestamp('2017-01-05 00:00:00')"
      ]
     },
     "execution_count": 160,
     "metadata": {},
     "output_type": "execute_result"
    }
   ],
   "source": [
    "pd.to_datetime('5&1&2017',format='%d&%m&%Y')"
   ]
  },
  {
   "cell_type": "markdown",
   "id": "606521ee-8873-4d2c-b067-9dbf8cfef76d",
   "metadata": {},
   "source": [
    "<hr style=\"border-top: 2px solid blue\">"
   ]
  },
  {
   "cell_type": "markdown",
   "id": "3172a093-40c7-4c13-b1e0-6338e5ad70a4",
   "metadata": {},
   "source": [
    "# Pandas_19 Period and PeriodIndex\n",
    "<hr style=\"border-top: 2px solid #FF5733\">"
   ]
  },
  {
   "cell_type": "code",
   "execution_count": 165,
   "id": "4cc290fa-3677-4723-8ad5-48f757a70e58",
   "metadata": {},
   "outputs": [
    {
     "data": {
      "text/html": [
       "<iframe width=\"560\" height=\"315\" src=\"https://www.youtube.com/embed/3l9YOS4y24Y?si=lpJw_rmA3oQNGNQS\" title=\"YouTube video player\" frameborder=\"0\" allow=\"accelerometer; autoplay; clipboard-write; encrypted-media; gyroscope; picture-in-picture; web-share\" referrerpolicy=\"strict-origin-when-cross-origin\" allowfullscreen></iframe>\n"
      ],
      "text/plain": [
       "<IPython.core.display.HTML object>"
      ]
     },
     "metadata": {},
     "output_type": "display_data"
    }
   ],
   "source": [
    "%%HTML\n",
    "<iframe width=\"560\" height=\"315\" src=\"https://www.youtube.com/embed/3l9YOS4y24Y?si=lpJw_rmA3oQNGNQS\" title=\"YouTube video player\" frameborder=\"0\" allow=\"accelerometer; autoplay; clipboard-write; encrypted-media; gyroscope; picture-in-picture; web-share\" referrerpolicy=\"strict-origin-when-cross-origin\" allowfullscreen></iframe>"
   ]
  },
  {
   "cell_type": "code",
   "execution_count": 166,
   "id": "3b975e00-bf91-4f91-b744-e39f7c1d9ad3",
   "metadata": {},
   "outputs": [],
   "source": [
    "y=pd.Period('2024')"
   ]
  },
  {
   "cell_type": "code",
   "execution_count": 167,
   "id": "44ed02b0-5c33-4839-8905-2bd6ff008951",
   "metadata": {},
   "outputs": [
    {
     "data": {
      "text/plain": [
       "Period('2024', 'Y-DEC')"
      ]
     },
     "execution_count": 167,
     "metadata": {},
     "output_type": "execute_result"
    }
   ],
   "source": [
    "y"
   ]
  },
  {
   "cell_type": "code",
   "execution_count": 168,
   "id": "0f0e7bde-b350-4661-900d-24071025cfe7",
   "metadata": {},
   "outputs": [
    {
     "data": {
      "text/plain": [
       "['__add__',\n",
       " '__array_priority__',\n",
       " '__class__',\n",
       " '__delattr__',\n",
       " '__dict__',\n",
       " '__dir__',\n",
       " '__doc__',\n",
       " '__eq__',\n",
       " '__format__',\n",
       " '__ge__',\n",
       " '__getattribute__',\n",
       " '__getstate__',\n",
       " '__gt__',\n",
       " '__hash__',\n",
       " '__init__',\n",
       " '__init_subclass__',\n",
       " '__le__',\n",
       " '__lt__',\n",
       " '__module__',\n",
       " '__ne__',\n",
       " '__new__',\n",
       " '__radd__',\n",
       " '__reduce__',\n",
       " '__reduce_cython__',\n",
       " '__reduce_ex__',\n",
       " '__repr__',\n",
       " '__rsub__',\n",
       " '__setattr__',\n",
       " '__setstate__',\n",
       " '__setstate_cython__',\n",
       " '__sizeof__',\n",
       " '__str__',\n",
       " '__sub__',\n",
       " '__subclasshook__',\n",
       " '__weakref__',\n",
       " '_add_offset',\n",
       " '_add_timedeltalike_scalar',\n",
       " '_dtype',\n",
       " '_from_ordinal',\n",
       " '_maybe_convert_freq',\n",
       " '_require_matching_freq',\n",
       " 'asfreq',\n",
       " 'day',\n",
       " 'day_of_week',\n",
       " 'day_of_year',\n",
       " 'dayofweek',\n",
       " 'dayofyear',\n",
       " 'days_in_month',\n",
       " 'daysinmonth',\n",
       " 'end_time',\n",
       " 'freq',\n",
       " 'freqstr',\n",
       " 'hour',\n",
       " 'is_leap_year',\n",
       " 'minute',\n",
       " 'month',\n",
       " 'now',\n",
       " 'ordinal',\n",
       " 'quarter',\n",
       " 'qyear',\n",
       " 'second',\n",
       " 'start_time',\n",
       " 'strftime',\n",
       " 'to_timestamp',\n",
       " 'week',\n",
       " 'weekday',\n",
       " 'weekofyear',\n",
       " 'year']"
      ]
     },
     "execution_count": 168,
     "metadata": {},
     "output_type": "execute_result"
    }
   ],
   "source": [
    "dir(y)"
   ]
  },
  {
   "cell_type": "code",
   "execution_count": 170,
   "id": "b1531d4a-7475-4db5-99a4-0f847094bddc",
   "metadata": {},
   "outputs": [
    {
     "data": {
      "text/plain": [
       "True"
      ]
     },
     "execution_count": 170,
     "metadata": {},
     "output_type": "execute_result"
    }
   ],
   "source": [
    "y.is_leap_year"
   ]
  },
  {
   "cell_type": "code",
   "execution_count": 171,
   "id": "2a7f7b70-d6ec-4e54-b3fb-56cc0c145541",
   "metadata": {},
   "outputs": [
    {
     "data": {
      "text/plain": [
       "Timestamp('2024-01-01 00:00:00')"
      ]
     },
     "execution_count": 171,
     "metadata": {},
     "output_type": "execute_result"
    }
   ],
   "source": [
    "y.start_time"
   ]
  },
  {
   "cell_type": "code",
   "execution_count": 172,
   "id": "84591640-0b37-4145-a316-146dab633891",
   "metadata": {},
   "outputs": [
    {
     "data": {
      "text/plain": [
       "Timestamp('2024-12-31 23:59:59.999999999')"
      ]
     },
     "execution_count": 172,
     "metadata": {},
     "output_type": "execute_result"
    }
   ],
   "source": [
    "y.end_time\n"
   ]
  },
  {
   "cell_type": "code",
   "execution_count": 173,
   "id": "0d5cfdb5-3f6e-4a4d-9ce2-e28dab8ecf85",
   "metadata": {},
   "outputs": [],
   "source": [
    "m=pd.Period('2024-1')"
   ]
  },
  {
   "cell_type": "code",
   "execution_count": 174,
   "id": "d8afd53e-868f-44a8-a204-e461e11a4fa2",
   "metadata": {},
   "outputs": [
    {
     "data": {
      "text/plain": [
       "Period('2024-01', 'M')"
      ]
     },
     "execution_count": 174,
     "metadata": {},
     "output_type": "execute_result"
    }
   ],
   "source": [
    "m"
   ]
  },
  {
   "cell_type": "code",
   "execution_count": 175,
   "id": "ce61871b-2ea2-4a5a-90b9-1d727fcfbc0b",
   "metadata": {},
   "outputs": [
    {
     "data": {
      "text/plain": [
       "Timestamp('2024-01-01 00:00:00')"
      ]
     },
     "execution_count": 175,
     "metadata": {},
     "output_type": "execute_result"
    }
   ],
   "source": [
    "m.start_time"
   ]
  },
  {
   "cell_type": "code",
   "execution_count": 176,
   "id": "511607ed-48a8-492a-80f9-391409abf2ba",
   "metadata": {},
   "outputs": [
    {
     "data": {
      "text/plain": [
       "Timestamp('2024-01-31 23:59:59.999999999')"
      ]
     },
     "execution_count": 176,
     "metadata": {},
     "output_type": "execute_result"
    }
   ],
   "source": [
    "m.end_time"
   ]
  },
  {
   "cell_type": "code",
   "execution_count": 179,
   "id": "a139ee00-5aea-48d8-ba7d-0a751fb19396",
   "metadata": {},
   "outputs": [
    {
     "data": {
      "text/plain": [
       "Period('2024-01-01 23:00', 'h')"
      ]
     },
     "execution_count": 179,
     "metadata": {},
     "output_type": "execute_result"
    }
   ],
   "source": [
    "h=pd.Period('2024-1-1 23:00:00',freq='h')\n",
    "h"
   ]
  },
  {
   "cell_type": "code",
   "execution_count": 180,
   "id": "49945f73-e054-4093-bbc9-7eeb19b98bc7",
   "metadata": {},
   "outputs": [
    {
     "data": {
      "text/plain": [
       "Period('2024-01-02 00:00', 'h')"
      ]
     },
     "execution_count": 180,
     "metadata": {},
     "output_type": "execute_result"
    }
   ],
   "source": [
    "h+1"
   ]
  },
  {
   "cell_type": "code",
   "execution_count": 181,
   "id": "1c1753b3-c0fb-4eaa-a18a-19a216d76af6",
   "metadata": {},
   "outputs": [
    {
     "data": {
      "text/plain": [
       "Timestamp('2024-01-01 23:00:00')"
      ]
     },
     "execution_count": 181,
     "metadata": {},
     "output_type": "execute_result"
    }
   ],
   "source": [
    "h.start_time"
   ]
  },
  {
   "cell_type": "code",
   "execution_count": 182,
   "id": "96047f83-087a-44a2-864d-7f17d5580bcd",
   "metadata": {},
   "outputs": [
    {
     "data": {
      "text/plain": [
       "Timestamp('2024-01-01 23:59:59.999999999')"
      ]
     },
     "execution_count": 182,
     "metadata": {},
     "output_type": "execute_result"
    }
   ],
   "source": [
    "h.end_time"
   ]
  },
  {
   "cell_type": "code",
   "execution_count": 184,
   "id": "5482be10-aa8b-414c-ba99-c6d88fb7fa81",
   "metadata": {},
   "outputs": [
    {
     "data": {
      "text/plain": [
       "Period('2024-01-02 09:00', 'h')"
      ]
     },
     "execution_count": 184,
     "metadata": {},
     "output_type": "execute_result"
    }
   ],
   "source": [
    "#we can increment time in this way also\n",
    "h+pd.offsets.Hour(10)"
   ]
  },
  {
   "cell_type": "code",
   "execution_count": 186,
   "id": "7f58200f-5e94-4ecb-8b42-e8561c6c5e55",
   "metadata": {},
   "outputs": [
    {
     "data": {
      "text/plain": [
       "Period('2023Q1', 'Q-DEC')"
      ]
     },
     "execution_count": 186,
     "metadata": {},
     "output_type": "execute_result"
    }
   ],
   "source": [
    "q=pd.Period('2023Q1')\n",
    "q"
   ]
  },
  {
   "cell_type": "code",
   "execution_count": 187,
   "id": "1b765a4f-0ca7-4096-a398-64d0d19ff160",
   "metadata": {},
   "outputs": [
    {
     "data": {
      "text/plain": [
       "Period('2023Q2', 'Q-DEC')"
      ]
     },
     "execution_count": 187,
     "metadata": {},
     "output_type": "execute_result"
    }
   ],
   "source": [
    "q+1"
   ]
  },
  {
   "cell_type": "code",
   "execution_count": 191,
   "id": "2e6f0de4-a892-4e60-85b9-59a7df0ee28f",
   "metadata": {},
   "outputs": [
    {
     "data": {
      "text/plain": [
       "PeriodIndex(['2020Q1', '2020Q2', '2020Q3', '2020Q4', '2021Q1', '2021Q2',\n",
       "             '2021Q3', '2021Q4', '2022Q1', '2022Q2', '2022Q3', '2022Q4',\n",
       "             '2023Q1', '2023Q2', '2023Q3', '2023Q4', '2024Q1'],\n",
       "            dtype='period[Q-DEC]')"
      ]
     },
     "execution_count": 191,
     "metadata": {},
     "output_type": "execute_result"
    }
   ],
   "source": [
    "idx=pd.period_range('2020','2024',freq=\"Q\")\n",
    "idx"
   ]
  },
  {
   "cell_type": "code",
   "execution_count": 192,
   "id": "fe280f32-577b-4d99-be90-0dde3fa438fd",
   "metadata": {},
   "outputs": [
    {
     "data": {
      "text/plain": [
       "Timestamp('2020-01-01 00:00:00')"
      ]
     },
     "execution_count": 192,
     "metadata": {},
     "output_type": "execute_result"
    }
   ],
   "source": [
    "idx[0].start_time"
   ]
  },
  {
   "cell_type": "code",
   "execution_count": 194,
   "id": "bc9ce714-df9d-4bdf-9c37-db59dc6e90ff",
   "metadata": {},
   "outputs": [
    {
     "data": {
      "text/plain": [
       "Timestamp('2020-03-31 23:59:59.999999999')"
      ]
     },
     "execution_count": 194,
     "metadata": {},
     "output_type": "execute_result"
    }
   ],
   "source": [
    "idx[0].end_time"
   ]
  },
  {
   "cell_type": "code",
   "execution_count": 193,
   "id": "94aeaf9e-3109-4c7a-8f33-40f8655b7bec",
   "metadata": {},
   "outputs": [
    {
     "data": {
      "text/plain": [
       "Timestamp('2020-04-01 00:00:00')"
      ]
     },
     "execution_count": 193,
     "metadata": {},
     "output_type": "execute_result"
    }
   ],
   "source": [
    "idx[1].start_time"
   ]
  },
  {
   "cell_type": "code",
   "execution_count": 195,
   "id": "ccee692f-5a15-4498-80db-03be18d743f8",
   "metadata": {},
   "outputs": [
    {
     "data": {
      "text/plain": [
       "2020Q1   -0.426781\n",
       "2020Q2    0.795865\n",
       "2020Q3   -0.247698\n",
       "2020Q4   -1.966098\n",
       "2021Q1    0.147180\n",
       "2021Q2    0.438061\n",
       "2021Q3    0.895451\n",
       "2021Q4    0.225082\n",
       "2022Q1    0.703172\n",
       "2022Q2    0.390784\n",
       "2022Q3   -0.020199\n",
       "2022Q4    0.399153\n",
       "2023Q1    0.987763\n",
       "2023Q2    1.143049\n",
       "2023Q3    0.165605\n",
       "2023Q4    0.274459\n",
       "2024Q1    0.325109\n",
       "Freq: Q-DEC, dtype: float64"
      ]
     },
     "execution_count": 195,
     "metadata": {},
     "output_type": "execute_result"
    }
   ],
   "source": [
    "import numpy as np\n",
    "ps=pd.Series(np.random.randn(len(idx)),index=idx)\n",
    "ps"
   ]
  },
  {
   "cell_type": "code",
   "execution_count": 196,
   "id": "7891421d-d265-4013-8534-30dc28255bf9",
   "metadata": {},
   "outputs": [
    {
     "data": {
      "text/plain": [
       "PeriodIndex(['2020Q1', '2020Q2', '2020Q3', '2020Q4', '2021Q1', '2021Q2',\n",
       "             '2021Q3', '2021Q4', '2022Q1', '2022Q2', '2022Q3', '2022Q4',\n",
       "             '2023Q1', '2023Q2', '2023Q3', '2023Q4', '2024Q1'],\n",
       "            dtype='period[Q-DEC]')"
      ]
     },
     "execution_count": 196,
     "metadata": {},
     "output_type": "execute_result"
    }
   ],
   "source": [
    "ps.index"
   ]
  },
  {
   "cell_type": "code",
   "execution_count": 197,
   "id": "ff5734b4-4a59-404a-87be-0e3079e9f2c8",
   "metadata": {},
   "outputs": [
    {
     "data": {
      "text/plain": [
       "2020Q1   -0.426781\n",
       "2020Q2    0.795865\n",
       "2020Q3   -0.247698\n",
       "2020Q4   -1.966098\n",
       "Freq: Q-DEC, dtype: float64"
      ]
     },
     "execution_count": 197,
     "metadata": {},
     "output_type": "execute_result"
    }
   ],
   "source": [
    "ps['2020']"
   ]
  },
  {
   "cell_type": "code",
   "execution_count": 202,
   "id": "71374f15-a223-4c08-a2b5-88c11f923775",
   "metadata": {},
   "outputs": [
    {
     "data": {
      "text/plain": [
       "2020-01-01   -0.426781\n",
       "2020-04-01    0.795865\n",
       "2020-07-01   -0.247698\n",
       "2020-10-01   -1.966098\n",
       "2021-01-01    0.147180\n",
       "2021-04-01    0.438061\n",
       "2021-07-01    0.895451\n",
       "2021-10-01    0.225082\n",
       "2022-01-01    0.703172\n",
       "2022-04-01    0.390784\n",
       "2022-07-01   -0.020199\n",
       "2022-10-01    0.399153\n",
       "2023-01-01    0.987763\n",
       "2023-04-01    1.143049\n",
       "2023-07-01    0.165605\n",
       "2023-10-01    0.274459\n",
       "2024-01-01    0.325109\n",
       "Freq: QS-OCT, dtype: float64"
      ]
     },
     "execution_count": 202,
     "metadata": {},
     "output_type": "execute_result"
    }
   ],
   "source": [
    "pst=ps.to_timestamp()\n",
    "pst"
   ]
  },
  {
   "cell_type": "code",
   "execution_count": 203,
   "id": "b244fcb7-51ad-43cf-93e9-767830aca59f",
   "metadata": {},
   "outputs": [
    {
     "data": {
      "text/plain": [
       "DatetimeIndex(['2020-01-01', '2020-04-01', '2020-07-01', '2020-10-01',\n",
       "               '2021-01-01', '2021-04-01', '2021-07-01', '2021-10-01',\n",
       "               '2022-01-01', '2022-04-01', '2022-07-01', '2022-10-01',\n",
       "               '2023-01-01', '2023-04-01', '2023-07-01', '2023-10-01',\n",
       "               '2024-01-01'],\n",
       "              dtype='datetime64[ns]', freq='QS-OCT')"
      ]
     },
     "execution_count": 203,
     "metadata": {},
     "output_type": "execute_result"
    }
   ],
   "source": [
    "pst.index"
   ]
  },
  {
   "cell_type": "code",
   "execution_count": 204,
   "id": "3ca00a54-8d5c-476c-a082-1b9b4d28ea30",
   "metadata": {},
   "outputs": [
    {
     "name": "stdout",
     "output_type": "stream",
     "text": [
      "  Line Item  2017Q1  2017Q2  2017Q3  2017Q4  2018Q1\n",
      "0   Revenue  115904  120854  118179  130936  117542\n",
      "1  Expenses   86544   89485   87484   97743   87688\n",
      "2    Profit   29360   31369   30695   33193   29854\n"
     ]
    }
   ],
   "source": [
    "data = {\n",
    "    'Line Item': ['Revenue', 'Expenses', 'Profit'],\n",
    "    '2017Q1': [115904, 86544, 29360],\n",
    "    '2017Q2': [120854, 89485, 31369],\n",
    "    '2017Q3': [118179, 87484, 30695],\n",
    "    '2017Q4': [130936, 97743, 33193],\n",
    "    '2018Q1': [117542, 87688, 29854]\n",
    "}\n",
    "\n",
    "df_1 = pd.DataFrame(data)\n",
    "print(df_1)\n"
   ]
  },
  {
   "cell_type": "code",
   "execution_count": 205,
   "id": "24cff49a-cd83-4338-a9b2-f65b57de0d32",
   "metadata": {},
   "outputs": [],
   "source": [
    "df_1.set_index(\"Line Item\",inplace=True)"
   ]
  },
  {
   "cell_type": "code",
   "execution_count": 207,
   "id": "b159b108-bc53-48d5-bb4e-01fed6317de7",
   "metadata": {},
   "outputs": [
    {
     "data": {
      "text/html": [
       "<div>\n",
       "<style scoped>\n",
       "    .dataframe tbody tr th:only-of-type {\n",
       "        vertical-align: middle;\n",
       "    }\n",
       "\n",
       "    .dataframe tbody tr th {\n",
       "        vertical-align: top;\n",
       "    }\n",
       "\n",
       "    .dataframe thead th {\n",
       "        text-align: right;\n",
       "    }\n",
       "</style>\n",
       "<table border=\"1\" class=\"dataframe\">\n",
       "  <thead>\n",
       "    <tr style=\"text-align: right;\">\n",
       "      <th></th>\n",
       "      <th>2017Q1</th>\n",
       "      <th>2017Q2</th>\n",
       "      <th>2017Q3</th>\n",
       "      <th>2017Q4</th>\n",
       "      <th>2018Q1</th>\n",
       "    </tr>\n",
       "    <tr>\n",
       "      <th>Line Item</th>\n",
       "      <th></th>\n",
       "      <th></th>\n",
       "      <th></th>\n",
       "      <th></th>\n",
       "      <th></th>\n",
       "    </tr>\n",
       "  </thead>\n",
       "  <tbody>\n",
       "    <tr>\n",
       "      <th>Revenue</th>\n",
       "      <td>115904</td>\n",
       "      <td>120854</td>\n",
       "      <td>118179</td>\n",
       "      <td>130936</td>\n",
       "      <td>117542</td>\n",
       "    </tr>\n",
       "    <tr>\n",
       "      <th>Expenses</th>\n",
       "      <td>86544</td>\n",
       "      <td>89485</td>\n",
       "      <td>87484</td>\n",
       "      <td>97743</td>\n",
       "      <td>87688</td>\n",
       "    </tr>\n",
       "    <tr>\n",
       "      <th>Profit</th>\n",
       "      <td>29360</td>\n",
       "      <td>31369</td>\n",
       "      <td>30695</td>\n",
       "      <td>33193</td>\n",
       "      <td>29854</td>\n",
       "    </tr>\n",
       "  </tbody>\n",
       "</table>\n",
       "</div>"
      ],
      "text/plain": [
       "           2017Q1  2017Q2  2017Q3  2017Q4  2018Q1\n",
       "Line Item                                        \n",
       "Revenue    115904  120854  118179  130936  117542\n",
       "Expenses    86544   89485   87484   97743   87688\n",
       "Profit      29360   31369   30695   33193   29854"
      ]
     },
     "execution_count": 207,
     "metadata": {},
     "output_type": "execute_result"
    }
   ],
   "source": [
    "df_1"
   ]
  },
  {
   "cell_type": "code",
   "execution_count": 219,
   "id": "eb613827-dd99-4880-939a-92b626a8183d",
   "metadata": {},
   "outputs": [
    {
     "data": {
      "text/html": [
       "<div>\n",
       "<style scoped>\n",
       "    .dataframe tbody tr th:only-of-type {\n",
       "        vertical-align: middle;\n",
       "    }\n",
       "\n",
       "    .dataframe tbody tr th {\n",
       "        vertical-align: top;\n",
       "    }\n",
       "\n",
       "    .dataframe thead th {\n",
       "        text-align: right;\n",
       "    }\n",
       "</style>\n",
       "<table border=\"1\" class=\"dataframe\">\n",
       "  <thead>\n",
       "    <tr style=\"text-align: right;\">\n",
       "      <th>Line Item</th>\n",
       "      <th>Revenue</th>\n",
       "      <th>Expenses</th>\n",
       "      <th>Profit</th>\n",
       "    </tr>\n",
       "  </thead>\n",
       "  <tbody>\n",
       "    <tr>\n",
       "      <th>2017Q1</th>\n",
       "      <td>115904</td>\n",
       "      <td>86544</td>\n",
       "      <td>29360</td>\n",
       "    </tr>\n",
       "    <tr>\n",
       "      <th>2017Q2</th>\n",
       "      <td>120854</td>\n",
       "      <td>89485</td>\n",
       "      <td>31369</td>\n",
       "    </tr>\n",
       "    <tr>\n",
       "      <th>2017Q3</th>\n",
       "      <td>118179</td>\n",
       "      <td>87484</td>\n",
       "      <td>30695</td>\n",
       "    </tr>\n",
       "    <tr>\n",
       "      <th>2017Q4</th>\n",
       "      <td>130936</td>\n",
       "      <td>97743</td>\n",
       "      <td>33193</td>\n",
       "    </tr>\n",
       "    <tr>\n",
       "      <th>2018Q1</th>\n",
       "      <td>117542</td>\n",
       "      <td>87688</td>\n",
       "      <td>29854</td>\n",
       "    </tr>\n",
       "  </tbody>\n",
       "</table>\n",
       "</div>"
      ],
      "text/plain": [
       "Line Item  Revenue  Expenses  Profit\n",
       "2017Q1      115904     86544   29360\n",
       "2017Q2      120854     89485   31369\n",
       "2017Q3      118179     87484   30695\n",
       "2017Q4      130936     97743   33193\n",
       "2018Q1      117542     87688   29854"
      ]
     },
     "execution_count": 219,
     "metadata": {},
     "output_type": "execute_result"
    }
   ],
   "source": [
    "df_1=df_1.T\n",
    "df_1"
   ]
  },
  {
   "cell_type": "code",
   "execution_count": 220,
   "id": "e5503dab-6e74-469d-8ff0-6fb6a35d642a",
   "metadata": {},
   "outputs": [
    {
     "data": {
      "text/plain": [
       "Index(['2017Q1', '2017Q2', '2017Q3', '2017Q4', '2018Q1'], dtype='object')"
      ]
     },
     "execution_count": 220,
     "metadata": {},
     "output_type": "execute_result"
    }
   ],
   "source": [
    "df_1.index"
   ]
  },
  {
   "cell_type": "code",
   "execution_count": 221,
   "id": "1fe4949a-2058-4cba-ade5-8d009206bf1d",
   "metadata": {
    "scrolled": true
   },
   "outputs": [
    {
     "data": {
      "text/html": [
       "<div>\n",
       "<style scoped>\n",
       "    .dataframe tbody tr th:only-of-type {\n",
       "        vertical-align: middle;\n",
       "    }\n",
       "\n",
       "    .dataframe tbody tr th {\n",
       "        vertical-align: top;\n",
       "    }\n",
       "\n",
       "    .dataframe thead th {\n",
       "        text-align: right;\n",
       "    }\n",
       "</style>\n",
       "<table border=\"1\" class=\"dataframe\">\n",
       "  <thead>\n",
       "    <tr style=\"text-align: right;\">\n",
       "      <th>Line Item</th>\n",
       "      <th>Revenue</th>\n",
       "      <th>Expenses</th>\n",
       "      <th>Profit</th>\n",
       "    </tr>\n",
       "  </thead>\n",
       "  <tbody>\n",
       "    <tr>\n",
       "      <th>2017Q1</th>\n",
       "      <td>115904</td>\n",
       "      <td>86544</td>\n",
       "      <td>29360</td>\n",
       "    </tr>\n",
       "    <tr>\n",
       "      <th>2017Q2</th>\n",
       "      <td>120854</td>\n",
       "      <td>89485</td>\n",
       "      <td>31369</td>\n",
       "    </tr>\n",
       "    <tr>\n",
       "      <th>2017Q3</th>\n",
       "      <td>118179</td>\n",
       "      <td>87484</td>\n",
       "      <td>30695</td>\n",
       "    </tr>\n",
       "    <tr>\n",
       "      <th>2017Q4</th>\n",
       "      <td>130936</td>\n",
       "      <td>97743</td>\n",
       "      <td>33193</td>\n",
       "    </tr>\n",
       "    <tr>\n",
       "      <th>2018Q1</th>\n",
       "      <td>117542</td>\n",
       "      <td>87688</td>\n",
       "      <td>29854</td>\n",
       "    </tr>\n",
       "  </tbody>\n",
       "</table>\n",
       "</div>"
      ],
      "text/plain": [
       "Line Item  Revenue  Expenses  Profit\n",
       "2017Q1      115904     86544   29360\n",
       "2017Q2      120854     89485   31369\n",
       "2017Q3      118179     87484   30695\n",
       "2017Q4      130936     97743   33193\n",
       "2018Q1      117542     87688   29854"
      ]
     },
     "execution_count": 221,
     "metadata": {},
     "output_type": "execute_result"
    }
   ],
   "source": [
    "df_1.index=pd.PeriodIndex(df_1.index,freq='Q-JAN')\n",
    "df_1\n"
   ]
  },
  {
   "cell_type": "code",
   "execution_count": 226,
   "id": "6d8ce783-800d-4865-bdc9-ab71e51f8554",
   "metadata": {},
   "outputs": [
    {
     "data": {
      "text/plain": [
       "pandas.core.indexes.period.PeriodIndex"
      ]
     },
     "execution_count": 226,
     "metadata": {},
     "output_type": "execute_result"
    }
   ],
   "source": [
    "type(df_1.index)"
   ]
  },
  {
   "cell_type": "code",
   "execution_count": 227,
   "id": "c8bd6536-1662-41ba-b7f7-7cff8529e442",
   "metadata": {},
   "outputs": [
    {
     "data": {
      "text/plain": [
       "PeriodIndex(['2017Q1', '2017Q2', '2017Q3', '2017Q4', '2018Q1'], dtype='period[Q-JAN]')"
      ]
     },
     "execution_count": 227,
     "metadata": {},
     "output_type": "execute_result"
    }
   ],
   "source": [
    "df_1.index"
   ]
  },
  {
   "cell_type": "code",
   "execution_count": 228,
   "id": "3a937a45-763e-4226-b213-86988b767ba4",
   "metadata": {},
   "outputs": [],
   "source": [
    "df_1['start']=df_1.index.map(lambda x: x.start_time)"
   ]
  },
  {
   "cell_type": "code",
   "execution_count": 231,
   "id": "6640120d-b674-444d-87ed-07dd7d96d240",
   "metadata": {},
   "outputs": [],
   "source": [
    "df_1['end']=df_1.index.map(lambda x: x.end_time)"
   ]
  },
  {
   "cell_type": "code",
   "execution_count": 232,
   "id": "7175f1f5-0c1e-498e-bbcc-4dbef44aef65",
   "metadata": {},
   "outputs": [
    {
     "data": {
      "text/html": [
       "<div>\n",
       "<style scoped>\n",
       "    .dataframe tbody tr th:only-of-type {\n",
       "        vertical-align: middle;\n",
       "    }\n",
       "\n",
       "    .dataframe tbody tr th {\n",
       "        vertical-align: top;\n",
       "    }\n",
       "\n",
       "    .dataframe thead th {\n",
       "        text-align: right;\n",
       "    }\n",
       "</style>\n",
       "<table border=\"1\" class=\"dataframe\">\n",
       "  <thead>\n",
       "    <tr style=\"text-align: right;\">\n",
       "      <th>Line Item</th>\n",
       "      <th>Revenue</th>\n",
       "      <th>Expenses</th>\n",
       "      <th>Profit</th>\n",
       "      <th>start</th>\n",
       "      <th>end</th>\n",
       "    </tr>\n",
       "  </thead>\n",
       "  <tbody>\n",
       "    <tr>\n",
       "      <th>2017Q1</th>\n",
       "      <td>115904</td>\n",
       "      <td>86544</td>\n",
       "      <td>29360</td>\n",
       "      <td>2016-02-01</td>\n",
       "      <td>2016-04-30 23:59:59.999999999</td>\n",
       "    </tr>\n",
       "    <tr>\n",
       "      <th>2017Q2</th>\n",
       "      <td>120854</td>\n",
       "      <td>89485</td>\n",
       "      <td>31369</td>\n",
       "      <td>2016-05-01</td>\n",
       "      <td>2016-07-31 23:59:59.999999999</td>\n",
       "    </tr>\n",
       "    <tr>\n",
       "      <th>2017Q3</th>\n",
       "      <td>118179</td>\n",
       "      <td>87484</td>\n",
       "      <td>30695</td>\n",
       "      <td>2016-08-01</td>\n",
       "      <td>2016-10-31 23:59:59.999999999</td>\n",
       "    </tr>\n",
       "    <tr>\n",
       "      <th>2017Q4</th>\n",
       "      <td>130936</td>\n",
       "      <td>97743</td>\n",
       "      <td>33193</td>\n",
       "      <td>2016-11-01</td>\n",
       "      <td>2017-01-31 23:59:59.999999999</td>\n",
       "    </tr>\n",
       "    <tr>\n",
       "      <th>2018Q1</th>\n",
       "      <td>117542</td>\n",
       "      <td>87688</td>\n",
       "      <td>29854</td>\n",
       "      <td>2017-02-01</td>\n",
       "      <td>2017-04-30 23:59:59.999999999</td>\n",
       "    </tr>\n",
       "  </tbody>\n",
       "</table>\n",
       "</div>"
      ],
      "text/plain": [
       "Line Item  Revenue  Expenses  Profit      start                           end\n",
       "2017Q1      115904     86544   29360 2016-02-01 2016-04-30 23:59:59.999999999\n",
       "2017Q2      120854     89485   31369 2016-05-01 2016-07-31 23:59:59.999999999\n",
       "2017Q3      118179     87484   30695 2016-08-01 2016-10-31 23:59:59.999999999\n",
       "2017Q4      130936     97743   33193 2016-11-01 2017-01-31 23:59:59.999999999\n",
       "2018Q1      117542     87688   29854 2017-02-01 2017-04-30 23:59:59.999999999"
      ]
     },
     "execution_count": 232,
     "metadata": {},
     "output_type": "execute_result"
    }
   ],
   "source": [
    "df_1"
   ]
  },
  {
   "cell_type": "markdown",
   "id": "56371acc-5594-4766-b2e8-0ec134593fc6",
   "metadata": {},
   "source": [
    "<hr style=\"border-top: 2px solid #FF5733\">"
   ]
  },
  {
   "cell_type": "markdown",
   "id": "c7f7cca5-ddd9-473b-a1fb-5df7b1c35d79",
   "metadata": {},
   "source": [
    "# Pandas_20 TimeZone handling\n",
    "<hr style=\"border-top: 2px solid #FF5733\">"
   ]
  },
  {
   "cell_type": "code",
   "execution_count": 241,
   "id": "1ff1d070-7577-48e1-8bb4-9f3722f16ac4",
   "metadata": {},
   "outputs": [
    {
     "data": {
      "text/html": [
       "<div>\n",
       "<style scoped>\n",
       "    .dataframe tbody tr th:only-of-type {\n",
       "        vertical-align: middle;\n",
       "    }\n",
       "\n",
       "    .dataframe tbody tr th {\n",
       "        vertical-align: top;\n",
       "    }\n",
       "\n",
       "    .dataframe thead th {\n",
       "        text-align: right;\n",
       "    }\n",
       "</style>\n",
       "<table border=\"1\" class=\"dataframe\">\n",
       "  <thead>\n",
       "    <tr style=\"text-align: right;\">\n",
       "      <th></th>\n",
       "      <th>Date Time</th>\n",
       "      <th>Price</th>\n",
       "    </tr>\n",
       "  </thead>\n",
       "  <tbody>\n",
       "    <tr>\n",
       "      <th>0</th>\n",
       "      <td>8/17/2017 9:00:00 AM</td>\n",
       "      <td>72.38</td>\n",
       "    </tr>\n",
       "    <tr>\n",
       "      <th>1</th>\n",
       "      <td>8/17/2017 9:15:00 AM</td>\n",
       "      <td>71.00</td>\n",
       "    </tr>\n",
       "    <tr>\n",
       "      <th>2</th>\n",
       "      <td>8/17/2017 9:30:00 AM</td>\n",
       "      <td>71.67</td>\n",
       "    </tr>\n",
       "    <tr>\n",
       "      <th>3</th>\n",
       "      <td>8/17/2017 10:00:00 AM</td>\n",
       "      <td>72.80</td>\n",
       "    </tr>\n",
       "    <tr>\n",
       "      <th>4</th>\n",
       "      <td>8/17/2017 10:30:00 AM</td>\n",
       "      <td>72.00</td>\n",
       "    </tr>\n",
       "    <tr>\n",
       "      <th>5</th>\n",
       "      <td>8/17/2017 11:00:00 AM</td>\n",
       "      <td>72.50</td>\n",
       "    </tr>\n",
       "  </tbody>\n",
       "</table>\n",
       "</div>"
      ],
      "text/plain": [
       "               Date Time  Price\n",
       "0   8/17/2017 9:00:00 AM  72.38\n",
       "1   8/17/2017 9:15:00 AM  71.00\n",
       "2   8/17/2017 9:30:00 AM  71.67\n",
       "3  8/17/2017 10:00:00 AM  72.80\n",
       "4  8/17/2017 10:30:00 AM  72.00\n",
       "5  8/17/2017 11:00:00 AM  72.50"
      ]
     },
     "execution_count": 241,
     "metadata": {},
     "output_type": "execute_result"
    }
   ],
   "source": [
    "import pandas as pd\n",
    "\n",
    "# Create the data\n",
    "data = {\n",
    "    \"Date Time\": [\"8/17/2017 9:00:00 AM\", \"8/17/2017 9:15:00 AM\", \"8/17/2017 9:30:00 AM\", \n",
    "                  \"8/17/2017 10:00:00 AM\", \"8/17/2017 10:30:00 AM\", \"8/17/2017 11:00:00 AM\"],\n",
    "    \"Price\": [72.38, 71, 71.67, 72.8, 72, 72.5]\n",
    "}\n",
    "\n",
    "# Create a DataFrame\n",
    "df6 = pd.DataFrame(data)\n",
    "df6"
   ]
  },
  {
   "cell_type": "code",
   "execution_count": 242,
   "id": "32b53754-f4db-4312-9939-4150877574af",
   "metadata": {},
   "outputs": [],
   "source": [
    "df6['Date Time']=pd.to_datetime(df6['Date Time'])"
   ]
  },
  {
   "cell_type": "code",
   "execution_count": 243,
   "id": "573f6bc0-e2a1-4892-9759-8ab047699b2a",
   "metadata": {},
   "outputs": [],
   "source": [
    "df6.set_index(\"Date Time\",inplace=True)"
   ]
  },
  {
   "cell_type": "code",
   "execution_count": 244,
   "id": "6de85212-8927-4850-a2cd-1459212f3814",
   "metadata": {},
   "outputs": [
    {
     "data": {
      "text/html": [
       "<div>\n",
       "<style scoped>\n",
       "    .dataframe tbody tr th:only-of-type {\n",
       "        vertical-align: middle;\n",
       "    }\n",
       "\n",
       "    .dataframe tbody tr th {\n",
       "        vertical-align: top;\n",
       "    }\n",
       "\n",
       "    .dataframe thead th {\n",
       "        text-align: right;\n",
       "    }\n",
       "</style>\n",
       "<table border=\"1\" class=\"dataframe\">\n",
       "  <thead>\n",
       "    <tr style=\"text-align: right;\">\n",
       "      <th></th>\n",
       "      <th>Price</th>\n",
       "    </tr>\n",
       "    <tr>\n",
       "      <th>Date Time</th>\n",
       "      <th></th>\n",
       "    </tr>\n",
       "  </thead>\n",
       "  <tbody>\n",
       "    <tr>\n",
       "      <th>2017-08-17 09:00:00</th>\n",
       "      <td>72.38</td>\n",
       "    </tr>\n",
       "    <tr>\n",
       "      <th>2017-08-17 09:15:00</th>\n",
       "      <td>71.00</td>\n",
       "    </tr>\n",
       "    <tr>\n",
       "      <th>2017-08-17 09:30:00</th>\n",
       "      <td>71.67</td>\n",
       "    </tr>\n",
       "    <tr>\n",
       "      <th>2017-08-17 10:00:00</th>\n",
       "      <td>72.80</td>\n",
       "    </tr>\n",
       "    <tr>\n",
       "      <th>2017-08-17 10:30:00</th>\n",
       "      <td>72.00</td>\n",
       "    </tr>\n",
       "    <tr>\n",
       "      <th>2017-08-17 11:00:00</th>\n",
       "      <td>72.50</td>\n",
       "    </tr>\n",
       "  </tbody>\n",
       "</table>\n",
       "</div>"
      ],
      "text/plain": [
       "                     Price\n",
       "Date Time                 \n",
       "2017-08-17 09:00:00  72.38\n",
       "2017-08-17 09:15:00  71.00\n",
       "2017-08-17 09:30:00  71.67\n",
       "2017-08-17 10:00:00  72.80\n",
       "2017-08-17 10:30:00  72.00\n",
       "2017-08-17 11:00:00  72.50"
      ]
     },
     "execution_count": 244,
     "metadata": {},
     "output_type": "execute_result"
    }
   ],
   "source": [
    "df6"
   ]
  },
  {
   "cell_type": "code",
   "execution_count": 245,
   "id": "b73d0148-a71a-4510-9b9c-dff8d15618ae",
   "metadata": {},
   "outputs": [
    {
     "data": {
      "text/plain": [
       "DatetimeIndex(['2017-08-17 09:00:00', '2017-08-17 09:15:00',\n",
       "               '2017-08-17 09:30:00', '2017-08-17 10:00:00',\n",
       "               '2017-08-17 10:30:00', '2017-08-17 11:00:00'],\n",
       "              dtype='datetime64[ns]', name='Date Time', freq=None)"
      ]
     },
     "execution_count": 245,
     "metadata": {},
     "output_type": "execute_result"
    }
   ],
   "source": [
    "df6.index"
   ]
  },
  {
   "cell_type": "code",
   "execution_count": 246,
   "id": "0c1ec97f-c3bf-4ab0-bdae-ac492f2283a6",
   "metadata": {},
   "outputs": [
    {
     "data": {
      "text/html": [
       "<div>\n",
       "<style scoped>\n",
       "    .dataframe tbody tr th:only-of-type {\n",
       "        vertical-align: middle;\n",
       "    }\n",
       "\n",
       "    .dataframe tbody tr th {\n",
       "        vertical-align: top;\n",
       "    }\n",
       "\n",
       "    .dataframe thead th {\n",
       "        text-align: right;\n",
       "    }\n",
       "</style>\n",
       "<table border=\"1\" class=\"dataframe\">\n",
       "  <thead>\n",
       "    <tr style=\"text-align: right;\">\n",
       "      <th></th>\n",
       "      <th>Price</th>\n",
       "    </tr>\n",
       "    <tr>\n",
       "      <th>Date Time</th>\n",
       "      <th></th>\n",
       "    </tr>\n",
       "  </thead>\n",
       "  <tbody>\n",
       "    <tr>\n",
       "      <th>2017-08-17 09:00:00-04:00</th>\n",
       "      <td>72.38</td>\n",
       "    </tr>\n",
       "    <tr>\n",
       "      <th>2017-08-17 09:15:00-04:00</th>\n",
       "      <td>71.00</td>\n",
       "    </tr>\n",
       "    <tr>\n",
       "      <th>2017-08-17 09:30:00-04:00</th>\n",
       "      <td>71.67</td>\n",
       "    </tr>\n",
       "    <tr>\n",
       "      <th>2017-08-17 10:00:00-04:00</th>\n",
       "      <td>72.80</td>\n",
       "    </tr>\n",
       "    <tr>\n",
       "      <th>2017-08-17 10:30:00-04:00</th>\n",
       "      <td>72.00</td>\n",
       "    </tr>\n",
       "    <tr>\n",
       "      <th>2017-08-17 11:00:00-04:00</th>\n",
       "      <td>72.50</td>\n",
       "    </tr>\n",
       "  </tbody>\n",
       "</table>\n",
       "</div>"
      ],
      "text/plain": [
       "                           Price\n",
       "Date Time                       \n",
       "2017-08-17 09:00:00-04:00  72.38\n",
       "2017-08-17 09:15:00-04:00  71.00\n",
       "2017-08-17 09:30:00-04:00  71.67\n",
       "2017-08-17 10:00:00-04:00  72.80\n",
       "2017-08-17 10:30:00-04:00  72.00\n",
       "2017-08-17 11:00:00-04:00  72.50"
      ]
     },
     "execution_count": 246,
     "metadata": {},
     "output_type": "execute_result"
    }
   ],
   "source": [
    "df6=df6.tz_localize(\"US/Eastern\")\n",
    "df6"
   ]
  },
  {
   "cell_type": "code",
   "execution_count": 247,
   "id": "963a78b5-5816-49c5-966f-a0298e6f385c",
   "metadata": {},
   "outputs": [
    {
     "data": {
      "text/plain": [
       "DatetimeIndex(['2017-08-17 09:00:00-04:00', '2017-08-17 09:15:00-04:00',\n",
       "               '2017-08-17 09:30:00-04:00', '2017-08-17 10:00:00-04:00',\n",
       "               '2017-08-17 10:30:00-04:00', '2017-08-17 11:00:00-04:00'],\n",
       "              dtype='datetime64[ns, US/Eastern]', name='Date Time', freq=None)"
      ]
     },
     "execution_count": 247,
     "metadata": {},
     "output_type": "execute_result"
    }
   ],
   "source": [
    "df6.index"
   ]
  },
  {
   "cell_type": "code",
   "execution_count": 248,
   "id": "7e9d8fc8-a01b-4698-88d6-4d919176b8e1",
   "metadata": {},
   "outputs": [
    {
     "data": {
      "text/html": [
       "<div>\n",
       "<style scoped>\n",
       "    .dataframe tbody tr th:only-of-type {\n",
       "        vertical-align: middle;\n",
       "    }\n",
       "\n",
       "    .dataframe tbody tr th {\n",
       "        vertical-align: top;\n",
       "    }\n",
       "\n",
       "    .dataframe thead th {\n",
       "        text-align: right;\n",
       "    }\n",
       "</style>\n",
       "<table border=\"1\" class=\"dataframe\">\n",
       "  <thead>\n",
       "    <tr style=\"text-align: right;\">\n",
       "      <th></th>\n",
       "      <th>Price</th>\n",
       "    </tr>\n",
       "    <tr>\n",
       "      <th>Date Time</th>\n",
       "      <th></th>\n",
       "    </tr>\n",
       "  </thead>\n",
       "  <tbody>\n",
       "    <tr>\n",
       "      <th>2017-08-17 15:00:00+02:00</th>\n",
       "      <td>72.38</td>\n",
       "    </tr>\n",
       "    <tr>\n",
       "      <th>2017-08-17 15:15:00+02:00</th>\n",
       "      <td>71.00</td>\n",
       "    </tr>\n",
       "    <tr>\n",
       "      <th>2017-08-17 15:30:00+02:00</th>\n",
       "      <td>71.67</td>\n",
       "    </tr>\n",
       "    <tr>\n",
       "      <th>2017-08-17 16:00:00+02:00</th>\n",
       "      <td>72.80</td>\n",
       "    </tr>\n",
       "    <tr>\n",
       "      <th>2017-08-17 16:30:00+02:00</th>\n",
       "      <td>72.00</td>\n",
       "    </tr>\n",
       "    <tr>\n",
       "      <th>2017-08-17 17:00:00+02:00</th>\n",
       "      <td>72.50</td>\n",
       "    </tr>\n",
       "  </tbody>\n",
       "</table>\n",
       "</div>"
      ],
      "text/plain": [
       "                           Price\n",
       "Date Time                       \n",
       "2017-08-17 15:00:00+02:00  72.38\n",
       "2017-08-17 15:15:00+02:00  71.00\n",
       "2017-08-17 15:30:00+02:00  71.67\n",
       "2017-08-17 16:00:00+02:00  72.80\n",
       "2017-08-17 16:30:00+02:00  72.00\n",
       "2017-08-17 17:00:00+02:00  72.50"
      ]
     },
     "execution_count": 248,
     "metadata": {},
     "output_type": "execute_result"
    }
   ],
   "source": [
    "df6=df6.tz_convert(\"Europe/Berlin\")\n",
    "df6"
   ]
  },
  {
   "cell_type": "code",
   "execution_count": 249,
   "id": "f47ddff7-71e7-4356-a739-7330c54c6f37",
   "metadata": {},
   "outputs": [
    {
     "data": {
      "text/plain": [
       "DatetimeIndex(['2017-08-17 15:00:00+02:00', '2017-08-17 15:15:00+02:00',\n",
       "               '2017-08-17 15:30:00+02:00', '2017-08-17 16:00:00+02:00',\n",
       "               '2017-08-17 16:30:00+02:00', '2017-08-17 17:00:00+02:00'],\n",
       "              dtype='datetime64[ns, Europe/Berlin]', name='Date Time', freq=None)"
      ]
     },
     "execution_count": 249,
     "metadata": {},
     "output_type": "execute_result"
    }
   ],
   "source": [
    "df6.index"
   ]
  },
  {
   "cell_type": "code",
   "execution_count": 251,
   "id": "8574baba-1ba3-4a66-b8ef-d510dae912a7",
   "metadata": {
    "scrolled": true
   },
   "outputs": [
    {
     "data": {
      "text/plain": [
       "['Africa/Abidjan',\n",
       " 'Africa/Accra',\n",
       " 'Africa/Addis_Ababa',\n",
       " 'Africa/Algiers',\n",
       " 'Africa/Asmara',\n",
       " 'Africa/Asmera',\n",
       " 'Africa/Bamako',\n",
       " 'Africa/Bangui',\n",
       " 'Africa/Banjul',\n",
       " 'Africa/Bissau',\n",
       " 'Africa/Blantyre',\n",
       " 'Africa/Brazzaville',\n",
       " 'Africa/Bujumbura',\n",
       " 'Africa/Cairo',\n",
       " 'Africa/Casablanca',\n",
       " 'Africa/Ceuta',\n",
       " 'Africa/Conakry',\n",
       " 'Africa/Dakar',\n",
       " 'Africa/Dar_es_Salaam',\n",
       " 'Africa/Djibouti',\n",
       " 'Africa/Douala',\n",
       " 'Africa/El_Aaiun',\n",
       " 'Africa/Freetown',\n",
       " 'Africa/Gaborone',\n",
       " 'Africa/Harare',\n",
       " 'Africa/Johannesburg',\n",
       " 'Africa/Juba',\n",
       " 'Africa/Kampala',\n",
       " 'Africa/Khartoum',\n",
       " 'Africa/Kigali',\n",
       " 'Africa/Kinshasa',\n",
       " 'Africa/Lagos',\n",
       " 'Africa/Libreville',\n",
       " 'Africa/Lome',\n",
       " 'Africa/Luanda',\n",
       " 'Africa/Lubumbashi',\n",
       " 'Africa/Lusaka',\n",
       " 'Africa/Malabo',\n",
       " 'Africa/Maputo',\n",
       " 'Africa/Maseru',\n",
       " 'Africa/Mbabane',\n",
       " 'Africa/Mogadishu',\n",
       " 'Africa/Monrovia',\n",
       " 'Africa/Nairobi',\n",
       " 'Africa/Ndjamena',\n",
       " 'Africa/Niamey',\n",
       " 'Africa/Nouakchott',\n",
       " 'Africa/Ouagadougou',\n",
       " 'Africa/Porto-Novo',\n",
       " 'Africa/Sao_Tome',\n",
       " 'Africa/Timbuktu',\n",
       " 'Africa/Tripoli',\n",
       " 'Africa/Tunis',\n",
       " 'Africa/Windhoek',\n",
       " 'America/Adak',\n",
       " 'America/Anchorage',\n",
       " 'America/Anguilla',\n",
       " 'America/Antigua',\n",
       " 'America/Araguaina',\n",
       " 'America/Argentina/Buenos_Aires',\n",
       " 'America/Argentina/Catamarca',\n",
       " 'America/Argentina/ComodRivadavia',\n",
       " 'America/Argentina/Cordoba',\n",
       " 'America/Argentina/Jujuy',\n",
       " 'America/Argentina/La_Rioja',\n",
       " 'America/Argentina/Mendoza',\n",
       " 'America/Argentina/Rio_Gallegos',\n",
       " 'America/Argentina/Salta',\n",
       " 'America/Argentina/San_Juan',\n",
       " 'America/Argentina/San_Luis',\n",
       " 'America/Argentina/Tucuman',\n",
       " 'America/Argentina/Ushuaia',\n",
       " 'America/Aruba',\n",
       " 'America/Asuncion',\n",
       " 'America/Atikokan',\n",
       " 'America/Atka',\n",
       " 'America/Bahia',\n",
       " 'America/Bahia_Banderas',\n",
       " 'America/Barbados',\n",
       " 'America/Belem',\n",
       " 'America/Belize',\n",
       " 'America/Blanc-Sablon',\n",
       " 'America/Boa_Vista',\n",
       " 'America/Bogota',\n",
       " 'America/Boise',\n",
       " 'America/Buenos_Aires',\n",
       " 'America/Cambridge_Bay',\n",
       " 'America/Campo_Grande',\n",
       " 'America/Cancun',\n",
       " 'America/Caracas',\n",
       " 'America/Catamarca',\n",
       " 'America/Cayenne',\n",
       " 'America/Cayman',\n",
       " 'America/Chicago',\n",
       " 'America/Chihuahua',\n",
       " 'America/Ciudad_Juarez',\n",
       " 'America/Coral_Harbour',\n",
       " 'America/Cordoba',\n",
       " 'America/Costa_Rica',\n",
       " 'America/Creston',\n",
       " 'America/Cuiaba',\n",
       " 'America/Curacao',\n",
       " 'America/Danmarkshavn',\n",
       " 'America/Dawson',\n",
       " 'America/Dawson_Creek',\n",
       " 'America/Denver',\n",
       " 'America/Detroit',\n",
       " 'America/Dominica',\n",
       " 'America/Edmonton',\n",
       " 'America/Eirunepe',\n",
       " 'America/El_Salvador',\n",
       " 'America/Ensenada',\n",
       " 'America/Fort_Nelson',\n",
       " 'America/Fort_Wayne',\n",
       " 'America/Fortaleza',\n",
       " 'America/Glace_Bay',\n",
       " 'America/Godthab',\n",
       " 'America/Goose_Bay',\n",
       " 'America/Grand_Turk',\n",
       " 'America/Grenada',\n",
       " 'America/Guadeloupe',\n",
       " 'America/Guatemala',\n",
       " 'America/Guayaquil',\n",
       " 'America/Guyana',\n",
       " 'America/Halifax',\n",
       " 'America/Havana',\n",
       " 'America/Hermosillo',\n",
       " 'America/Indiana/Indianapolis',\n",
       " 'America/Indiana/Knox',\n",
       " 'America/Indiana/Marengo',\n",
       " 'America/Indiana/Petersburg',\n",
       " 'America/Indiana/Tell_City',\n",
       " 'America/Indiana/Vevay',\n",
       " 'America/Indiana/Vincennes',\n",
       " 'America/Indiana/Winamac',\n",
       " 'America/Indianapolis',\n",
       " 'America/Inuvik',\n",
       " 'America/Iqaluit',\n",
       " 'America/Jamaica',\n",
       " 'America/Jujuy',\n",
       " 'America/Juneau',\n",
       " 'America/Kentucky/Louisville',\n",
       " 'America/Kentucky/Monticello',\n",
       " 'America/Knox_IN',\n",
       " 'America/Kralendijk',\n",
       " 'America/La_Paz',\n",
       " 'America/Lima',\n",
       " 'America/Los_Angeles',\n",
       " 'America/Louisville',\n",
       " 'America/Lower_Princes',\n",
       " 'America/Maceio',\n",
       " 'America/Managua',\n",
       " 'America/Manaus',\n",
       " 'America/Marigot',\n",
       " 'America/Martinique',\n",
       " 'America/Matamoros',\n",
       " 'America/Mazatlan',\n",
       " 'America/Mendoza',\n",
       " 'America/Menominee',\n",
       " 'America/Merida',\n",
       " 'America/Metlakatla',\n",
       " 'America/Mexico_City',\n",
       " 'America/Miquelon',\n",
       " 'America/Moncton',\n",
       " 'America/Monterrey',\n",
       " 'America/Montevideo',\n",
       " 'America/Montreal',\n",
       " 'America/Montserrat',\n",
       " 'America/Nassau',\n",
       " 'America/New_York',\n",
       " 'America/Nipigon',\n",
       " 'America/Nome',\n",
       " 'America/Noronha',\n",
       " 'America/North_Dakota/Beulah',\n",
       " 'America/North_Dakota/Center',\n",
       " 'America/North_Dakota/New_Salem',\n",
       " 'America/Nuuk',\n",
       " 'America/Ojinaga',\n",
       " 'America/Panama',\n",
       " 'America/Pangnirtung',\n",
       " 'America/Paramaribo',\n",
       " 'America/Phoenix',\n",
       " 'America/Port-au-Prince',\n",
       " 'America/Port_of_Spain',\n",
       " 'America/Porto_Acre',\n",
       " 'America/Porto_Velho',\n",
       " 'America/Puerto_Rico',\n",
       " 'America/Punta_Arenas',\n",
       " 'America/Rainy_River',\n",
       " 'America/Rankin_Inlet',\n",
       " 'America/Recife',\n",
       " 'America/Regina',\n",
       " 'America/Resolute',\n",
       " 'America/Rio_Branco',\n",
       " 'America/Rosario',\n",
       " 'America/Santa_Isabel',\n",
       " 'America/Santarem',\n",
       " 'America/Santiago',\n",
       " 'America/Santo_Domingo',\n",
       " 'America/Sao_Paulo',\n",
       " 'America/Scoresbysund',\n",
       " 'America/Shiprock',\n",
       " 'America/Sitka',\n",
       " 'America/St_Barthelemy',\n",
       " 'America/St_Johns',\n",
       " 'America/St_Kitts',\n",
       " 'America/St_Lucia',\n",
       " 'America/St_Thomas',\n",
       " 'America/St_Vincent',\n",
       " 'America/Swift_Current',\n",
       " 'America/Tegucigalpa',\n",
       " 'America/Thule',\n",
       " 'America/Thunder_Bay',\n",
       " 'America/Tijuana',\n",
       " 'America/Toronto',\n",
       " 'America/Tortola',\n",
       " 'America/Vancouver',\n",
       " 'America/Virgin',\n",
       " 'America/Whitehorse',\n",
       " 'America/Winnipeg',\n",
       " 'America/Yakutat',\n",
       " 'America/Yellowknife',\n",
       " 'Antarctica/Casey',\n",
       " 'Antarctica/Davis',\n",
       " 'Antarctica/DumontDUrville',\n",
       " 'Antarctica/Macquarie',\n",
       " 'Antarctica/Mawson',\n",
       " 'Antarctica/McMurdo',\n",
       " 'Antarctica/Palmer',\n",
       " 'Antarctica/Rothera',\n",
       " 'Antarctica/South_Pole',\n",
       " 'Antarctica/Syowa',\n",
       " 'Antarctica/Troll',\n",
       " 'Antarctica/Vostok',\n",
       " 'Arctic/Longyearbyen',\n",
       " 'Asia/Aden',\n",
       " 'Asia/Almaty',\n",
       " 'Asia/Amman',\n",
       " 'Asia/Anadyr',\n",
       " 'Asia/Aqtau',\n",
       " 'Asia/Aqtobe',\n",
       " 'Asia/Ashgabat',\n",
       " 'Asia/Ashkhabad',\n",
       " 'Asia/Atyrau',\n",
       " 'Asia/Baghdad',\n",
       " 'Asia/Bahrain',\n",
       " 'Asia/Baku',\n",
       " 'Asia/Bangkok',\n",
       " 'Asia/Barnaul',\n",
       " 'Asia/Beirut',\n",
       " 'Asia/Bishkek',\n",
       " 'Asia/Brunei',\n",
       " 'Asia/Calcutta',\n",
       " 'Asia/Chita',\n",
       " 'Asia/Choibalsan',\n",
       " 'Asia/Chongqing',\n",
       " 'Asia/Chungking',\n",
       " 'Asia/Colombo',\n",
       " 'Asia/Dacca',\n",
       " 'Asia/Damascus',\n",
       " 'Asia/Dhaka',\n",
       " 'Asia/Dili',\n",
       " 'Asia/Dubai',\n",
       " 'Asia/Dushanbe',\n",
       " 'Asia/Famagusta',\n",
       " 'Asia/Gaza',\n",
       " 'Asia/Harbin',\n",
       " 'Asia/Hebron',\n",
       " 'Asia/Ho_Chi_Minh',\n",
       " 'Asia/Hong_Kong',\n",
       " 'Asia/Hovd',\n",
       " 'Asia/Irkutsk',\n",
       " 'Asia/Istanbul',\n",
       " 'Asia/Jakarta',\n",
       " 'Asia/Jayapura',\n",
       " 'Asia/Jerusalem',\n",
       " 'Asia/Kabul',\n",
       " 'Asia/Kamchatka',\n",
       " 'Asia/Karachi',\n",
       " 'Asia/Kashgar',\n",
       " 'Asia/Kathmandu',\n",
       " 'Asia/Katmandu',\n",
       " 'Asia/Khandyga',\n",
       " 'Asia/Kolkata',\n",
       " 'Asia/Krasnoyarsk',\n",
       " 'Asia/Kuala_Lumpur',\n",
       " 'Asia/Kuching',\n",
       " 'Asia/Kuwait',\n",
       " 'Asia/Macao',\n",
       " 'Asia/Macau',\n",
       " 'Asia/Magadan',\n",
       " 'Asia/Makassar',\n",
       " 'Asia/Manila',\n",
       " 'Asia/Muscat',\n",
       " 'Asia/Nicosia',\n",
       " 'Asia/Novokuznetsk',\n",
       " 'Asia/Novosibirsk',\n",
       " 'Asia/Omsk',\n",
       " 'Asia/Oral',\n",
       " 'Asia/Phnom_Penh',\n",
       " 'Asia/Pontianak',\n",
       " 'Asia/Pyongyang',\n",
       " 'Asia/Qatar',\n",
       " 'Asia/Qostanay',\n",
       " 'Asia/Qyzylorda',\n",
       " 'Asia/Rangoon',\n",
       " 'Asia/Riyadh',\n",
       " 'Asia/Saigon',\n",
       " 'Asia/Sakhalin',\n",
       " 'Asia/Samarkand',\n",
       " 'Asia/Seoul',\n",
       " 'Asia/Shanghai',\n",
       " 'Asia/Singapore',\n",
       " 'Asia/Srednekolymsk',\n",
       " 'Asia/Taipei',\n",
       " 'Asia/Tashkent',\n",
       " 'Asia/Tbilisi',\n",
       " 'Asia/Tehran',\n",
       " 'Asia/Tel_Aviv',\n",
       " 'Asia/Thimbu',\n",
       " 'Asia/Thimphu',\n",
       " 'Asia/Tokyo',\n",
       " 'Asia/Tomsk',\n",
       " 'Asia/Ujung_Pandang',\n",
       " 'Asia/Ulaanbaatar',\n",
       " 'Asia/Ulan_Bator',\n",
       " 'Asia/Urumqi',\n",
       " 'Asia/Ust-Nera',\n",
       " 'Asia/Vientiane',\n",
       " 'Asia/Vladivostok',\n",
       " 'Asia/Yakutsk',\n",
       " 'Asia/Yangon',\n",
       " 'Asia/Yekaterinburg',\n",
       " 'Asia/Yerevan',\n",
       " 'Atlantic/Azores',\n",
       " 'Atlantic/Bermuda',\n",
       " 'Atlantic/Canary',\n",
       " 'Atlantic/Cape_Verde',\n",
       " 'Atlantic/Faeroe',\n",
       " 'Atlantic/Faroe',\n",
       " 'Atlantic/Jan_Mayen',\n",
       " 'Atlantic/Madeira',\n",
       " 'Atlantic/Reykjavik',\n",
       " 'Atlantic/South_Georgia',\n",
       " 'Atlantic/St_Helena',\n",
       " 'Atlantic/Stanley',\n",
       " 'Australia/ACT',\n",
       " 'Australia/Adelaide',\n",
       " 'Australia/Brisbane',\n",
       " 'Australia/Broken_Hill',\n",
       " 'Australia/Canberra',\n",
       " 'Australia/Currie',\n",
       " 'Australia/Darwin',\n",
       " 'Australia/Eucla',\n",
       " 'Australia/Hobart',\n",
       " 'Australia/LHI',\n",
       " 'Australia/Lindeman',\n",
       " 'Australia/Lord_Howe',\n",
       " 'Australia/Melbourne',\n",
       " 'Australia/NSW',\n",
       " 'Australia/North',\n",
       " 'Australia/Perth',\n",
       " 'Australia/Queensland',\n",
       " 'Australia/South',\n",
       " 'Australia/Sydney',\n",
       " 'Australia/Tasmania',\n",
       " 'Australia/Victoria',\n",
       " 'Australia/West',\n",
       " 'Australia/Yancowinna',\n",
       " 'Brazil/Acre',\n",
       " 'Brazil/DeNoronha',\n",
       " 'Brazil/East',\n",
       " 'Brazil/West',\n",
       " 'CET',\n",
       " 'CST6CDT',\n",
       " 'Canada/Atlantic',\n",
       " 'Canada/Central',\n",
       " 'Canada/Eastern',\n",
       " 'Canada/Mountain',\n",
       " 'Canada/Newfoundland',\n",
       " 'Canada/Pacific',\n",
       " 'Canada/Saskatchewan',\n",
       " 'Canada/Yukon',\n",
       " 'Chile/Continental',\n",
       " 'Chile/EasterIsland',\n",
       " 'Cuba',\n",
       " 'EET',\n",
       " 'EST',\n",
       " 'EST5EDT',\n",
       " 'Egypt',\n",
       " 'Eire',\n",
       " 'Etc/GMT',\n",
       " 'Etc/GMT+0',\n",
       " 'Etc/GMT+1',\n",
       " 'Etc/GMT+10',\n",
       " 'Etc/GMT+11',\n",
       " 'Etc/GMT+12',\n",
       " 'Etc/GMT+2',\n",
       " 'Etc/GMT+3',\n",
       " 'Etc/GMT+4',\n",
       " 'Etc/GMT+5',\n",
       " 'Etc/GMT+6',\n",
       " 'Etc/GMT+7',\n",
       " 'Etc/GMT+8',\n",
       " 'Etc/GMT+9',\n",
       " 'Etc/GMT-0',\n",
       " 'Etc/GMT-1',\n",
       " 'Etc/GMT-10',\n",
       " 'Etc/GMT-11',\n",
       " 'Etc/GMT-12',\n",
       " 'Etc/GMT-13',\n",
       " 'Etc/GMT-14',\n",
       " 'Etc/GMT-2',\n",
       " 'Etc/GMT-3',\n",
       " 'Etc/GMT-4',\n",
       " 'Etc/GMT-5',\n",
       " 'Etc/GMT-6',\n",
       " 'Etc/GMT-7',\n",
       " 'Etc/GMT-8',\n",
       " 'Etc/GMT-9',\n",
       " 'Etc/GMT0',\n",
       " 'Etc/Greenwich',\n",
       " 'Etc/UCT',\n",
       " 'Etc/UTC',\n",
       " 'Etc/Universal',\n",
       " 'Etc/Zulu',\n",
       " 'Europe/Amsterdam',\n",
       " 'Europe/Andorra',\n",
       " 'Europe/Astrakhan',\n",
       " 'Europe/Athens',\n",
       " 'Europe/Belfast',\n",
       " 'Europe/Belgrade',\n",
       " 'Europe/Berlin',\n",
       " 'Europe/Bratislava',\n",
       " 'Europe/Brussels',\n",
       " 'Europe/Bucharest',\n",
       " 'Europe/Budapest',\n",
       " 'Europe/Busingen',\n",
       " 'Europe/Chisinau',\n",
       " 'Europe/Copenhagen',\n",
       " 'Europe/Dublin',\n",
       " 'Europe/Gibraltar',\n",
       " 'Europe/Guernsey',\n",
       " 'Europe/Helsinki',\n",
       " 'Europe/Isle_of_Man',\n",
       " 'Europe/Istanbul',\n",
       " 'Europe/Jersey',\n",
       " 'Europe/Kaliningrad',\n",
       " 'Europe/Kiev',\n",
       " 'Europe/Kirov',\n",
       " 'Europe/Kyiv',\n",
       " 'Europe/Lisbon',\n",
       " 'Europe/Ljubljana',\n",
       " 'Europe/London',\n",
       " 'Europe/Luxembourg',\n",
       " 'Europe/Madrid',\n",
       " 'Europe/Malta',\n",
       " 'Europe/Mariehamn',\n",
       " 'Europe/Minsk',\n",
       " 'Europe/Monaco',\n",
       " 'Europe/Moscow',\n",
       " 'Europe/Nicosia',\n",
       " 'Europe/Oslo',\n",
       " 'Europe/Paris',\n",
       " 'Europe/Podgorica',\n",
       " 'Europe/Prague',\n",
       " 'Europe/Riga',\n",
       " 'Europe/Rome',\n",
       " 'Europe/Samara',\n",
       " 'Europe/San_Marino',\n",
       " 'Europe/Sarajevo',\n",
       " 'Europe/Saratov',\n",
       " 'Europe/Simferopol',\n",
       " 'Europe/Skopje',\n",
       " 'Europe/Sofia',\n",
       " 'Europe/Stockholm',\n",
       " 'Europe/Tallinn',\n",
       " 'Europe/Tirane',\n",
       " 'Europe/Tiraspol',\n",
       " 'Europe/Ulyanovsk',\n",
       " 'Europe/Uzhgorod',\n",
       " 'Europe/Vaduz',\n",
       " 'Europe/Vatican',\n",
       " 'Europe/Vienna',\n",
       " 'Europe/Vilnius',\n",
       " 'Europe/Volgograd',\n",
       " 'Europe/Warsaw',\n",
       " 'Europe/Zagreb',\n",
       " 'Europe/Zaporozhye',\n",
       " 'Europe/Zurich',\n",
       " 'GB',\n",
       " 'GB-Eire',\n",
       " 'GMT',\n",
       " 'GMT+0',\n",
       " 'GMT-0',\n",
       " 'GMT0',\n",
       " 'Greenwich',\n",
       " 'HST',\n",
       " 'Hongkong',\n",
       " 'Iceland',\n",
       " 'Indian/Antananarivo',\n",
       " 'Indian/Chagos',\n",
       " 'Indian/Christmas',\n",
       " 'Indian/Cocos',\n",
       " 'Indian/Comoro',\n",
       " 'Indian/Kerguelen',\n",
       " 'Indian/Mahe',\n",
       " 'Indian/Maldives',\n",
       " 'Indian/Mauritius',\n",
       " 'Indian/Mayotte',\n",
       " 'Indian/Reunion',\n",
       " 'Iran',\n",
       " 'Israel',\n",
       " 'Jamaica',\n",
       " 'Japan',\n",
       " 'Kwajalein',\n",
       " 'Libya',\n",
       " 'MET',\n",
       " 'MST',\n",
       " 'MST7MDT',\n",
       " 'Mexico/BajaNorte',\n",
       " 'Mexico/BajaSur',\n",
       " 'Mexico/General',\n",
       " 'NZ',\n",
       " 'NZ-CHAT',\n",
       " 'Navajo',\n",
       " 'PRC',\n",
       " 'PST8PDT',\n",
       " 'Pacific/Apia',\n",
       " 'Pacific/Auckland',\n",
       " 'Pacific/Bougainville',\n",
       " 'Pacific/Chatham',\n",
       " 'Pacific/Chuuk',\n",
       " 'Pacific/Easter',\n",
       " 'Pacific/Efate',\n",
       " 'Pacific/Enderbury',\n",
       " 'Pacific/Fakaofo',\n",
       " 'Pacific/Fiji',\n",
       " 'Pacific/Funafuti',\n",
       " 'Pacific/Galapagos',\n",
       " 'Pacific/Gambier',\n",
       " 'Pacific/Guadalcanal',\n",
       " 'Pacific/Guam',\n",
       " 'Pacific/Honolulu',\n",
       " 'Pacific/Johnston',\n",
       " 'Pacific/Kanton',\n",
       " 'Pacific/Kiritimati',\n",
       " 'Pacific/Kosrae',\n",
       " 'Pacific/Kwajalein',\n",
       " 'Pacific/Majuro',\n",
       " 'Pacific/Marquesas',\n",
       " 'Pacific/Midway',\n",
       " 'Pacific/Nauru',\n",
       " 'Pacific/Niue',\n",
       " 'Pacific/Norfolk',\n",
       " 'Pacific/Noumea',\n",
       " 'Pacific/Pago_Pago',\n",
       " 'Pacific/Palau',\n",
       " 'Pacific/Pitcairn',\n",
       " 'Pacific/Pohnpei',\n",
       " 'Pacific/Ponape',\n",
       " 'Pacific/Port_Moresby',\n",
       " 'Pacific/Rarotonga',\n",
       " 'Pacific/Saipan',\n",
       " 'Pacific/Samoa',\n",
       " 'Pacific/Tahiti',\n",
       " 'Pacific/Tarawa',\n",
       " 'Pacific/Tongatapu',\n",
       " 'Pacific/Truk',\n",
       " 'Pacific/Wake',\n",
       " 'Pacific/Wallis',\n",
       " 'Pacific/Yap',\n",
       " 'Poland',\n",
       " 'Portugal',\n",
       " 'ROC',\n",
       " 'ROK',\n",
       " 'Singapore',\n",
       " 'Turkey',\n",
       " 'UCT',\n",
       " 'US/Alaska',\n",
       " 'US/Aleutian',\n",
       " 'US/Arizona',\n",
       " 'US/Central',\n",
       " 'US/East-Indiana',\n",
       " 'US/Eastern',\n",
       " 'US/Hawaii',\n",
       " 'US/Indiana-Starke',\n",
       " 'US/Michigan',\n",
       " 'US/Mountain',\n",
       " 'US/Pacific',\n",
       " 'US/Samoa',\n",
       " 'UTC',\n",
       " 'Universal',\n",
       " 'W-SU',\n",
       " 'WET',\n",
       " 'Zulu']"
      ]
     },
     "execution_count": 251,
     "metadata": {},
     "output_type": "execute_result"
    }
   ],
   "source": [
    "from pytz import all_timezones\n",
    "all_timezones"
   ]
  },
  {
   "cell_type": "markdown",
   "id": "abb7cc8d-2193-45fb-a496-183b32601b62",
   "metadata": {},
   "source": [
    "<hr style='border-top: 2px solid #4DFFD7'>"
   ]
  },
  {
   "cell_type": "markdown",
   "id": "3fc63348-b77a-411d-87df-d7ea37579478",
   "metadata": {},
   "source": [
    "# Pandas_22 Shifting and Lagging\n",
    "<hr style='border-top: 2px solid #4DFFD7'>"
   ]
  },
  {
   "cell_type": "code",
   "execution_count": 278,
   "id": "335ebdd9-18b0-4c46-b06c-cf53f36f5b13",
   "metadata": {},
   "outputs": [
    {
     "data": {
      "text/html": [
       "<iframe width=\"560\" height=\"315\" src=\"https://www.youtube.com/embed/0lsmdNLNorY?si=0zGsEMu7S4EvFF3D\" title=\"YouTube video player\" frameborder=\"0\" allow=\"accelerometer; autoplay; clipboard-write; encrypted-media; gyroscope; picture-in-picture; web-share\" referrerpolicy=\"strict-origin-when-cross-origin\" allowfullscreen></iframe>\n"
      ],
      "text/plain": [
       "<IPython.core.display.HTML object>"
      ]
     },
     "metadata": {},
     "output_type": "display_data"
    }
   ],
   "source": [
    "%%HTML\n",
    "<iframe width=\"560\" height=\"315\" src=\"https://www.youtube.com/embed/0lsmdNLNorY?si=0zGsEMu7S4EvFF3D\" title=\"YouTube video player\" frameborder=\"0\" allow=\"accelerometer; autoplay; clipboard-write; encrypted-media; gyroscope; picture-in-picture; web-share\" referrerpolicy=\"strict-origin-when-cross-origin\" allowfullscreen></iframe>"
   ]
  },
  {
   "cell_type": "code",
   "execution_count": 259,
   "id": "65aa167d-dbb5-444d-9bb6-baa32aace64d",
   "metadata": {},
   "outputs": [
    {
     "data": {
      "text/html": [
       "<div>\n",
       "<style scoped>\n",
       "    .dataframe tbody tr th:only-of-type {\n",
       "        vertical-align: middle;\n",
       "    }\n",
       "\n",
       "    .dataframe tbody tr th {\n",
       "        vertical-align: top;\n",
       "    }\n",
       "\n",
       "    .dataframe thead th {\n",
       "        text-align: right;\n",
       "    }\n",
       "</style>\n",
       "<table border=\"1\" class=\"dataframe\">\n",
       "  <thead>\n",
       "    <tr style=\"text-align: right;\">\n",
       "      <th></th>\n",
       "      <th>Date</th>\n",
       "      <th>Price</th>\n",
       "    </tr>\n",
       "  </thead>\n",
       "  <tbody>\n",
       "    <tr>\n",
       "      <th>0</th>\n",
       "      <td>2017-08-15</td>\n",
       "      <td>171.00</td>\n",
       "    </tr>\n",
       "    <tr>\n",
       "      <th>1</th>\n",
       "      <td>2017-08-16</td>\n",
       "      <td>170.00</td>\n",
       "    </tr>\n",
       "    <tr>\n",
       "      <th>2</th>\n",
       "      <td>2017-08-17</td>\n",
       "      <td>166.91</td>\n",
       "    </tr>\n",
       "    <tr>\n",
       "      <th>3</th>\n",
       "      <td>2017-08-18</td>\n",
       "      <td>167.41</td>\n",
       "    </tr>\n",
       "    <tr>\n",
       "      <th>4</th>\n",
       "      <td>2017-08-21</td>\n",
       "      <td>167.78</td>\n",
       "    </tr>\n",
       "    <tr>\n",
       "      <th>5</th>\n",
       "      <td>2017-08-22</td>\n",
       "      <td>169.64</td>\n",
       "    </tr>\n",
       "    <tr>\n",
       "      <th>6</th>\n",
       "      <td>2017-08-23</td>\n",
       "      <td>168.71</td>\n",
       "    </tr>\n",
       "    <tr>\n",
       "      <th>7</th>\n",
       "      <td>2017-08-24</td>\n",
       "      <td>167.74</td>\n",
       "    </tr>\n",
       "    <tr>\n",
       "      <th>8</th>\n",
       "      <td>2017-08-25</td>\n",
       "      <td>166.32</td>\n",
       "    </tr>\n",
       "    <tr>\n",
       "      <th>9</th>\n",
       "      <td>2017-08-28</td>\n",
       "      <td>167.24</td>\n",
       "    </tr>\n",
       "  </tbody>\n",
       "</table>\n",
       "</div>"
      ],
      "text/plain": [
       "         Date   Price\n",
       "0  2017-08-15  171.00\n",
       "1  2017-08-16  170.00\n",
       "2  2017-08-17  166.91\n",
       "3  2017-08-18  167.41\n",
       "4  2017-08-21  167.78\n",
       "5  2017-08-22  169.64\n",
       "6  2017-08-23  168.71\n",
       "7  2017-08-24  167.74\n",
       "8  2017-08-25  166.32\n",
       "9  2017-08-28  167.24"
      ]
     },
     "execution_count": 259,
     "metadata": {},
     "output_type": "execute_result"
    }
   ],
   "source": [
    "import pandas as pd\n",
    "\n",
    "# Create the data for the first table\n",
    "data1 = {\n",
    "    \"Date\": [\"2017-08-15\", \"2017-08-16\", \"2017-08-17\",\n",
    "             \"2017-08-18\", \"2017-08-21\", \"2017-08-22\", \n",
    "             \"2017-08-23\", \"2017-08-24\", \"2017-08-25\", \"2017-08-28\"],\n",
    "    \"Price\": [171.00, 170.00, 166.91, 167.41, 167.78, 169.64, 168.71, 167.74, 166.32, 167.24]\n",
    "}\n",
    "\n",
    "# Create a DataFrame for the first table\n",
    "df8 = pd.DataFrame(data1)\n",
    "df8"
   ]
  },
  {
   "cell_type": "code",
   "execution_count": 260,
   "id": "38bd0055-47ec-4645-a148-16f64d4903f3",
   "metadata": {},
   "outputs": [
    {
     "data": {
      "text/plain": [
       "str"
      ]
     },
     "execution_count": 260,
     "metadata": {},
     "output_type": "execute_result"
    }
   ],
   "source": [
    "type(df8['Date'][0])"
   ]
  },
  {
   "cell_type": "code",
   "execution_count": 261,
   "id": "42aa0958-f81e-4520-8f9c-d40e0d043e3e",
   "metadata": {},
   "outputs": [],
   "source": [
    "df8['Date']=pd.to_datetime(df8['Date'])"
   ]
  },
  {
   "cell_type": "code",
   "execution_count": 262,
   "id": "5fbb3c23-5cc8-48af-aa65-cff6f0f4211b",
   "metadata": {},
   "outputs": [
    {
     "data": {
      "text/plain": [
       "pandas._libs.tslibs.timestamps.Timestamp"
      ]
     },
     "execution_count": 262,
     "metadata": {},
     "output_type": "execute_result"
    }
   ],
   "source": [
    "type(df8['Date'][0])"
   ]
  },
  {
   "cell_type": "code",
   "execution_count": 263,
   "id": "7f9e08a6-2ec6-4ef6-9497-7e6f84f30e4e",
   "metadata": {},
   "outputs": [
    {
     "data": {
      "text/html": [
       "<div>\n",
       "<style scoped>\n",
       "    .dataframe tbody tr th:only-of-type {\n",
       "        vertical-align: middle;\n",
       "    }\n",
       "\n",
       "    .dataframe tbody tr th {\n",
       "        vertical-align: top;\n",
       "    }\n",
       "\n",
       "    .dataframe thead th {\n",
       "        text-align: right;\n",
       "    }\n",
       "</style>\n",
       "<table border=\"1\" class=\"dataframe\">\n",
       "  <thead>\n",
       "    <tr style=\"text-align: right;\">\n",
       "      <th></th>\n",
       "      <th>Price</th>\n",
       "    </tr>\n",
       "    <tr>\n",
       "      <th>Date</th>\n",
       "      <th></th>\n",
       "    </tr>\n",
       "  </thead>\n",
       "  <tbody>\n",
       "    <tr>\n",
       "      <th>2017-08-15</th>\n",
       "      <td>171.00</td>\n",
       "    </tr>\n",
       "    <tr>\n",
       "      <th>2017-08-16</th>\n",
       "      <td>170.00</td>\n",
       "    </tr>\n",
       "    <tr>\n",
       "      <th>2017-08-17</th>\n",
       "      <td>166.91</td>\n",
       "    </tr>\n",
       "    <tr>\n",
       "      <th>2017-08-18</th>\n",
       "      <td>167.41</td>\n",
       "    </tr>\n",
       "    <tr>\n",
       "      <th>2017-08-21</th>\n",
       "      <td>167.78</td>\n",
       "    </tr>\n",
       "    <tr>\n",
       "      <th>2017-08-22</th>\n",
       "      <td>169.64</td>\n",
       "    </tr>\n",
       "    <tr>\n",
       "      <th>2017-08-23</th>\n",
       "      <td>168.71</td>\n",
       "    </tr>\n",
       "    <tr>\n",
       "      <th>2017-08-24</th>\n",
       "      <td>167.74</td>\n",
       "    </tr>\n",
       "    <tr>\n",
       "      <th>2017-08-25</th>\n",
       "      <td>166.32</td>\n",
       "    </tr>\n",
       "    <tr>\n",
       "      <th>2017-08-28</th>\n",
       "      <td>167.24</td>\n",
       "    </tr>\n",
       "  </tbody>\n",
       "</table>\n",
       "</div>"
      ],
      "text/plain": [
       "             Price\n",
       "Date              \n",
       "2017-08-15  171.00\n",
       "2017-08-16  170.00\n",
       "2017-08-17  166.91\n",
       "2017-08-18  167.41\n",
       "2017-08-21  167.78\n",
       "2017-08-22  169.64\n",
       "2017-08-23  168.71\n",
       "2017-08-24  167.74\n",
       "2017-08-25  166.32\n",
       "2017-08-28  167.24"
      ]
     },
     "execution_count": 263,
     "metadata": {},
     "output_type": "execute_result"
    }
   ],
   "source": [
    "df8.set_index(\"Date\",inplace=True)\n",
    "df8"
   ]
  },
  {
   "cell_type": "code",
   "execution_count": 269,
   "id": "f8e2fcf5-a70f-4d06-9888-1d183bd99ac2",
   "metadata": {},
   "outputs": [
    {
     "data": {
      "text/html": [
       "<div>\n",
       "<style scoped>\n",
       "    .dataframe tbody tr th:only-of-type {\n",
       "        vertical-align: middle;\n",
       "    }\n",
       "\n",
       "    .dataframe tbody tr th {\n",
       "        vertical-align: top;\n",
       "    }\n",
       "\n",
       "    .dataframe thead th {\n",
       "        text-align: right;\n",
       "    }\n",
       "</style>\n",
       "<table border=\"1\" class=\"dataframe\">\n",
       "  <thead>\n",
       "    <tr style=\"text-align: right;\">\n",
       "      <th></th>\n",
       "      <th>Price</th>\n",
       "    </tr>\n",
       "    <tr>\n",
       "      <th>Date</th>\n",
       "      <th></th>\n",
       "    </tr>\n",
       "  </thead>\n",
       "  <tbody>\n",
       "    <tr>\n",
       "      <th>2017-08-15</th>\n",
       "      <td>NaN</td>\n",
       "    </tr>\n",
       "    <tr>\n",
       "      <th>2017-08-16</th>\n",
       "      <td>171.00</td>\n",
       "    </tr>\n",
       "    <tr>\n",
       "      <th>2017-08-17</th>\n",
       "      <td>170.00</td>\n",
       "    </tr>\n",
       "    <tr>\n",
       "      <th>2017-08-18</th>\n",
       "      <td>166.91</td>\n",
       "    </tr>\n",
       "    <tr>\n",
       "      <th>2017-08-21</th>\n",
       "      <td>167.41</td>\n",
       "    </tr>\n",
       "    <tr>\n",
       "      <th>2017-08-22</th>\n",
       "      <td>167.78</td>\n",
       "    </tr>\n",
       "    <tr>\n",
       "      <th>2017-08-23</th>\n",
       "      <td>169.64</td>\n",
       "    </tr>\n",
       "    <tr>\n",
       "      <th>2017-08-24</th>\n",
       "      <td>168.71</td>\n",
       "    </tr>\n",
       "    <tr>\n",
       "      <th>2017-08-25</th>\n",
       "      <td>167.74</td>\n",
       "    </tr>\n",
       "    <tr>\n",
       "      <th>2017-08-28</th>\n",
       "      <td>166.32</td>\n",
       "    </tr>\n",
       "  </tbody>\n",
       "</table>\n",
       "</div>"
      ],
      "text/plain": [
       "             Price\n",
       "Date              \n",
       "2017-08-15     NaN\n",
       "2017-08-16  171.00\n",
       "2017-08-17  170.00\n",
       "2017-08-18  166.91\n",
       "2017-08-21  167.41\n",
       "2017-08-22  167.78\n",
       "2017-08-23  169.64\n",
       "2017-08-24  168.71\n",
       "2017-08-25  167.74\n",
       "2017-08-28  166.32"
      ]
     },
     "execution_count": 269,
     "metadata": {},
     "output_type": "execute_result"
    }
   ],
   "source": [
    "df8.shift(1)"
   ]
  },
  {
   "cell_type": "code",
   "execution_count": 270,
   "id": "cd2fc49a-9069-4afb-919e-08e998f5a5d9",
   "metadata": {},
   "outputs": [
    {
     "data": {
      "text/html": [
       "<div>\n",
       "<style scoped>\n",
       "    .dataframe tbody tr th:only-of-type {\n",
       "        vertical-align: middle;\n",
       "    }\n",
       "\n",
       "    .dataframe tbody tr th {\n",
       "        vertical-align: top;\n",
       "    }\n",
       "\n",
       "    .dataframe thead th {\n",
       "        text-align: right;\n",
       "    }\n",
       "</style>\n",
       "<table border=\"1\" class=\"dataframe\">\n",
       "  <thead>\n",
       "    <tr style=\"text-align: right;\">\n",
       "      <th></th>\n",
       "      <th>Price</th>\n",
       "    </tr>\n",
       "    <tr>\n",
       "      <th>Date</th>\n",
       "      <th></th>\n",
       "    </tr>\n",
       "  </thead>\n",
       "  <tbody>\n",
       "    <tr>\n",
       "      <th>2017-08-15</th>\n",
       "      <td>170.00</td>\n",
       "    </tr>\n",
       "    <tr>\n",
       "      <th>2017-08-16</th>\n",
       "      <td>166.91</td>\n",
       "    </tr>\n",
       "    <tr>\n",
       "      <th>2017-08-17</th>\n",
       "      <td>167.41</td>\n",
       "    </tr>\n",
       "    <tr>\n",
       "      <th>2017-08-18</th>\n",
       "      <td>167.78</td>\n",
       "    </tr>\n",
       "    <tr>\n",
       "      <th>2017-08-21</th>\n",
       "      <td>169.64</td>\n",
       "    </tr>\n",
       "    <tr>\n",
       "      <th>2017-08-22</th>\n",
       "      <td>168.71</td>\n",
       "    </tr>\n",
       "    <tr>\n",
       "      <th>2017-08-23</th>\n",
       "      <td>167.74</td>\n",
       "    </tr>\n",
       "    <tr>\n",
       "      <th>2017-08-24</th>\n",
       "      <td>166.32</td>\n",
       "    </tr>\n",
       "    <tr>\n",
       "      <th>2017-08-25</th>\n",
       "      <td>167.24</td>\n",
       "    </tr>\n",
       "    <tr>\n",
       "      <th>2017-08-28</th>\n",
       "      <td>NaN</td>\n",
       "    </tr>\n",
       "  </tbody>\n",
       "</table>\n",
       "</div>"
      ],
      "text/plain": [
       "             Price\n",
       "Date              \n",
       "2017-08-15  170.00\n",
       "2017-08-16  166.91\n",
       "2017-08-17  167.41\n",
       "2017-08-18  167.78\n",
       "2017-08-21  169.64\n",
       "2017-08-22  168.71\n",
       "2017-08-23  167.74\n",
       "2017-08-24  166.32\n",
       "2017-08-25  167.24\n",
       "2017-08-28     NaN"
      ]
     },
     "execution_count": 270,
     "metadata": {},
     "output_type": "execute_result"
    }
   ],
   "source": [
    "df8.shift(-1)"
   ]
  },
  {
   "cell_type": "code",
   "execution_count": 272,
   "id": "11b52bdc-d7e2-48d8-a46e-2fe27f716fe5",
   "metadata": {},
   "outputs": [],
   "source": [
    "df8['Previous Day Price']=df8['Price'].shift(1)"
   ]
  },
  {
   "cell_type": "code",
   "execution_count": 274,
   "id": "a4ae7f55-d394-44e6-a9eb-d0cea8d7de2b",
   "metadata": {},
   "outputs": [
    {
     "data": {
      "text/html": [
       "<div>\n",
       "<style scoped>\n",
       "    .dataframe tbody tr th:only-of-type {\n",
       "        vertical-align: middle;\n",
       "    }\n",
       "\n",
       "    .dataframe tbody tr th {\n",
       "        vertical-align: top;\n",
       "    }\n",
       "\n",
       "    .dataframe thead th {\n",
       "        text-align: right;\n",
       "    }\n",
       "</style>\n",
       "<table border=\"1\" class=\"dataframe\">\n",
       "  <thead>\n",
       "    <tr style=\"text-align: right;\">\n",
       "      <th></th>\n",
       "      <th>Price</th>\n",
       "      <th>Previous Day Price</th>\n",
       "    </tr>\n",
       "    <tr>\n",
       "      <th>Date</th>\n",
       "      <th></th>\n",
       "      <th></th>\n",
       "    </tr>\n",
       "  </thead>\n",
       "  <tbody>\n",
       "    <tr>\n",
       "      <th>2017-08-15</th>\n",
       "      <td>171.00</td>\n",
       "      <td>NaN</td>\n",
       "    </tr>\n",
       "    <tr>\n",
       "      <th>2017-08-16</th>\n",
       "      <td>170.00</td>\n",
       "      <td>171.00</td>\n",
       "    </tr>\n",
       "    <tr>\n",
       "      <th>2017-08-17</th>\n",
       "      <td>166.91</td>\n",
       "      <td>170.00</td>\n",
       "    </tr>\n",
       "    <tr>\n",
       "      <th>2017-08-18</th>\n",
       "      <td>167.41</td>\n",
       "      <td>166.91</td>\n",
       "    </tr>\n",
       "    <tr>\n",
       "      <th>2017-08-21</th>\n",
       "      <td>167.78</td>\n",
       "      <td>167.41</td>\n",
       "    </tr>\n",
       "    <tr>\n",
       "      <th>2017-08-22</th>\n",
       "      <td>169.64</td>\n",
       "      <td>167.78</td>\n",
       "    </tr>\n",
       "    <tr>\n",
       "      <th>2017-08-23</th>\n",
       "      <td>168.71</td>\n",
       "      <td>169.64</td>\n",
       "    </tr>\n",
       "    <tr>\n",
       "      <th>2017-08-24</th>\n",
       "      <td>167.74</td>\n",
       "      <td>168.71</td>\n",
       "    </tr>\n",
       "    <tr>\n",
       "      <th>2017-08-25</th>\n",
       "      <td>166.32</td>\n",
       "      <td>167.74</td>\n",
       "    </tr>\n",
       "    <tr>\n",
       "      <th>2017-08-28</th>\n",
       "      <td>167.24</td>\n",
       "      <td>166.32</td>\n",
       "    </tr>\n",
       "  </tbody>\n",
       "</table>\n",
       "</div>"
      ],
      "text/plain": [
       "             Price  Previous Day Price\n",
       "Date                                  \n",
       "2017-08-15  171.00                 NaN\n",
       "2017-08-16  170.00              171.00\n",
       "2017-08-17  166.91              170.00\n",
       "2017-08-18  167.41              166.91\n",
       "2017-08-21  167.78              167.41\n",
       "2017-08-22  169.64              167.78\n",
       "2017-08-23  168.71              169.64\n",
       "2017-08-24  167.74              168.71\n",
       "2017-08-25  166.32              167.74\n",
       "2017-08-28  167.24              166.32"
      ]
     },
     "execution_count": 274,
     "metadata": {},
     "output_type": "execute_result"
    }
   ],
   "source": [
    "df8"
   ]
  },
  {
   "cell_type": "code",
   "execution_count": 277,
   "id": "76ff5bdb-73fc-4cb0-8da7-a4c7e8768013",
   "metadata": {},
   "outputs": [
    {
     "data": {
      "text/html": [
       "<div>\n",
       "<style scoped>\n",
       "    .dataframe tbody tr th:only-of-type {\n",
       "        vertical-align: middle;\n",
       "    }\n",
       "\n",
       "    .dataframe tbody tr th {\n",
       "        vertical-align: top;\n",
       "    }\n",
       "\n",
       "    .dataframe thead th {\n",
       "        text-align: right;\n",
       "    }\n",
       "</style>\n",
       "<table border=\"1\" class=\"dataframe\">\n",
       "  <thead>\n",
       "    <tr style=\"text-align: right;\">\n",
       "      <th></th>\n",
       "      <th>Price</th>\n",
       "      <th>Previous Day Price</th>\n",
       "      <th>Difference</th>\n",
       "    </tr>\n",
       "    <tr>\n",
       "      <th>Date</th>\n",
       "      <th></th>\n",
       "      <th></th>\n",
       "      <th></th>\n",
       "    </tr>\n",
       "  </thead>\n",
       "  <tbody>\n",
       "    <tr>\n",
       "      <th>2017-08-15</th>\n",
       "      <td>171.00</td>\n",
       "      <td>NaN</td>\n",
       "      <td>NaN</td>\n",
       "    </tr>\n",
       "    <tr>\n",
       "      <th>2017-08-16</th>\n",
       "      <td>170.00</td>\n",
       "      <td>171.00</td>\n",
       "      <td>-1.00</td>\n",
       "    </tr>\n",
       "    <tr>\n",
       "      <th>2017-08-17</th>\n",
       "      <td>166.91</td>\n",
       "      <td>170.00</td>\n",
       "      <td>-3.09</td>\n",
       "    </tr>\n",
       "    <tr>\n",
       "      <th>2017-08-18</th>\n",
       "      <td>167.41</td>\n",
       "      <td>166.91</td>\n",
       "      <td>0.50</td>\n",
       "    </tr>\n",
       "    <tr>\n",
       "      <th>2017-08-21</th>\n",
       "      <td>167.78</td>\n",
       "      <td>167.41</td>\n",
       "      <td>0.37</td>\n",
       "    </tr>\n",
       "    <tr>\n",
       "      <th>2017-08-22</th>\n",
       "      <td>169.64</td>\n",
       "      <td>167.78</td>\n",
       "      <td>1.86</td>\n",
       "    </tr>\n",
       "    <tr>\n",
       "      <th>2017-08-23</th>\n",
       "      <td>168.71</td>\n",
       "      <td>169.64</td>\n",
       "      <td>-0.93</td>\n",
       "    </tr>\n",
       "    <tr>\n",
       "      <th>2017-08-24</th>\n",
       "      <td>167.74</td>\n",
       "      <td>168.71</td>\n",
       "      <td>-0.97</td>\n",
       "    </tr>\n",
       "    <tr>\n",
       "      <th>2017-08-25</th>\n",
       "      <td>166.32</td>\n",
       "      <td>167.74</td>\n",
       "      <td>-1.42</td>\n",
       "    </tr>\n",
       "    <tr>\n",
       "      <th>2017-08-28</th>\n",
       "      <td>167.24</td>\n",
       "      <td>166.32</td>\n",
       "      <td>0.92</td>\n",
       "    </tr>\n",
       "  </tbody>\n",
       "</table>\n",
       "</div>"
      ],
      "text/plain": [
       "             Price  Previous Day Price  Difference\n",
       "Date                                              \n",
       "2017-08-15  171.00                 NaN         NaN\n",
       "2017-08-16  170.00              171.00       -1.00\n",
       "2017-08-17  166.91              170.00       -3.09\n",
       "2017-08-18  167.41              166.91        0.50\n",
       "2017-08-21  167.78              167.41        0.37\n",
       "2017-08-22  169.64              167.78        1.86\n",
       "2017-08-23  168.71              169.64       -0.93\n",
       "2017-08-24  167.74              168.71       -0.97\n",
       "2017-08-25  166.32              167.74       -1.42\n",
       "2017-08-28  167.24              166.32        0.92"
      ]
     },
     "execution_count": 277,
     "metadata": {},
     "output_type": "execute_result"
    }
   ],
   "source": [
    "df8['Difference']=df8['Price']-df8['Previous Day Price']\n",
    "df8"
   ]
  },
  {
   "cell_type": "markdown",
   "id": "c0f435c7-c684-45ea-b593-923c18418948",
   "metadata": {},
   "source": [
    "***the end***"
   ]
  }
 ],
 "metadata": {
  "kernelspec": {
   "display_name": "Python 3 (ipykernel)",
   "language": "python",
   "name": "python3"
  },
  "language_info": {
   "codemirror_mode": {
    "name": "ipython",
    "version": 3
   },
   "file_extension": ".py",
   "mimetype": "text/x-python",
   "name": "python",
   "nbconvert_exporter": "python",
   "pygments_lexer": "ipython3",
   "version": "3.12.3"
  }
 },
 "nbformat": 4,
 "nbformat_minor": 5
}
